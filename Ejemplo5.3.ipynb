{
 "cells": [
  {
   "cell_type": "code",
   "execution_count": 1,
   "id": "4e76a135",
   "metadata": {},
   "outputs": [],
   "source": [
    "import Motoresdecombustioninterna as th"
   ]
  },
  {
   "cell_type": "markdown",
   "id": "9832c543",
   "metadata": {},
   "source": [
    "## DEFINICIÓN DE VALORES"
   ]
  },
  {
   "cell_type": "code",
   "execution_count": 3,
   "id": "e61612c8",
   "metadata": {},
   "outputs": [],
   "source": [
    "t1=288 #K\n",
    "nc=0.87 #Eficiencia de compresor\n",
    "ntg=0.89 #Eficiencia de turbina de gas\n",
    "ntp=0.89 #Eficiencia de turbina de potencia\n",
    "rp=12\n",
    "t3=1400 #K\n",
    "p1=101.3 #Kpa\n",
    "p5=101.3 #Kpa"
   ]
  },
  {
   "cell_type": "markdown",
   "id": "fb625dea",
   "metadata": {},
   "source": [
    "## VALORES A BUSCAR"
   ]
  },
  {
   "cell_type": "markdown",
   "id": "ef7cfc66",
   "metadata": {},
   "source": [
    "a)La presión y la temperatura a la salida de la turbina generadora de gas.\n",
    "\n",
    "AKA. p4 y t4\n",
    "\n",
    "b)El trabajo neto, el calor agregado y la eficiencia térmica del ciclo, suponiendo que\n",
    "no hay caída de presión durante el proceso de adición del calor y que la presión\n",
    "en la salida de la turbina de potencia es de 101.3 kPa\n",
    "\n",
    "AKA. wneto, qsum, nt, suponer que p2=p3, p5=101.3kPa\n",
    "\n",
    "c) El trabajo neto, el calor agregado y la eficiencia térmica del ciclo, si hay una caída\n",
    "del 3% en la cámara de combustión y la presión a la salida de la turbina de poten-\n",
    "cia es del 1% por encima de la presión de entrada al compresor.\n",
    "\n",
    "AKA. wneto,qsum,nt, suponer que p3=0.97p2, p5=1.01p1"
   ]
  },
  {
   "cell_type": "markdown",
   "id": "c8557e28",
   "metadata": {},
   "source": [
    "# Interpolaciones\n",
    "La función para interpolar puede ser escrito con\n",
    "\n",
    "th.TemperaturaSI(temperaturabuscada)"
   ]
  },
  {
   "cell_type": "code",
   "execution_count": 4,
   "id": "6e6668fc",
   "metadata": {},
   "outputs": [
    {
     "data": {
      "text/html": [
       "<div>\n",
       "<style scoped>\n",
       "    .dataframe tbody tr th:only-of-type {\n",
       "        vertical-align: middle;\n",
       "    }\n",
       "\n",
       "    .dataframe tbody tr th {\n",
       "        vertical-align: top;\n",
       "    }\n",
       "\n",
       "    .dataframe thead th {\n",
       "        text-align: right;\n",
       "    }\n",
       "</style>\n",
       "<table border=\"1\" class=\"dataframe\">\n",
       "  <thead>\n",
       "    <tr style=\"text-align: right;\">\n",
       "      <th></th>\n",
       "      <th>Cp(kJ/kmol*K)</th>\n",
       "      <th>h(kJ/kmol)</th>\n",
       "      <th>s(kJ/kmol*K)</th>\n",
       "      <th>Pr</th>\n",
       "    </tr>\n",
       "    <tr>\n",
       "      <th>Temperatura(K)</th>\n",
       "      <th></th>\n",
       "      <th></th>\n",
       "      <th></th>\n",
       "      <th></th>\n",
       "    </tr>\n",
       "  </thead>\n",
       "  <tbody>\n",
       "    <tr>\n",
       "      <th>280.0</th>\n",
       "      <td>29.0890</td>\n",
       "      <td>-646.10</td>\n",
       "      <td>192.1720</td>\n",
       "      <td>1.09140</td>\n",
       "    </tr>\n",
       "    <tr>\n",
       "      <th>288.0</th>\n",
       "      <td>29.0938</td>\n",
       "      <td>-413.38</td>\n",
       "      <td>192.9888</td>\n",
       "      <td>1.20548</td>\n",
       "    </tr>\n",
       "    <tr>\n",
       "      <th>290.0</th>\n",
       "      <td>29.0950</td>\n",
       "      <td>-355.20</td>\n",
       "      <td>193.1930</td>\n",
       "      <td>1.23400</td>\n",
       "    </tr>\n",
       "  </tbody>\n",
       "</table>\n",
       "</div>"
      ],
      "text/plain": [
       "                Cp(kJ/kmol*K)  h(kJ/kmol)  s(kJ/kmol*K)       Pr\n",
       "Temperatura(K)                                                  \n",
       "280.0                 29.0890     -646.10      192.1720  1.09140\n",
       "288.0                 29.0938     -413.38      192.9888  1.20548\n",
       "290.0                 29.0950     -355.20      193.1930  1.23400"
      ]
     },
     "execution_count": 4,
     "metadata": {},
     "output_type": "execute_result"
    }
   ],
   "source": [
    "th.TemperaturaSI(t1)"
   ]
  },
  {
   "cell_type": "code",
   "execution_count": 5,
   "id": "c98672ff",
   "metadata": {},
   "outputs": [
    {
     "data": {
      "text/html": [
       "<div>\n",
       "<style scoped>\n",
       "    .dataframe tbody tr th:only-of-type {\n",
       "        vertical-align: middle;\n",
       "    }\n",
       "\n",
       "    .dataframe tbody tr th {\n",
       "        vertical-align: top;\n",
       "    }\n",
       "\n",
       "    .dataframe thead th {\n",
       "        text-align: right;\n",
       "    }\n",
       "</style>\n",
       "<table border=\"1\" class=\"dataframe\">\n",
       "  <thead>\n",
       "    <tr style=\"text-align: right;\">\n",
       "      <th></th>\n",
       "      <th>Cp(kJ/kmol*K)</th>\n",
       "      <th>h(kJ/kmol)</th>\n",
       "      <th>s(kJ/kmol*K)</th>\n",
       "      <th>Pr</th>\n",
       "    </tr>\n",
       "    <tr>\n",
       "      <th>Temperatura(K)</th>\n",
       "      <th></th>\n",
       "      <th></th>\n",
       "      <th></th>\n",
       "      <th></th>\n",
       "    </tr>\n",
       "  </thead>\n",
       "  <tbody>\n",
       "    <tr>\n",
       "      <th>1390.0</th>\n",
       "      <td>34.683</td>\n",
       "      <td>34771.7</td>\n",
       "      <td>242.006</td>\n",
       "      <td>437.6</td>\n",
       "    </tr>\n",
       "    <tr>\n",
       "      <th>1400.0</th>\n",
       "      <td>34.717</td>\n",
       "      <td>35128.8</td>\n",
       "      <td>242.255</td>\n",
       "      <td>450.9</td>\n",
       "    </tr>\n",
       "    <tr>\n",
       "      <th>1410.0</th>\n",
       "      <td>34.751</td>\n",
       "      <td>35466.1</td>\n",
       "      <td>242.502</td>\n",
       "      <td>464.5</td>\n",
       "    </tr>\n",
       "  </tbody>\n",
       "</table>\n",
       "</div>"
      ],
      "text/plain": [
       "                Cp(kJ/kmol*K)  h(kJ/kmol)  s(kJ/kmol*K)     Pr\n",
       "Temperatura(K)                                                \n",
       "1390.0                 34.683     34771.7       242.006  437.6\n",
       "1400.0                 34.717     35128.8       242.255  450.9\n",
       "1410.0                 34.751     35466.1       242.502  464.5"
      ]
     },
     "execution_count": 5,
     "metadata": {},
     "output_type": "execute_result"
    }
   ],
   "source": [
    "th.TemperaturaSI(t3)"
   ]
  },
  {
   "cell_type": "markdown",
   "id": "89728f38",
   "metadata": {},
   "source": [
    "## Valores de interpolación"
   ]
  },
  {
   "cell_type": "code",
   "execution_count": 6,
   "id": "e3cd3a57",
   "metadata": {},
   "outputs": [],
   "source": [
    "#Cuando t1\n",
    "h1=-413.38 #kJ/kmol\n",
    "pr1=1.20548\n",
    "#Cuando t3\n",
    "h3=35128.8\n",
    "pr3=450.9"
   ]
  },
  {
   "cell_type": "markdown",
   "id": "9fa5d26d",
   "metadata": {},
   "source": [
    "# Sacar valores ideales para el punto 2"
   ]
  },
  {
   "cell_type": "code",
   "execution_count": 7,
   "id": "396cb0f3",
   "metadata": {},
   "outputs": [
    {
     "data": {
      "image/png": "[encoded data removed]",
      "text/latex": [
       "$\\displaystyle 14.46576$"
      ],
      "text/plain": [
       "14.4657600000000"
      ]
     },
     "execution_count": 7,
     "metadata": {},
     "output_type": "execute_result"
    }
   ],
   "source": [
    "pr2i=th.presionRelativa(pr1=pr1,rp=rp)\n",
    "pr2i"
   ]
  },
  {
   "cell_type": "code",
   "execution_count": 8,
   "id": "e6095453",
   "metadata": {},
   "outputs": [
    {
     "data": {
      "text/html": [
       "<div>\n",
       "<style scoped>\n",
       "    .dataframe tbody tr th:only-of-type {\n",
       "        vertical-align: middle;\n",
       "    }\n",
       "\n",
       "    .dataframe tbody tr th {\n",
       "        vertical-align: top;\n",
       "    }\n",
       "\n",
       "    .dataframe thead th {\n",
       "        text-align: right;\n",
       "    }\n",
       "</style>\n",
       "<table border=\"1\" class=\"dataframe\">\n",
       "  <thead>\n",
       "    <tr style=\"text-align: right;\">\n",
       "      <th></th>\n",
       "      <th>Temperatura(K)</th>\n",
       "      <th>Cp(kJ/kmol*K)</th>\n",
       "      <th>h(kJ/kmol)</th>\n",
       "      <th>s(kJ/kmol*K)</th>\n",
       "    </tr>\n",
       "    <tr>\n",
       "      <th>Pr</th>\n",
       "      <th></th>\n",
       "      <th></th>\n",
       "      <th></th>\n",
       "      <th></th>\n",
       "    </tr>\n",
       "  </thead>\n",
       "  <tbody>\n",
       "    <tr>\n",
       "      <th>14.43100</th>\n",
       "      <td>580.000000</td>\n",
       "      <td>30.311000</td>\n",
       "      <td>8219.200000</td>\n",
       "      <td>213.639000</td>\n",
       "    </tr>\n",
       "    <tr>\n",
       "      <th>14.46576</th>\n",
       "      <td>580.374166</td>\n",
       "      <td>30.313432</td>\n",
       "      <td>8230.552189</td>\n",
       "      <td>213.658382</td>\n",
       "    </tr>\n",
       "    <tr>\n",
       "      <th>15.36000</th>\n",
       "      <td>590.000000</td>\n",
       "      <td>30.376000</td>\n",
       "      <td>8522.600000</td>\n",
       "      <td>214.157000</td>\n",
       "    </tr>\n",
       "  </tbody>\n",
       "</table>\n",
       "</div>"
      ],
      "text/plain": [
       "          Temperatura(K)  Cp(kJ/kmol*K)   h(kJ/kmol)  s(kJ/kmol*K)\n",
       "Pr                                                                \n",
       "14.43100      580.000000      30.311000  8219.200000    213.639000\n",
       "14.46576      580.374166      30.313432  8230.552189    213.658382\n",
       "15.36000      590.000000      30.376000  8522.600000    214.157000"
      ]
     },
     "execution_count": 8,
     "metadata": {},
     "output_type": "execute_result"
    }
   ],
   "source": [
    "th.PresionRelSI(pr2i)"
   ]
  },
  {
   "cell_type": "code",
   "execution_count": 9,
   "id": "849d9f24",
   "metadata": {},
   "outputs": [
    {
     "data": {
      "image/png": "[encoded data removed]",
      "text/latex": [
       "$\\displaystyle \\left[ \\frac{Pr_{2}}{Pr_{1}} = \\frac{P_{2}}{P_{1}}, \\  \\frac{Pr_{3}}{Pr_{4}} = \\frac{P_{3}}{P_{4}}, \\  \\frac{Pr_{2}}{Pr_{1}} = r_{p}, \\  \\frac{Pr_{3}}{Pr_{4}} = r_{p}\\right]$"
      ],
      "text/plain": [
       "⎡Pr₂   P₂  Pr₃   P₃  Pr₂       Pr₃     ⎤\n",
       "⎢─── = ──, ─── = ──, ─── = rₚ, ─── = rₚ⎥\n",
       "⎣Pr₁   P₁  Pr₄   P₄  Pr₁       Pr₄     ⎦"
      ]
     },
     "execution_count": 9,
     "metadata": {},
     "output_type": "execute_result"
    }
   ],
   "source": [
    "th.formulasRelacionPresiones()"
   ]
  },
  {
   "cell_type": "code",
   "execution_count": 10,
   "id": "c015768e",
   "metadata": {},
   "outputs": [],
   "source": [
    "t2i=580.374166\n",
    "h2i=8230.552189"
   ]
  },
  {
   "cell_type": "markdown",
   "id": "7f63a508",
   "metadata": {},
   "source": [
    "# Sacar valores reales para el punto 2"
   ]
  },
  {
   "cell_type": "code",
   "execution_count": 11,
   "id": "f393a693",
   "metadata": {},
   "outputs": [
    {
     "data": {
      "image/png": "[encoded data removed]",
      "text/latex": [
       "$\\displaystyle 9522.17424022988$"
      ],
      "text/plain": [
       "9522.17424022988"
      ]
     },
     "execution_count": 11,
     "metadata": {},
     "output_type": "execute_result"
    }
   ],
   "source": [
    "h2r=th.eficienciaCompresor(h1=h1,h2i=h2i, eficCompresor=nc)\n",
    "h2r #Entalpia 2 real"
   ]
  },
  {
   "cell_type": "code",
   "execution_count": 12,
   "id": "908dbd8f",
   "metadata": {},
   "outputs": [
    {
     "data": {
      "text/html": [
       "<div>\n",
       "<style scoped>\n",
       "    .dataframe tbody tr th:only-of-type {\n",
       "        vertical-align: middle;\n",
       "    }\n",
       "\n",
       "    .dataframe tbody tr th {\n",
       "        vertical-align: top;\n",
       "    }\n",
       "\n",
       "    .dataframe thead th {\n",
       "        text-align: right;\n",
       "    }\n",
       "</style>\n",
       "<table border=\"1\" class=\"dataframe\">\n",
       "  <thead>\n",
       "    <tr style=\"text-align: right;\">\n",
       "      <th></th>\n",
       "      <th>Temperatura(K)</th>\n",
       "      <th>Cp(kJ/kmol*K)</th>\n",
       "      <th>s(kJ/kmol*K)</th>\n",
       "      <th>Pr</th>\n",
       "    </tr>\n",
       "    <tr>\n",
       "      <th>h(kJ/kmol)</th>\n",
       "      <th></th>\n",
       "      <th></th>\n",
       "      <th></th>\n",
       "      <th></th>\n",
       "    </tr>\n",
       "  </thead>\n",
       "  <tbody>\n",
       "    <tr>\n",
       "      <th>9436.80000</th>\n",
       "      <td>620.000000</td>\n",
       "      <td>30.575000</td>\n",
       "      <td>215.669000</td>\n",
       "      <td>18.422000</td>\n",
       "    </tr>\n",
       "    <tr>\n",
       "      <th>9522.17424</th>\n",
       "      <td>622.789096</td>\n",
       "      <td>30.593966</td>\n",
       "      <td>215.805666</td>\n",
       "      <td>18.733821</td>\n",
       "    </tr>\n",
       "    <tr>\n",
       "      <th>9742.90000</th>\n",
       "      <td>630.000000</td>\n",
       "      <td>30.643000</td>\n",
       "      <td>216.159000</td>\n",
       "      <td>19.540000</td>\n",
       "    </tr>\n",
       "  </tbody>\n",
       "</table>\n",
       "</div>"
      ],
      "text/plain": [
       "            Temperatura(K)  Cp(kJ/kmol*K)  s(kJ/kmol*K)         Pr\n",
       "h(kJ/kmol)                                                        \n",
       "9436.80000      620.000000      30.575000    215.669000  18.422000\n",
       "9522.17424      622.789096      30.593966    215.805666  18.733821\n",
       "9742.90000      630.000000      30.643000    216.159000  19.540000"
      ]
     },
     "execution_count": 12,
     "metadata": {},
     "output_type": "execute_result"
    }
   ],
   "source": [
    "th.EntalpiaSI(h2r)"
   ]
  },
  {
   "cell_type": "code",
   "execution_count": 13,
   "id": "a77ae4da",
   "metadata": {},
   "outputs": [],
   "source": [
    "t2r=622.789096\n",
    "pr2r=18.733821"
   ]
  },
  {
   "cell_type": "markdown",
   "id": "1af19627",
   "metadata": {},
   "source": [
    "# Sacar valores para el punto 4"
   ]
  },
  {
   "cell_type": "code",
   "execution_count": 14,
   "id": "6d33ae70",
   "metadata": {},
   "outputs": [],
   "source": [
    "#Las relaciones de presiones ya no sirven para las turbinas, solo para la compresión\n",
    "#Para las turbinas de gas se usa que W_tgr=W_cr ya que las turbinas de gas sólo son para\n",
    "#Ofrecer su trabajo al compresor"
   ]
  },
  {
   "cell_type": "code",
   "execution_count": 15,
   "id": "f2d550ee",
   "metadata": {},
   "outputs": [
    {
     "data": {
      "image/png": "[encoded data removed]",
      "text/latex": [
       "$\\displaystyle 9935.55424022988$"
      ],
      "text/plain": [
       "9935.55424022988"
      ]
     },
     "execution_count": 15,
     "metadata": {},
     "output_type": "execute_result"
    }
   ],
   "source": [
    "wtgr=th.trabajoCompresor(h1=h1,h2=h2r)\n",
    "wtgr"
   ]
  },
  {
   "cell_type": "code",
   "execution_count": 16,
   "id": "d56cef59",
   "metadata": {},
   "outputs": [
    {
     "data": {
      "image/png": "[encoded data removed]",
      "text/latex": [
       "$\\displaystyle 25193.2457597701$"
      ],
      "text/plain": [
       "25193.2457597701"
      ]
     },
     "execution_count": 16,
     "metadata": {},
     "output_type": "execute_result"
    }
   ],
   "source": [
    "#Podemos sacar entalpia 4 real mediante un despeje\n",
    "h4r=h3-wtgr\n",
    "h4r"
   ]
  },
  {
   "cell_type": "code",
   "execution_count": 17,
   "id": "3641a4e6",
   "metadata": {},
   "outputs": [
    {
     "data": {
      "image/png": "[encoded data removed]",
      "text/latex": [
       "$\\displaystyle 23965.2559098541$"
      ],
      "text/plain": [
       "23965.2559098541"
      ]
     },
     "execution_count": 17,
     "metadata": {},
     "output_type": "execute_result"
    }
   ],
   "source": [
    "#Se saca la entalpia 4 ideal para poder realizar calculos de presiones\n",
    "h4i=th.eficienciaTurbinaGas(eficTurbinaGas=ntg,h3=h3,h4r=h4r)\n",
    "h4i"
   ]
  },
  {
   "cell_type": "code",
   "execution_count": 18,
   "id": "e28cb74a",
   "metadata": {},
   "outputs": [
    {
     "data": {
      "text/html": [
       "<div>\n",
       "<style scoped>\n",
       "    .dataframe tbody tr th:only-of-type {\n",
       "        vertical-align: middle;\n",
       "    }\n",
       "\n",
       "    .dataframe tbody tr th {\n",
       "        vertical-align: top;\n",
       "    }\n",
       "\n",
       "    .dataframe thead th {\n",
       "        text-align: right;\n",
       "    }\n",
       "</style>\n",
       "<table border=\"1\" class=\"dataframe\">\n",
       "  <thead>\n",
       "    <tr style=\"text-align: right;\">\n",
       "      <th></th>\n",
       "      <th>Temperatura(K)</th>\n",
       "      <th>Cp(kJ/kmol*K)</th>\n",
       "      <th>s(kJ/kmol*K)</th>\n",
       "      <th>Pr</th>\n",
       "    </tr>\n",
       "    <tr>\n",
       "      <th>h(kJ/kmol)</th>\n",
       "      <th></th>\n",
       "      <th></th>\n",
       "      <th></th>\n",
       "      <th></th>\n",
       "    </tr>\n",
       "  </thead>\n",
       "  <tbody>\n",
       "    <tr>\n",
       "      <th>23869.90000</th>\n",
       "      <td>1070.000000</td>\n",
       "      <td>33.386000</td>\n",
       "      <td>233.100000</td>\n",
       "      <td>149.910000</td>\n",
       "    </tr>\n",
       "    <tr>\n",
       "      <th>23965.25591</th>\n",
       "      <td>1072.854113</td>\n",
       "      <td>33.399414</td>\n",
       "      <td>233.188763</td>\n",
       "      <td>151.539698</td>\n",
       "    </tr>\n",
       "    <tr>\n",
       "      <th>24204.00000</th>\n",
       "      <td>1080.000000</td>\n",
       "      <td>33.433000</td>\n",
       "      <td>233.411000</td>\n",
       "      <td>155.620000</td>\n",
       "    </tr>\n",
       "  </tbody>\n",
       "</table>\n",
       "</div>"
      ],
      "text/plain": [
       "             Temperatura(K)  Cp(kJ/kmol*K)  s(kJ/kmol*K)          Pr\n",
       "h(kJ/kmol)                                                          \n",
       "23869.90000     1070.000000      33.386000    233.100000  149.910000\n",
       "23965.25591     1072.854113      33.399414    233.188763  151.539698\n",
       "24204.00000     1080.000000      33.433000    233.411000  155.620000"
      ]
     },
     "execution_count": 18,
     "metadata": {},
     "output_type": "execute_result"
    }
   ],
   "source": [
    "#Interpolación\n",
    "th.EntalpiaSI(h4i)"
   ]
  },
  {
   "cell_type": "code",
   "execution_count": 19,
   "id": "9ea3747a",
   "metadata": {},
   "outputs": [],
   "source": [
    "t4i=1072.854113\n",
    "pr4i=151.539698"
   ]
  },
  {
   "cell_type": "code",
   "execution_count": 20,
   "id": "d4f7a323",
   "metadata": {
    "scrolled": true
   },
   "outputs": [
    {
     "data": {
      "image/png": "[encoded data removed]",
      "text/latex": [
       "$\\displaystyle \\left[ r_{p} = \\frac{p_{r2i}}{p_{r1}}, \\  \\frac{p_{2}}{p_{1}} = \\frac{p_{r2i}}{p_{r1}}, \\  \\frac{p_{3}}{p_{4}} = \\frac{p_{r3}}{p_{r4i}}, \\  \\frac{p_{4}}{p_{5}} = \\frac{p_{r4r}}{p_{r5i}}\\right]$"
      ],
      "text/plain": [
       "⎡     pᵣ₂ᵢ  p₂   pᵣ₂ᵢ  p₃   pᵣ₃   p₄   pᵣ₄ᵣ⎤\n",
       "⎢rₚ = ────, ── = ────, ── = ────, ── = ────⎥\n",
       "⎣     pᵣ₁   p₁   pᵣ₁   p₄   pᵣ₄ᵢ  p₅   pᵣ₅ᵢ⎦"
      ]
     },
     "execution_count": 20,
     "metadata": {},
     "output_type": "execute_result"
    }
   ],
   "source": [
    "th.formulasFriccionPresiones() #Ayuda visual"
   ]
  },
  {
   "cell_type": "code",
   "execution_count": 21,
   "id": "09e982ac",
   "metadata": {},
   "outputs": [
    {
     "data": {
      "image/png": "[encoded data removed]",
      "text/latex": [
       "$\\displaystyle 1215.6$"
      ],
      "text/plain": [
       "1215.6"
      ]
     },
     "execution_count": 21,
     "metadata": {},
     "output_type": "execute_result"
    }
   ],
   "source": [
    "#Se saca p2 para poder sacar p3\n",
    "p2=rp*p1\n",
    "p2 #KPA"
   ]
  },
  {
   "cell_type": "code",
   "execution_count": 22,
   "id": "fd83834f",
   "metadata": {},
   "outputs": [],
   "source": [
    "#P3 es casi igual que p2 por lo que se puede definir como este\n",
    "p3=p2"
   ]
  },
  {
   "cell_type": "code",
   "execution_count": 23,
   "id": "5eada502",
   "metadata": {},
   "outputs": [
    {
     "data": {
      "image/png": "[encoded data removed]",
      "text/latex": [
       "$\\displaystyle 408.542153224218$"
      ],
      "text/plain": [
       "408.54215322421817"
      ]
     },
     "execution_count": 23,
     "metadata": {},
     "output_type": "execute_result"
    }
   ],
   "source": [
    "#Se hace un despeje de p4\n",
    "p4=p3/(pr3/pr4i)\n",
    "p4 #KPA"
   ]
  },
  {
   "cell_type": "markdown",
   "id": "086e376a",
   "metadata": {},
   "source": [
    "# Sacar valores reales para el punto 4"
   ]
  },
  {
   "cell_type": "code",
   "execution_count": 24,
   "id": "b57c7a23",
   "metadata": {},
   "outputs": [
    {
     "data": {
      "image/png": "[encoded data removed]",
      "text/latex": [
       "$\\displaystyle 25193.2457597701$"
      ],
      "text/plain": [
       "25193.2457597701"
      ]
     },
     "execution_count": 24,
     "metadata": {},
     "output_type": "execute_result"
    }
   ],
   "source": [
    "#Forma para poder sacar la entalpia 4 real mediante una función\n",
    "h4r=th.eficienciaTurbina(h3=h3,h4i=h4i,eficTurbina=ntg)\n",
    "h4r"
   ]
  },
  {
   "cell_type": "code",
   "execution_count": 25,
   "id": "7c955574",
   "metadata": {},
   "outputs": [
    {
     "data": {
      "text/html": [
       "<div>\n",
       "<style scoped>\n",
       "    .dataframe tbody tr th:only-of-type {\n",
       "        vertical-align: middle;\n",
       "    }\n",
       "\n",
       "    .dataframe tbody tr th {\n",
       "        vertical-align: top;\n",
       "    }\n",
       "\n",
       "    .dataframe thead th {\n",
       "        text-align: right;\n",
       "    }\n",
       "</style>\n",
       "<table border=\"1\" class=\"dataframe\">\n",
       "  <thead>\n",
       "    <tr style=\"text-align: right;\">\n",
       "      <th></th>\n",
       "      <th>Temperatura(K)</th>\n",
       "      <th>Cp(kJ/kmol*K)</th>\n",
       "      <th>s(kJ/kmol*K)</th>\n",
       "      <th>Pr</th>\n",
       "    </tr>\n",
       "    <tr>\n",
       "      <th>h(kJ/kmol)</th>\n",
       "      <th></th>\n",
       "      <th></th>\n",
       "      <th></th>\n",
       "      <th></th>\n",
       "    </tr>\n",
       "  </thead>\n",
       "  <tbody>\n",
       "    <tr>\n",
       "      <th>24873.60000</th>\n",
       "      <td>1100.000000</td>\n",
       "      <td>33.525000</td>\n",
       "      <td>234.025000</td>\n",
       "      <td>167.550000</td>\n",
       "    </tr>\n",
       "    <tr>\n",
       "      <th>25193.24576</th>\n",
       "      <td>1109.527444</td>\n",
       "      <td>33.568826</td>\n",
       "      <td>234.314634</td>\n",
       "      <td>171.589636</td>\n",
       "    </tr>\n",
       "    <tr>\n",
       "      <th>25209.10000</th>\n",
       "      <td>1110.000000</td>\n",
       "      <td>33.571000</td>\n",
       "      <td>234.329000</td>\n",
       "      <td>171.790000</td>\n",
       "    </tr>\n",
       "  </tbody>\n",
       "</table>\n",
       "</div>"
      ],
      "text/plain": [
       "             Temperatura(K)  Cp(kJ/kmol*K)  s(kJ/kmol*K)          Pr\n",
       "h(kJ/kmol)                                                          \n",
       "24873.60000     1100.000000      33.525000    234.025000  167.550000\n",
       "25193.24576     1109.527444      33.568826    234.314634  171.589636\n",
       "25209.10000     1110.000000      33.571000    234.329000  171.790000"
      ]
     },
     "execution_count": 25,
     "metadata": {},
     "output_type": "execute_result"
    }
   ],
   "source": [
    "th.EntalpiaSI(h4r)"
   ]
  },
  {
   "cell_type": "code",
   "execution_count": 26,
   "id": "bbc6af94",
   "metadata": {},
   "outputs": [],
   "source": [
    "t4r=1109.527444\n",
    "pr4r=171.589636"
   ]
  },
  {
   "cell_type": "markdown",
   "id": "05efb6fd",
   "metadata": {},
   "source": [
    "# Trabajo Neto\n",
    "El trabajo neto es el trabajo de la turbina de potencia"
   ]
  },
  {
   "cell_type": "code",
   "execution_count": 27,
   "id": "184b4c8e",
   "metadata": {},
   "outputs": [
    {
     "data": {
      "image/png": "[encoded data removed]",
      "text/latex": [
       "$\\displaystyle \\left[ \\eta_{c} = \\frac{w_{Ci}}{w_{Cr}}, \\  \\eta_{c} = \\frac{- h_{1} + h_{2i}}{- h_{1} + h_{2r}}, \\  \\eta_{t} = \\frac{w_{TGr}}{w_{TGi}}, \\  \\eta_{t} = \\frac{h_{3} - h_{4r}}{h_{3} - h_{4i}}, \\  \\eta_{t} = \\frac{w_{TPr}}{w_{TPi}}, \\  \\eta_{t} = \\frac{h_{4r} - h_{5r}}{h_{4r} - h_{5i}}\\right]$"
      ],
      "text/plain": [
       "⎡      w_Ci        -h₁ + h₂ᵢ       w_TGr       h₃ - h₄ᵣ       w_TPr       h₄ᵣ \n",
       "⎢η_c = ────, η_c = ─────────, ηₜ = ─────, ηₜ = ────────, ηₜ = ─────, ηₜ = ────\n",
       "⎣      w_Cr        -h₁ + h₂ᵣ       w_TGi       h₃ - h₄ᵢ       w_TPi       h₄ᵣ \n",
       "\n",
       "- h₅ᵣ⎤\n",
       "─────⎥\n",
       "- h₅ᵢ⎦"
      ]
     },
     "execution_count": 27,
     "metadata": {},
     "output_type": "execute_result"
    }
   ],
   "source": [
    "th.formulasFriccion()"
   ]
  },
  {
   "cell_type": "markdown",
   "id": "ef55958a",
   "metadata": {},
   "source": [
    "Mediante la tabla de arriba se puede determinar que el trabajo de turbina de potencia real es h4r-h5r\n",
    "\n",
    "Por lo que primero es necesario conseguir la entalpia 5 ideal o real, con una relación de presiones se puede conseguir el ideal"
   ]
  },
  {
   "cell_type": "code",
   "execution_count": 28,
   "id": "1340f62e",
   "metadata": {},
   "outputs": [
    {
     "data": {
      "image/png": "[encoded data removed]",
      "text/latex": [
       "$\\displaystyle 42.5464789609123$"
      ],
      "text/plain": [
       "42.54647896091228"
      ]
     },
     "execution_count": 28,
     "metadata": {},
     "output_type": "execute_result"
    }
   ],
   "source": [
    "pr5i=pr4r/(p4/p5)\n",
    "pr5i"
   ]
  },
  {
   "cell_type": "code",
   "execution_count": 29,
   "id": "f3cace8f",
   "metadata": {
    "scrolled": true
   },
   "outputs": [
    {
     "data": {
      "text/html": [
       "<div>\n",
       "<style scoped>\n",
       "    .dataframe tbody tr th:only-of-type {\n",
       "        vertical-align: middle;\n",
       "    }\n",
       "\n",
       "    .dataframe tbody tr th {\n",
       "        vertical-align: top;\n",
       "    }\n",
       "\n",
       "    .dataframe thead th {\n",
       "        text-align: right;\n",
       "    }\n",
       "</style>\n",
       "<table border=\"1\" class=\"dataframe\">\n",
       "  <thead>\n",
       "    <tr style=\"text-align: right;\">\n",
       "      <th></th>\n",
       "      <th>Temperatura(K)</th>\n",
       "      <th>Cp(kJ/kmol*K)</th>\n",
       "      <th>h(kJ/kmol)</th>\n",
       "      <th>s(kJ/kmol*K)</th>\n",
       "    </tr>\n",
       "    <tr>\n",
       "      <th>Pr</th>\n",
       "      <th></th>\n",
       "      <th></th>\n",
       "      <th></th>\n",
       "      <th></th>\n",
       "    </tr>\n",
       "  </thead>\n",
       "  <tbody>\n",
       "    <tr>\n",
       "      <th>41.402000</th>\n",
       "      <td>770.000000</td>\n",
       "      <td>31.616000</td>\n",
       "      <td>14100.800000</td>\n",
       "      <td>222.402000</td>\n",
       "    </tr>\n",
       "    <tr>\n",
       "      <th>42.546479</th>\n",
       "      <td>775.489108</td>\n",
       "      <td>31.653875</td>\n",
       "      <td>14274.585151</td>\n",
       "      <td>222.625956</td>\n",
       "    </tr>\n",
       "    <tr>\n",
       "      <th>43.487000</th>\n",
       "      <td>780.000000</td>\n",
       "      <td>31.685000</td>\n",
       "      <td>14417.400000</td>\n",
       "      <td>222.810000</td>\n",
       "    </tr>\n",
       "  </tbody>\n",
       "</table>\n",
       "</div>"
      ],
      "text/plain": [
       "           Temperatura(K)  Cp(kJ/kmol*K)    h(kJ/kmol)  s(kJ/kmol*K)\n",
       "Pr                                                                  \n",
       "41.402000      770.000000      31.616000  14100.800000    222.402000\n",
       "42.546479      775.489108      31.653875  14274.585151    222.625956\n",
       "43.487000      780.000000      31.685000  14417.400000    222.810000"
      ]
     },
     "execution_count": 29,
     "metadata": {},
     "output_type": "execute_result"
    }
   ],
   "source": [
    "#Se interpola con la presion relativa ideal 5\n",
    "th.PresionRelSI(pr5i)"
   ]
  },
  {
   "cell_type": "code",
   "execution_count": 30,
   "id": "880f56fd",
   "metadata": {},
   "outputs": [],
   "source": [
    "t5i=775.489108\n",
    "h5i=14274.585151"
   ]
  },
  {
   "cell_type": "code",
   "execution_count": 31,
   "id": "db65c869",
   "metadata": {},
   "outputs": [
    {
     "data": {
      "image/png": "[encoded data removed]",
      "text/latex": [
       "$\\displaystyle 15475.6378179647$"
      ],
      "text/plain": [
       "15475.6378179647"
      ]
     },
     "execution_count": 31,
     "metadata": {},
     "output_type": "execute_result"
    }
   ],
   "source": [
    "#Ahora se consigue la entalpia 5 real\n",
    "h5r=th.eficienciaTurbinaPotencia(eficTurbinaPotencia=ntp,h4r=h4r,h5i=h5i)\n",
    "h5r"
   ]
  },
  {
   "cell_type": "code",
   "execution_count": 32,
   "id": "df96b906",
   "metadata": {},
   "outputs": [
    {
     "data": {
      "image/png": "[encoded data removed]",
      "text/latex": [
       "$\\displaystyle 9717.60794180538$"
      ],
      "text/plain": [
       "9717.60794180538"
      ]
     },
     "execution_count": 32,
     "metadata": {},
     "output_type": "execute_result"
    }
   ],
   "source": [
    "#Teniendo la entalpia 5 real se puede hacer la resta y conseguir el trabajo de turbina de potencia\n",
    "wtp=th.trabajoTurbina(h3=h4r,h4=h5r)\n",
    "wtp"
   ]
  },
  {
   "cell_type": "code",
   "execution_count": 33,
   "id": "65e84c6d",
   "metadata": {},
   "outputs": [],
   "source": [
    "#Este trabajo de turbina de potencia es igual al trabajo neto\n",
    "wneto=wtp"
   ]
  },
  {
   "cell_type": "markdown",
   "id": "2199b6ff",
   "metadata": {},
   "source": [
    "# Calor suministrado"
   ]
  },
  {
   "cell_type": "code",
   "execution_count": 34,
   "id": "1eeaab4a",
   "metadata": {},
   "outputs": [
    {
     "data": {
      "image/png": "[encoded data removed]",
      "text/latex": [
       "$\\displaystyle 25606.6257597701$"
      ],
      "text/plain": [
       "25606.6257597701"
      ]
     },
     "execution_count": 34,
     "metadata": {},
     "output_type": "execute_result"
    }
   ],
   "source": [
    "#El calor suministrado se relaciona con el punto 2 y 3\n",
    "qsum=th.calorEntrada(h2=h2r,h3=h3)\n",
    "qsum"
   ]
  },
  {
   "cell_type": "markdown",
   "id": "96ce7311",
   "metadata": {},
   "source": [
    "# Eficiencia térmica"
   ]
  },
  {
   "cell_type": "code",
   "execution_count": 35,
   "id": "1956279b",
   "metadata": {},
   "outputs": [
    {
     "data": {
      "image/png": "[encoded data removed]",
      "text/latex": [
       "$\\displaystyle 0.379495839591347$"
      ],
      "text/plain": [
       "0.379495839591347"
      ]
     },
     "execution_count": 35,
     "metadata": {},
     "output_type": "execute_result"
    }
   ],
   "source": [
    "nt=th.eficienciaTermica(trabNeto=wtp,calEntrada=qsum)\n",
    "nt"
   ]
  },
  {
   "cell_type": "markdown",
   "id": "0c864cee",
   "metadata": {},
   "source": [
    "# INCISO A\n",
    "Respuestas"
   ]
  },
  {
   "cell_type": "code",
   "execution_count": 36,
   "id": "8d41014c",
   "metadata": {},
   "outputs": [
    {
     "data": {
      "image/png": "[encoded data removed]",
      "text/latex": [
       "$\\displaystyle 408.542153224218$"
      ],
      "text/plain": [
       "408.54215322421817"
      ]
     },
     "execution_count": 36,
     "metadata": {},
     "output_type": "execute_result"
    }
   ],
   "source": [
    "p4"
   ]
  },
  {
   "cell_type": "code",
   "execution_count": 37,
   "id": "1528ebaa",
   "metadata": {},
   "outputs": [
    {
     "data": {
      "image/png": "[encoded data removed]",
      "text/latex": [
       "$\\displaystyle 1109.527444$"
      ],
      "text/plain": [
       "1109.527444"
      ]
     },
     "execution_count": 37,
     "metadata": {},
     "output_type": "execute_result"
    }
   ],
   "source": [
    "t4r"
   ]
  },
  {
   "cell_type": "markdown",
   "id": "a9a4df03",
   "metadata": {},
   "source": [
    "# INCISO B\n",
    "Respuestas"
   ]
  },
  {
   "cell_type": "code",
   "execution_count": 38,
   "id": "549bd514",
   "metadata": {},
   "outputs": [
    {
     "data": {
      "image/png": "[encoded data removed]",
      "text/latex": [
       "$\\displaystyle 9717.60794180538$"
      ],
      "text/plain": [
       "9717.60794180538"
      ]
     },
     "execution_count": 38,
     "metadata": {},
     "output_type": "execute_result"
    }
   ],
   "source": [
    "#Trabajo neto\n",
    "wneto"
   ]
  },
  {
   "cell_type": "code",
   "execution_count": 39,
   "id": "21d4888e",
   "metadata": {},
   "outputs": [
    {
     "data": {
      "image/png": "[encoded data removed]",
      "text/latex": [
       "$\\displaystyle 25606.6257597701$"
      ],
      "text/plain": [
       "25606.6257597701"
      ]
     },
     "execution_count": 39,
     "metadata": {},
     "output_type": "execute_result"
    }
   ],
   "source": [
    "#Calor suministrado\n",
    "qsum"
   ]
  },
  {
   "cell_type": "code",
   "execution_count": 40,
   "id": "7f45a56a",
   "metadata": {},
   "outputs": [
    {
     "data": {
      "image/png": "[encoded data removed]",
      "text/latex": [
       "$\\displaystyle 0.379495839591347$"
      ],
      "text/plain": [
       "0.379495839591347"
      ]
     },
     "execution_count": 40,
     "metadata": {},
     "output_type": "execute_result"
    }
   ],
   "source": [
    "#Eficiencia térmica\n",
    "nt"
   ]
  },
  {
   "cell_type": "code",
   "execution_count": null,
   "id": "e64ed0ec",
   "metadata": {},
   "outputs": [],
   "source": []
  },
  {
   "cell_type": "markdown",
   "id": "1fada69a",
   "metadata": {},
   "source": [
    "# ---------------------------------------------------------------"
   ]
  },
  {
   "cell_type": "markdown",
   "id": "67474f4c",
   "metadata": {},
   "source": [
    "# Ahora suponer que p3=0.97p2 y p5=1.01p1"
   ]
  },
  {
   "cell_type": "code",
   "execution_count": 41,
   "id": "ae1346d1",
   "metadata": {},
   "outputs": [
    {
     "data": {
      "image/png": "[encoded data removed]",
      "text/latex": [
       "$\\displaystyle 1179.132$"
      ],
      "text/plain": [
       "1179.1319999999998"
      ]
     },
     "execution_count": 41,
     "metadata": {},
     "output_type": "execute_result"
    }
   ],
   "source": [
    "p3=0.97*p2\n",
    "p3"
   ]
  },
  {
   "cell_type": "code",
   "execution_count": 42,
   "id": "a17e8053",
   "metadata": {},
   "outputs": [
    {
     "data": {
      "image/png": "[encoded data removed]",
      "text/latex": [
       "$\\displaystyle 102.313$"
      ],
      "text/plain": [
       "102.313"
      ]
     },
     "execution_count": 42,
     "metadata": {},
     "output_type": "execute_result"
    }
   ],
   "source": [
    "p5=1.01*p1\n",
    "p5"
   ]
  },
  {
   "cell_type": "code",
   "execution_count": 43,
   "id": "e0ff874d",
   "metadata": {},
   "outputs": [
    {
     "data": {
      "image/png": "[encoded data removed]",
      "text/latex": [
       "$\\displaystyle \\left[ \\eta_{c} = \\frac{w_{Ci}}{w_{Cr}}, \\  \\eta_{c} = \\frac{- h_{1} + h_{2i}}{- h_{1} + h_{2r}}, \\  \\eta_{t} = \\frac{w_{TGr}}{w_{TGi}}, \\  \\eta_{t} = \\frac{h_{3} - h_{4r}}{h_{3} - h_{4i}}, \\  \\eta_{t} = \\frac{w_{TPr}}{w_{TPi}}, \\  \\eta_{t} = \\frac{h_{4r} - h_{5r}}{h_{4r} - h_{5i}}\\right]$"
      ],
      "text/plain": [
       "⎡      w_Ci        -h₁ + h₂ᵢ       w_TGr       h₃ - h₄ᵣ       w_TPr       h₄ᵣ \n",
       "⎢η_c = ────, η_c = ─────────, ηₜ = ─────, ηₜ = ────────, ηₜ = ─────, ηₜ = ────\n",
       "⎣      w_Cr        -h₁ + h₂ᵣ       w_TGi       h₃ - h₄ᵢ       w_TPi       h₄ᵣ \n",
       "\n",
       "- h₅ᵣ⎤\n",
       "─────⎥\n",
       "- h₅ᵢ⎦"
      ]
     },
     "execution_count": 43,
     "metadata": {},
     "output_type": "execute_result"
    }
   ],
   "source": [
    "th.formulasFriccion() #Ayuda visual"
   ]
  },
  {
   "cell_type": "code",
   "execution_count": 44,
   "id": "410e2af8",
   "metadata": {},
   "outputs": [
    {
     "data": {
      "image/png": "[encoded data removed]",
      "text/latex": [
       "$\\displaystyle \\left[ r_{p} = \\frac{p_{r2i}}{p_{r1}}, \\  \\frac{p_{2}}{p_{1}} = \\frac{p_{r2i}}{p_{r1}}, \\  \\frac{p_{3}}{p_{4}} = \\frac{p_{r3}}{p_{r4i}}, \\  \\frac{p_{4}}{p_{5}} = \\frac{p_{r4r}}{p_{r5i}}\\right]$"
      ],
      "text/plain": [
       "⎡     pᵣ₂ᵢ  p₂   pᵣ₂ᵢ  p₃   pᵣ₃   p₄   pᵣ₄ᵣ⎤\n",
       "⎢rₚ = ────, ── = ────, ── = ────, ── = ────⎥\n",
       "⎣     pᵣ₁   p₁   pᵣ₁   p₄   pᵣ₄ᵢ  p₅   pᵣ₅ᵢ⎦"
      ]
     },
     "execution_count": 44,
     "metadata": {},
     "output_type": "execute_result"
    }
   ],
   "source": [
    "th.formulasFriccionPresiones() #Ayuda visual"
   ]
  },
  {
   "cell_type": "markdown",
   "id": "2f8be246",
   "metadata": {},
   "source": [
    "## Entalpia 2 ideal"
   ]
  },
  {
   "cell_type": "code",
   "execution_count": 45,
   "id": "b7ab4f20",
   "metadata": {},
   "outputs": [
    {
     "data": {
      "image/png": "[encoded data removed]",
      "text/latex": [
       "$\\displaystyle 8230.552189$"
      ],
      "text/plain": [
       "8230.552189"
      ]
     },
     "execution_count": 45,
     "metadata": {},
     "output_type": "execute_result"
    }
   ],
   "source": [
    "h2i"
   ]
  },
  {
   "cell_type": "markdown",
   "id": "3490d1db",
   "metadata": {},
   "source": [
    "## Entalpia 2 real"
   ]
  },
  {
   "cell_type": "code",
   "execution_count": 46,
   "id": "ab02d7c4",
   "metadata": {},
   "outputs": [
    {
     "data": {
      "image/png": "[encoded data removed]",
      "text/latex": [
       "$\\displaystyle 9522.17424022988$"
      ],
      "text/plain": [
       "9522.17424022988"
      ]
     },
     "execution_count": 46,
     "metadata": {},
     "output_type": "execute_result"
    }
   ],
   "source": [
    "h2r"
   ]
  },
  {
   "cell_type": "markdown",
   "id": "4c3ce3dc",
   "metadata": {},
   "source": [
    "## Entalpia 4 ideal"
   ]
  },
  {
   "cell_type": "code",
   "execution_count": 47,
   "id": "c87f0eca",
   "metadata": {},
   "outputs": [
    {
     "data": {
      "image/png": "[encoded data removed]",
      "text/latex": [
       "$\\displaystyle 156.226492783505$"
      ],
      "text/plain": [
       "156.22649278350514"
      ]
     },
     "execution_count": 47,
     "metadata": {},
     "output_type": "execute_result"
    }
   ],
   "source": [
    "pr4i=pr3/(p3/p4)\n",
    "pr4i\n",
    "#Anteriormente 171.58"
   ]
  },
  {
   "cell_type": "code",
   "execution_count": 48,
   "id": "cef7180c",
   "metadata": {},
   "outputs": [
    {
     "data": {
      "text/html": [
       "<div>\n",
       "<style scoped>\n",
       "    .dataframe tbody tr th:only-of-type {\n",
       "        vertical-align: middle;\n",
       "    }\n",
       "\n",
       "    .dataframe tbody tr th {\n",
       "        vertical-align: top;\n",
       "    }\n",
       "\n",
       "    .dataframe thead th {\n",
       "        text-align: right;\n",
       "    }\n",
       "</style>\n",
       "<table border=\"1\" class=\"dataframe\">\n",
       "  <thead>\n",
       "    <tr style=\"text-align: right;\">\n",
       "      <th></th>\n",
       "      <th>Temperatura(K)</th>\n",
       "      <th>Cp(kJ/kmol*K)</th>\n",
       "      <th>h(kJ/kmol)</th>\n",
       "      <th>s(kJ/kmol*K)</th>\n",
       "    </tr>\n",
       "    <tr>\n",
       "      <th>Pr</th>\n",
       "      <th></th>\n",
       "      <th></th>\n",
       "      <th></th>\n",
       "      <th></th>\n",
       "    </tr>\n",
       "  </thead>\n",
       "  <tbody>\n",
       "    <tr>\n",
       "      <th>155.620000</th>\n",
       "      <td>1080.00000</td>\n",
       "      <td>33.433000</td>\n",
       "      <td>24204.000000</td>\n",
       "      <td>233.411000</td>\n",
       "    </tr>\n",
       "    <tr>\n",
       "      <th>156.226493</th>\n",
       "      <td>1081.03145</td>\n",
       "      <td>33.437745</td>\n",
       "      <td>24238.512327</td>\n",
       "      <td>233.442769</td>\n",
       "    </tr>\n",
       "    <tr>\n",
       "      <th>161.500000</th>\n",
       "      <td>1090.00000</td>\n",
       "      <td>33.479000</td>\n",
       "      <td>24538.600000</td>\n",
       "      <td>233.719000</td>\n",
       "    </tr>\n",
       "  </tbody>\n",
       "</table>\n",
       "</div>"
      ],
      "text/plain": [
       "            Temperatura(K)  Cp(kJ/kmol*K)    h(kJ/kmol)  s(kJ/kmol*K)\n",
       "Pr                                                                   \n",
       "155.620000      1080.00000      33.433000  24204.000000    233.411000\n",
       "156.226493      1081.03145      33.437745  24238.512327    233.442769\n",
       "161.500000      1090.00000      33.479000  24538.600000    233.719000"
      ]
     },
     "execution_count": 48,
     "metadata": {},
     "output_type": "execute_result"
    }
   ],
   "source": [
    "th.PresionRelSI(pr4i)"
   ]
  },
  {
   "cell_type": "code",
   "execution_count": 49,
   "id": "1c3d6d70",
   "metadata": {},
   "outputs": [],
   "source": [
    "t4i=1081.03145\n",
    "h4i=24238.512327"
   ]
  },
  {
   "cell_type": "markdown",
   "id": "bc807dc2",
   "metadata": {},
   "source": [
    "## Entalpia 4 real"
   ]
  },
  {
   "cell_type": "code",
   "execution_count": 50,
   "id": "841dfb49",
   "metadata": {},
   "outputs": [
    {
     "data": {
      "image/png": "[encoded data removed]",
      "text/latex": [
       "$\\displaystyle 25436.44397103$"
      ],
      "text/plain": [
       "25436.4439710300"
      ]
     },
     "execution_count": 50,
     "metadata": {},
     "output_type": "execute_result"
    }
   ],
   "source": [
    "h4r=th.eficienciaTurbinaGas(eficTurbinaGas=ntg,h3=h3,h4i=h4i)\n",
    "h4r"
   ]
  },
  {
   "cell_type": "markdown",
   "id": "49440910",
   "metadata": {},
   "source": [
    "## Entalpia 5 real"
   ]
  },
  {
   "cell_type": "code",
   "execution_count": 51,
   "id": "70ffc757",
   "metadata": {},
   "outputs": [
    {
     "data": {
      "text/html": [
       "<div>\n",
       "<style scoped>\n",
       "    .dataframe tbody tr th:only-of-type {\n",
       "        vertical-align: middle;\n",
       "    }\n",
       "\n",
       "    .dataframe tbody tr th {\n",
       "        vertical-align: top;\n",
       "    }\n",
       "\n",
       "    .dataframe thead th {\n",
       "        text-align: right;\n",
       "    }\n",
       "</style>\n",
       "<table border=\"1\" class=\"dataframe\">\n",
       "  <thead>\n",
       "    <tr style=\"text-align: right;\">\n",
       "      <th></th>\n",
       "      <th>Temperatura(K)</th>\n",
       "      <th>Cp(kJ/kmol*K)</th>\n",
       "      <th>s(kJ/kmol*K)</th>\n",
       "      <th>Pr</th>\n",
       "    </tr>\n",
       "    <tr>\n",
       "      <th>h(kJ/kmol)</th>\n",
       "      <th></th>\n",
       "      <th></th>\n",
       "      <th></th>\n",
       "      <th></th>\n",
       "    </tr>\n",
       "  </thead>\n",
       "  <tbody>\n",
       "    <tr>\n",
       "      <th>25209.100000</th>\n",
       "      <td>1110.000000</td>\n",
       "      <td>33.571000</td>\n",
       "      <td>234.329000</td>\n",
       "      <td>171.79000</td>\n",
       "    </tr>\n",
       "    <tr>\n",
       "      <th>25436.443971</th>\n",
       "      <td>1116.768204</td>\n",
       "      <td>33.601457</td>\n",
       "      <td>234.532723</td>\n",
       "      <td>177.48206</td>\n",
       "    </tr>\n",
       "    <tr>\n",
       "      <th>25545.000000</th>\n",
       "      <td>1120.000000</td>\n",
       "      <td>33.616000</td>\n",
       "      <td>234.630000</td>\n",
       "      <td>180.20000</td>\n",
       "    </tr>\n",
       "  </tbody>\n",
       "</table>\n",
       "</div>"
      ],
      "text/plain": [
       "              Temperatura(K)  Cp(kJ/kmol*K)  s(kJ/kmol*K)         Pr\n",
       "h(kJ/kmol)                                                          \n",
       "25209.100000     1110.000000      33.571000    234.329000  171.79000\n",
       "25436.443971     1116.768204      33.601457    234.532723  177.48206\n",
       "25545.000000     1120.000000      33.616000    234.630000  180.20000"
      ]
     },
     "execution_count": 51,
     "metadata": {},
     "output_type": "execute_result"
    }
   ],
   "source": [
    "th.EntalpiaSI(h4r)"
   ]
  },
  {
   "cell_type": "code",
   "execution_count": 52,
   "id": "3b0418d9",
   "metadata": {},
   "outputs": [],
   "source": [
    "t4r=1116.768204\n",
    "pr4r=177.48206"
   ]
  },
  {
   "cell_type": "code",
   "execution_count": 53,
   "id": "b9f59a30",
   "metadata": {},
   "outputs": [
    {
     "data": {
      "image/png": "[encoded data removed]",
      "text/latex": [
       "$\\displaystyle 408.542153224218$"
      ],
      "text/plain": [
       "408.5421532242181"
      ]
     },
     "execution_count": 53,
     "metadata": {},
     "output_type": "execute_result"
    }
   ],
   "source": [
    "p4=p3/(pr3/pr4i)\n",
    "p4"
   ]
  },
  {
   "cell_type": "code",
   "execution_count": 54,
   "id": "a3ca9c05",
   "metadata": {},
   "outputs": [
    {
     "data": {
      "image/png": "[encoded data removed]",
      "text/latex": [
       "$\\displaystyle 44.4476092894484$"
      ],
      "text/plain": [
       "44.44760928944838"
      ]
     },
     "execution_count": 54,
     "metadata": {},
     "output_type": "execute_result"
    }
   ],
   "source": [
    "pr5i=pr4r/(p4/p5)\n",
    "pr5i\n"
   ]
  },
  {
   "cell_type": "code",
   "execution_count": 55,
   "id": "01fb2dda",
   "metadata": {},
   "outputs": [
    {
     "data": {
      "text/html": [
       "<div>\n",
       "<style scoped>\n",
       "    .dataframe tbody tr th:only-of-type {\n",
       "        vertical-align: middle;\n",
       "    }\n",
       "\n",
       "    .dataframe tbody tr th {\n",
       "        vertical-align: top;\n",
       "    }\n",
       "\n",
       "    .dataframe thead th {\n",
       "        text-align: right;\n",
       "    }\n",
       "</style>\n",
       "<table border=\"1\" class=\"dataframe\">\n",
       "  <thead>\n",
       "    <tr style=\"text-align: right;\">\n",
       "      <th></th>\n",
       "      <th>Temperatura(K)</th>\n",
       "      <th>Cp(kJ/kmol*K)</th>\n",
       "      <th>h(kJ/kmol)</th>\n",
       "      <th>s(kJ/kmol*K)</th>\n",
       "    </tr>\n",
       "    <tr>\n",
       "      <th>Pr</th>\n",
       "      <th></th>\n",
       "      <th></th>\n",
       "      <th></th>\n",
       "      <th></th>\n",
       "    </tr>\n",
       "  </thead>\n",
       "  <tbody>\n",
       "    <tr>\n",
       "      <th>43.487000</th>\n",
       "      <td>780.000000</td>\n",
       "      <td>31.685000</td>\n",
       "      <td>14417.400000</td>\n",
       "      <td>222.810000</td>\n",
       "    </tr>\n",
       "    <tr>\n",
       "      <th>44.447609</th>\n",
       "      <td>784.436994</td>\n",
       "      <td>31.715615</td>\n",
       "      <td>14558.097093</td>\n",
       "      <td>222.989255</td>\n",
       "    </tr>\n",
       "    <tr>\n",
       "      <th>45.652000</th>\n",
       "      <td>790.000000</td>\n",
       "      <td>31.754000</td>\n",
       "      <td>14734.500000</td>\n",
       "      <td>223.214000</td>\n",
       "    </tr>\n",
       "  </tbody>\n",
       "</table>\n",
       "</div>"
      ],
      "text/plain": [
       "           Temperatura(K)  Cp(kJ/kmol*K)    h(kJ/kmol)  s(kJ/kmol*K)\n",
       "Pr                                                                  \n",
       "43.487000      780.000000      31.685000  14417.400000    222.810000\n",
       "44.447609      784.436994      31.715615  14558.097093    222.989255\n",
       "45.652000      790.000000      31.754000  14734.500000    223.214000"
      ]
     },
     "execution_count": 55,
     "metadata": {},
     "output_type": "execute_result"
    }
   ],
   "source": [
    "th.PresionRelSI(pr5i)"
   ]
  },
  {
   "cell_type": "code",
   "execution_count": 56,
   "id": "9252dea3",
   "metadata": {},
   "outputs": [],
   "source": [
    "h5i=14558.097093\n",
    "t5i=784.436994"
   ]
  },
  {
   "cell_type": "code",
   "execution_count": 57,
   "id": "3f7a90b8",
   "metadata": {},
   "outputs": [
    {
     "data": {
      "image/png": "[encoded data removed]",
      "text/latex": [
       "$\\displaystyle 15754.7152495833$"
      ],
      "text/plain": [
       "15754.7152495833"
      ]
     },
     "execution_count": 57,
     "metadata": {},
     "output_type": "execute_result"
    }
   ],
   "source": [
    "h5r=th.eficienciaTurbinaPotencia(eficTurbinaPotencia=ntp,h4r=h4r,h5i=h5i)\n",
    "h5r"
   ]
  },
  {
   "cell_type": "markdown",
   "id": "031f4200",
   "metadata": {},
   "source": [
    "## Conseguir trabajo de turbina de potencia"
   ]
  },
  {
   "cell_type": "code",
   "execution_count": 58,
   "id": "a94e9fe1",
   "metadata": {},
   "outputs": [
    {
     "data": {
      "image/png": "[encoded data removed]",
      "text/latex": [
       "$\\displaystyle 9681.72872144674$"
      ],
      "text/plain": [
       "9681.72872144674"
      ]
     },
     "execution_count": 58,
     "metadata": {},
     "output_type": "execute_result"
    }
   ],
   "source": [
    "wtp=th.trabajoTurbina(h3=h4r,h4=h5r)\n",
    "wneto=wtp\n",
    "wtp"
   ]
  },
  {
   "cell_type": "markdown",
   "id": "4a9533f6",
   "metadata": {},
   "source": [
    "## Conseguir el calor de entrada"
   ]
  },
  {
   "cell_type": "code",
   "execution_count": 59,
   "id": "051da4bf",
   "metadata": {},
   "outputs": [
    {
     "data": {
      "image/png": "[encoded data removed]",
      "text/latex": [
       "$\\displaystyle 25606.6257597701$"
      ],
      "text/plain": [
       "25606.6257597701"
      ]
     },
     "execution_count": 59,
     "metadata": {},
     "output_type": "execute_result"
    }
   ],
   "source": [
    "qsum=th.calorEntrada(h2=h2r,h3=h3)\n",
    "qsum"
   ]
  },
  {
   "cell_type": "markdown",
   "id": "e6965111",
   "metadata": {},
   "source": [
    "## Conseguir eficiencia termica"
   ]
  },
  {
   "cell_type": "code",
   "execution_count": 60,
   "id": "5d5f1a02",
   "metadata": {},
   "outputs": [
    {
     "data": {
      "image/png": "[encoded data removed]",
      "text/latex": [
       "$\\displaystyle 0.378094670194987$"
      ],
      "text/plain": [
       "0.378094670194987"
      ]
     },
     "execution_count": 60,
     "metadata": {},
     "output_type": "execute_result"
    }
   ],
   "source": [
    "nt=th.eficienciaTermica(trabNeto=wtp,calEntrada=qsum)\n",
    "nt"
   ]
  },
  {
   "cell_type": "markdown",
   "id": "412a3342",
   "metadata": {},
   "source": [
    "# INCISO C\n",
    "RESPUESTAS"
   ]
  },
  {
   "cell_type": "code",
   "execution_count": 61,
   "id": "6c1ef6bc",
   "metadata": {},
   "outputs": [
    {
     "data": {
      "image/png": "[encoded data removed]",
      "text/latex": [
       "$\\displaystyle 9681.72872144674$"
      ],
      "text/plain": [
       "9681.72872144674"
      ]
     },
     "execution_count": 61,
     "metadata": {},
     "output_type": "execute_result"
    }
   ],
   "source": [
    "wneto #Trabajo neto"
   ]
  },
  {
   "cell_type": "code",
   "execution_count": 62,
   "id": "5dd2b6ab",
   "metadata": {},
   "outputs": [
    {
     "data": {
      "image/png": "[encoded data removed]",
      "text/latex": [
       "$\\displaystyle 25606.6257597701$"
      ],
      "text/plain": [
       "25606.6257597701"
      ]
     },
     "execution_count": 62,
     "metadata": {},
     "output_type": "execute_result"
    }
   ],
   "source": [
    "qsum #Calor suministrado"
   ]
  },
  {
   "cell_type": "code",
   "execution_count": 63,
   "id": "3353c612",
   "metadata": {},
   "outputs": [
    {
     "data": {
      "image/png": "[encoded data removed]",
      "text/latex": [
       "$\\displaystyle 0.378094670194987$"
      ],
      "text/plain": [
       "0.378094670194987"
      ]
     },
     "execution_count": 63,
     "metadata": {},
     "output_type": "execute_result"
    }
   ],
   "source": [
    "nt #Eficiencia térmica"
   ]
  }
 ],
 "metadata": {
  "kernelspec": {
   "display_name": "Python 3 (ipykernel)",
   "language": "python",
   "name": "python3"
  },
  "language_info": {
   "codemirror_mode": {
    "name": "ipython",
    "version": 3
   },
   "file_extension": ".py",
   "mimetype": "text/x-python",
   "name": "python",
   "nbconvert_exporter": "python",
   "pygments_lexer": "ipython3",
   "version": "3.10.9"
  }
 },
 "nbformat": 4,
 "nbformat_minor": 5
}

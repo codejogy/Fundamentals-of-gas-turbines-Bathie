{
 "cells": [
  {
   "cell_type": "code",
   "execution_count": 1,
   "id": "0f17ab8c",
   "metadata": {},
   "outputs": [],
   "source": [
    "import Motoresdecombustioninterna as th"
   ]
  },
  {
   "cell_type": "code",
   "execution_count": 2,
   "id": "d874e328",
   "metadata": {},
   "outputs": [],
   "source": [
    "t1=519 # R\n",
    "t3=2520\n",
    "p1=14.7 # PSI\n",
    "p5=p1\n",
    "p55=p1\n",
    "p2=176.4 # PSI\n",
    "p25=p2\n",
    "p3=p2\n",
    "nc=0.87 # Eficiencia compresor\n",
    "ntg=0.89\n",
    "ntp=0.89\n",
    "nreg=0.8"
   ]
  },
  {
   "cell_type": "code",
   "execution_count": 3,
   "id": "b9a2e338",
   "metadata": {},
   "outputs": [
    {
     "data": {
      "text/html": [
       "<div>\n",
       "<style scoped>\n",
       "    .dataframe tbody tr th:only-of-type {\n",
       "        vertical-align: middle;\n",
       "    }\n",
       "\n",
       "    .dataframe tbody tr th {\n",
       "        vertical-align: top;\n",
       "    }\n",
       "\n",
       "    .dataframe thead th {\n",
       "        text-align: right;\n",
       "    }\n",
       "</style>\n",
       "<table border=\"1\" class=\"dataframe\">\n",
       "  <thead>\n",
       "    <tr style=\"text-align: right;\">\n",
       "      <th></th>\n",
       "      <th>Cp(Btu/mol*R)</th>\n",
       "      <th>h(Btu/mol)</th>\n",
       "      <th>s(Btu/mol*R)</th>\n",
       "      <th>Pr</th>\n",
       "    </tr>\n",
       "    <tr>\n",
       "      <th>Temperatura(R)</th>\n",
       "      <th></th>\n",
       "      <th></th>\n",
       "      <th></th>\n",
       "      <th></th>\n",
       "    </tr>\n",
       "  </thead>\n",
       "  <tbody>\n",
       "    <tr>\n",
       "      <th>510.0</th>\n",
       "      <td>6.9530</td>\n",
       "      <td>-236.30</td>\n",
       "      <td>46.0130</td>\n",
       "      <td>1.1375</td>\n",
       "    </tr>\n",
       "    <tr>\n",
       "      <th>519.0</th>\n",
       "      <td>6.9539</td>\n",
       "      <td>-173.66</td>\n",
       "      <td>46.1345</td>\n",
       "      <td>1.2095</td>\n",
       "    </tr>\n",
       "    <tr>\n",
       "      <th>520.0</th>\n",
       "      <td>6.9540</td>\n",
       "      <td>-166.70</td>\n",
       "      <td>46.1480</td>\n",
       "      <td>1.2175</td>\n",
       "    </tr>\n",
       "  </tbody>\n",
       "</table>\n",
       "</div>"
      ],
      "text/plain": [
       "                Cp(Btu/mol*R)  h(Btu/mol)  s(Btu/mol*R)      Pr\n",
       "Temperatura(R)                                                 \n",
       "510.0                  6.9530     -236.30       46.0130  1.1375\n",
       "519.0                  6.9539     -173.66       46.1345  1.2095\n",
       "520.0                  6.9540     -166.70       46.1480  1.2175"
      ]
     },
     "execution_count": 3,
     "metadata": {},
     "output_type": "execute_result"
    }
   ],
   "source": [
    "th.TemperaturaING(t1)"
   ]
  },
  {
   "cell_type": "code",
   "execution_count": 4,
   "id": "b52fb493",
   "metadata": {},
   "outputs": [],
   "source": [
    "pr1=1.2095\n",
    "h1=-173.66"
   ]
  },
  {
   "cell_type": "code",
   "execution_count": 5,
   "id": "71164686",
   "metadata": {},
   "outputs": [
    {
     "data": {
      "image/png": "[encoded data removed]",
      "text/latex": [
       "$\\displaystyle \\left[ r_{p} = \\frac{p_{r2i}}{p_{r1}}, \\  \\frac{p_{2}}{p_{1}} = \\frac{p_{r2i}}{p_{r1}}, \\  \\frac{p_{3}}{p_{4}} = \\frac{p_{r3}}{p_{r4i}}, \\  \\frac{p_{4}}{p_{5}} = \\frac{p_{r4r}}{p_{r5i}}\\right]$"
      ],
      "text/plain": [
       "⎡     pᵣ₂ᵢ  p₂   pᵣ₂ᵢ  p₃   pᵣ₃   p₄   pᵣ₄ᵣ⎤\n",
       "⎢rₚ = ────, ── = ────, ── = ────, ── = ────⎥\n",
       "⎣     pᵣ₁   p₁   pᵣ₁   p₄   pᵣ₄ᵢ  p₅   pᵣ₅ᵢ⎦"
      ]
     },
     "execution_count": 5,
     "metadata": {},
     "output_type": "execute_result"
    }
   ],
   "source": [
    "th.formulasFriccionPresiones()"
   ]
  },
  {
   "cell_type": "code",
   "execution_count": 6,
   "id": "9b08f72c",
   "metadata": {},
   "outputs": [
    {
     "data": {
      "image/png": "[encoded data removed]",
      "text/latex": [
       "$\\displaystyle 14.514$"
      ],
      "text/plain": [
       "14.514000000000003"
      ]
     },
     "execution_count": 6,
     "metadata": {},
     "output_type": "execute_result"
    }
   ],
   "source": [
    "pr2i=p2/p1*pr1\n",
    "pr2i"
   ]
  },
  {
   "cell_type": "code",
   "execution_count": 7,
   "id": "c80bcb81",
   "metadata": {},
   "outputs": [
    {
     "data": {
      "text/html": [
       "<div>\n",
       "<style scoped>\n",
       "    .dataframe tbody tr th:only-of-type {\n",
       "        vertical-align: middle;\n",
       "    }\n",
       "\n",
       "    .dataframe tbody tr th {\n",
       "        vertical-align: top;\n",
       "    }\n",
       "\n",
       "    .dataframe thead th {\n",
       "        text-align: right;\n",
       "    }\n",
       "</style>\n",
       "<table border=\"1\" class=\"dataframe\">\n",
       "  <thead>\n",
       "    <tr style=\"text-align: right;\">\n",
       "      <th></th>\n",
       "      <th>Temperatura(R)</th>\n",
       "      <th>Cp(Btu/mol*R)</th>\n",
       "      <th>h(Btu/mol)</th>\n",
       "      <th>s(Btu/mol*R)</th>\n",
       "    </tr>\n",
       "    <tr>\n",
       "      <th>Pr</th>\n",
       "      <th></th>\n",
       "      <th></th>\n",
       "      <th></th>\n",
       "      <th></th>\n",
       "    </tr>\n",
       "  </thead>\n",
       "  <tbody>\n",
       "    <tr>\n",
       "      <th>14.230</th>\n",
       "      <td>1040.000000</td>\n",
       "      <td>7.241000</td>\n",
       "      <td>3507.000000</td>\n",
       "      <td>51.033000</td>\n",
       "    </tr>\n",
       "    <tr>\n",
       "      <th>14.514</th>\n",
       "      <td>1045.546875</td>\n",
       "      <td>7.245715</td>\n",
       "      <td>3547.214844</td>\n",
       "      <td>51.071273</td>\n",
       "    </tr>\n",
       "    <tr>\n",
       "      <th>15.254</th>\n",
       "      <td>1060.000000</td>\n",
       "      <td>7.258000</td>\n",
       "      <td>3652.000000</td>\n",
       "      <td>51.171000</td>\n",
       "    </tr>\n",
       "  </tbody>\n",
       "</table>\n",
       "</div>"
      ],
      "text/plain": [
       "        Temperatura(R)  Cp(Btu/mol*R)   h(Btu/mol)  s(Btu/mol*R)\n",
       "Pr                                                              \n",
       "14.230     1040.000000       7.241000  3507.000000     51.033000\n",
       "14.514     1045.546875       7.245715  3547.214844     51.071273\n",
       "15.254     1060.000000       7.258000  3652.000000     51.171000"
      ]
     },
     "execution_count": 7,
     "metadata": {},
     "output_type": "execute_result"
    }
   ],
   "source": [
    "th.PresionRelING(pr2i)"
   ]
  },
  {
   "cell_type": "code",
   "execution_count": 8,
   "id": "95923e3c",
   "metadata": {},
   "outputs": [],
   "source": [
    "h2i=3547.214844"
   ]
  },
  {
   "cell_type": "markdown",
   "id": "37e51882",
   "metadata": {},
   "source": [
    "Sacar la entalpia 2 real"
   ]
  },
  {
   "cell_type": "code",
   "execution_count": 9,
   "id": "64bb5f12",
   "metadata": {},
   "outputs": [
    {
     "data": {
      "image/png": "[encoded data removed]",
      "text/latex": [
       "$\\displaystyle 4103.20763678161$"
      ],
      "text/plain": [
       "4103.20763678161"
      ]
     },
     "execution_count": 9,
     "metadata": {},
     "output_type": "execute_result"
    }
   ],
   "source": [
    "h2a=th.eficienciaCompresor(eficCompresor=nc, h1=h1, h2i=h2i)\n",
    "h2a"
   ]
  },
  {
   "cell_type": "code",
   "execution_count": 10,
   "id": "6e0c3ea1",
   "metadata": {},
   "outputs": [
    {
     "data": {
      "text/html": [
       "<div>\n",
       "<style scoped>\n",
       "    .dataframe tbody tr th:only-of-type {\n",
       "        vertical-align: middle;\n",
       "    }\n",
       "\n",
       "    .dataframe tbody tr th {\n",
       "        vertical-align: top;\n",
       "    }\n",
       "\n",
       "    .dataframe thead th {\n",
       "        text-align: right;\n",
       "    }\n",
       "</style>\n",
       "<table border=\"1\" class=\"dataframe\">\n",
       "  <thead>\n",
       "    <tr style=\"text-align: right;\">\n",
       "      <th></th>\n",
       "      <th>Temperatura(R)</th>\n",
       "      <th>Cp(Btu/mol*R)</th>\n",
       "      <th>s(Btu/mol*R)</th>\n",
       "      <th>Pr</th>\n",
       "    </tr>\n",
       "    <tr>\n",
       "      <th>h(Btu/mol)</th>\n",
       "      <th></th>\n",
       "      <th></th>\n",
       "      <th></th>\n",
       "      <th></th>\n",
       "    </tr>\n",
       "  </thead>\n",
       "  <tbody>\n",
       "    <tr>\n",
       "      <th>4089.100000</th>\n",
       "      <td>1120.000000</td>\n",
       "      <td>7.311000</td>\n",
       "      <td>51.572000</td>\n",
       "      <td>18.666000</td>\n",
       "    </tr>\n",
       "    <tr>\n",
       "      <th>4103.207637</th>\n",
       "      <td>1121.927273</td>\n",
       "      <td>7.312735</td>\n",
       "      <td>51.584527</td>\n",
       "      <td>18.787129</td>\n",
       "    </tr>\n",
       "    <tr>\n",
       "      <th>4235.500000</th>\n",
       "      <td>1140.000000</td>\n",
       "      <td>7.329000</td>\n",
       "      <td>51.702000</td>\n",
       "      <td>19.923000</td>\n",
       "    </tr>\n",
       "  </tbody>\n",
       "</table>\n",
       "</div>"
      ],
      "text/plain": [
       "             Temperatura(R)  Cp(Btu/mol*R)  s(Btu/mol*R)         Pr\n",
       "h(Btu/mol)                                                         \n",
       "4089.100000     1120.000000       7.311000     51.572000  18.666000\n",
       "4103.207637     1121.927273       7.312735     51.584527  18.787129\n",
       "4235.500000     1140.000000       7.329000     51.702000  19.923000"
      ]
     },
     "execution_count": 10,
     "metadata": {},
     "output_type": "execute_result"
    }
   ],
   "source": [
    "th.EntalpiaING(h2a)"
   ]
  },
  {
   "cell_type": "markdown",
   "id": "3304379c",
   "metadata": {},
   "source": [
    "Continuar con el punto 3 hasta el 5a, el punto 2.5 se hará después"
   ]
  },
  {
   "cell_type": "code",
   "execution_count": 11,
   "id": "ddcb6f21",
   "metadata": {},
   "outputs": [
    {
     "data": {
      "text/html": [
       "<div>\n",
       "<style scoped>\n",
       "    .dataframe tbody tr th:only-of-type {\n",
       "        vertical-align: middle;\n",
       "    }\n",
       "\n",
       "    .dataframe tbody tr th {\n",
       "        vertical-align: top;\n",
       "    }\n",
       "\n",
       "    .dataframe thead th {\n",
       "        text-align: right;\n",
       "    }\n",
       "</style>\n",
       "<table border=\"1\" class=\"dataframe\">\n",
       "  <thead>\n",
       "    <tr style=\"text-align: right;\">\n",
       "      <th></th>\n",
       "      <th>Cp(Btu/mol*R)</th>\n",
       "      <th>h(Btu/mol)</th>\n",
       "      <th>s(Btu/mol*R)</th>\n",
       "      <th>Pr</th>\n",
       "    </tr>\n",
       "    <tr>\n",
       "      <th>Temperatura(R)</th>\n",
       "      <th></th>\n",
       "      <th></th>\n",
       "      <th></th>\n",
       "      <th></th>\n",
       "    </tr>\n",
       "  </thead>\n",
       "  <tbody>\n",
       "    <tr>\n",
       "      <th>2500.0</th>\n",
       "      <td>8.289</td>\n",
       "      <td>14942.6</td>\n",
       "      <td>57.834</td>\n",
       "      <td>436.1</td>\n",
       "    </tr>\n",
       "    <tr>\n",
       "      <th>2520.0</th>\n",
       "      <td>8.298</td>\n",
       "      <td>15108.5</td>\n",
       "      <td>57.901</td>\n",
       "      <td>450.9</td>\n",
       "    </tr>\n",
       "    <tr>\n",
       "      <th>2540.0</th>\n",
       "      <td>8.307</td>\n",
       "      <td>15274.5</td>\n",
       "      <td>57.966</td>\n",
       "      <td>466.0</td>\n",
       "    </tr>\n",
       "  </tbody>\n",
       "</table>\n",
       "</div>"
      ],
      "text/plain": [
       "                Cp(Btu/mol*R)  h(Btu/mol)  s(Btu/mol*R)     Pr\n",
       "Temperatura(R)                                                \n",
       "2500.0                  8.289     14942.6        57.834  436.1\n",
       "2520.0                  8.298     15108.5        57.901  450.9\n",
       "2540.0                  8.307     15274.5        57.966  466.0"
      ]
     },
     "execution_count": 11,
     "metadata": {},
     "output_type": "execute_result"
    }
   ],
   "source": [
    "th.TemperaturaING(t3)"
   ]
  },
  {
   "cell_type": "code",
   "execution_count": 12,
   "id": "13927a9c",
   "metadata": {},
   "outputs": [],
   "source": [
    "pr3=450.9\n",
    "h3=15108.5"
   ]
  },
  {
   "cell_type": "code",
   "execution_count": 13,
   "id": "78f04cdd",
   "metadata": {},
   "outputs": [
    {
     "data": {
      "image/png": "[encoded data removed]",
      "text/latex": [
       "$\\displaystyle 4276.86763678161$"
      ],
      "text/plain": [
       "4276.86763678161"
      ]
     },
     "execution_count": 13,
     "metadata": {},
     "output_type": "execute_result"
    }
   ],
   "source": [
    "wcomp_a=th.trabajoCompresor(h1,h2a)\n",
    "wcomp_a"
   ]
  },
  {
   "cell_type": "code",
   "execution_count": 14,
   "id": "ac5e60b8",
   "metadata": {},
   "outputs": [
    {
     "data": {
      "image/png": "[encoded data removed]",
      "text/latex": [
       "$\\displaystyle 10831.6323632184$"
      ],
      "text/plain": [
       "10831.6323632184"
      ]
     },
     "execution_count": 14,
     "metadata": {},
     "output_type": "execute_result"
    }
   ],
   "source": [
    "h4a=-wcomp_a+h3\n",
    "h4a"
   ]
  },
  {
   "cell_type": "code",
   "execution_count": 15,
   "id": "347bdbb0",
   "metadata": {},
   "outputs": [
    {
     "data": {
      "text/html": [
       "<div>\n",
       "<style scoped>\n",
       "    .dataframe tbody tr th:only-of-type {\n",
       "        vertical-align: middle;\n",
       "    }\n",
       "\n",
       "    .dataframe tbody tr th {\n",
       "        vertical-align: top;\n",
       "    }\n",
       "\n",
       "    .dataframe thead th {\n",
       "        text-align: right;\n",
       "    }\n",
       "</style>\n",
       "<table border=\"1\" class=\"dataframe\">\n",
       "  <thead>\n",
       "    <tr style=\"text-align: right;\">\n",
       "      <th></th>\n",
       "      <th>Temperatura(R)</th>\n",
       "      <th>Cp(Btu/mol*R)</th>\n",
       "      <th>s(Btu/mol*R)</th>\n",
       "      <th>Pr</th>\n",
       "    </tr>\n",
       "    <tr>\n",
       "      <th>h(Btu/mol)</th>\n",
       "      <th></th>\n",
       "      <th></th>\n",
       "      <th></th>\n",
       "      <th></th>\n",
       "    </tr>\n",
       "  </thead>\n",
       "  <tbody>\n",
       "    <tr>\n",
       "      <th>10700.900000</th>\n",
       "      <td>1980.000000</td>\n",
       "      <td>8.01300</td>\n",
       "      <td>55.933000</td>\n",
       "      <td>167.550000</td>\n",
       "    </tr>\n",
       "    <tr>\n",
       "      <th>10831.632363</th>\n",
       "      <td>1996.300793</td>\n",
       "      <td>8.02278</td>\n",
       "      <td>55.999018</td>\n",
       "      <td>173.206375</td>\n",
       "    </tr>\n",
       "    <tr>\n",
       "      <th>10861.300000</th>\n",
       "      <td>2000.000000</td>\n",
       "      <td>8.02500</td>\n",
       "      <td>56.014000</td>\n",
       "      <td>174.490000</td>\n",
       "    </tr>\n",
       "  </tbody>\n",
       "</table>\n",
       "</div>"
      ],
      "text/plain": [
       "              Temperatura(R)  Cp(Btu/mol*R)  s(Btu/mol*R)          Pr\n",
       "h(Btu/mol)                                                           \n",
       "10700.900000     1980.000000        8.01300     55.933000  167.550000\n",
       "10831.632363     1996.300793        8.02278     55.999018  173.206375\n",
       "10861.300000     2000.000000        8.02500     56.014000  174.490000"
      ]
     },
     "execution_count": 15,
     "metadata": {},
     "output_type": "execute_result"
    }
   ],
   "source": [
    "th.EntalpiaING(h4a)"
   ]
  },
  {
   "cell_type": "code",
   "execution_count": 16,
   "id": "24616c58",
   "metadata": {},
   "outputs": [],
   "source": [
    "pr4a=173.206375"
   ]
  },
  {
   "cell_type": "markdown",
   "id": "2e5b77ec",
   "metadata": {},
   "source": [
    "Conseguir entalpia 4 ideal"
   ]
  },
  {
   "cell_type": "code",
   "execution_count": 17,
   "id": "bf78060a",
   "metadata": {},
   "outputs": [
    {
     "data": {
      "image/png": "[encoded data removed]",
      "text/latex": [
       "$\\displaystyle 10303.0307451892$"
      ],
      "text/plain": [
       "10303.0307451892"
      ]
     },
     "execution_count": 17,
     "metadata": {},
     "output_type": "execute_result"
    }
   ],
   "source": [
    "h4i=th.eficienciaTurbinaGas(eficTurbinaGas=ntg,h3=h3,h4r=h4a)\n",
    "h4i"
   ]
  },
  {
   "cell_type": "code",
   "execution_count": 18,
   "id": "8ca6a51e",
   "metadata": {},
   "outputs": [
    {
     "data": {
      "text/html": [
       "<div>\n",
       "<style scoped>\n",
       "    .dataframe tbody tr th:only-of-type {\n",
       "        vertical-align: middle;\n",
       "    }\n",
       "\n",
       "    .dataframe tbody tr th {\n",
       "        vertical-align: top;\n",
       "    }\n",
       "\n",
       "    .dataframe thead th {\n",
       "        text-align: right;\n",
       "    }\n",
       "</style>\n",
       "<table border=\"1\" class=\"dataframe\">\n",
       "  <thead>\n",
       "    <tr style=\"text-align: right;\">\n",
       "      <th></th>\n",
       "      <th>Temperatura(R)</th>\n",
       "      <th>Cp(Btu/mol*R)</th>\n",
       "      <th>s(Btu/mol*R)</th>\n",
       "      <th>Pr</th>\n",
       "    </tr>\n",
       "    <tr>\n",
       "      <th>h(Btu/mol)</th>\n",
       "      <th></th>\n",
       "      <th></th>\n",
       "      <th></th>\n",
       "      <th></th>\n",
       "    </tr>\n",
       "  </thead>\n",
       "  <tbody>\n",
       "    <tr>\n",
       "      <th>10221.200000</th>\n",
       "      <td>1920.000000</td>\n",
       "      <td>7.976000</td>\n",
       "      <td>55.687000</td>\n",
       "      <td>148.040000</td>\n",
       "    </tr>\n",
       "    <tr>\n",
       "      <th>10303.030745</th>\n",
       "      <td>1930.248058</td>\n",
       "      <td>7.982149</td>\n",
       "      <td>55.729529</td>\n",
       "      <td>151.268138</td>\n",
       "    </tr>\n",
       "    <tr>\n",
       "      <th>10380.900000</th>\n",
       "      <td>1940.000000</td>\n",
       "      <td>7.988000</td>\n",
       "      <td>55.770000</td>\n",
       "      <td>154.340000</td>\n",
       "    </tr>\n",
       "  </tbody>\n",
       "</table>\n",
       "</div>"
      ],
      "text/plain": [
       "              Temperatura(R)  Cp(Btu/mol*R)  s(Btu/mol*R)          Pr\n",
       "h(Btu/mol)                                                           \n",
       "10221.200000     1920.000000       7.976000     55.687000  148.040000\n",
       "10303.030745     1930.248058       7.982149     55.729529  151.268138\n",
       "10380.900000     1940.000000       7.988000     55.770000  154.340000"
      ]
     },
     "execution_count": 18,
     "metadata": {},
     "output_type": "execute_result"
    }
   ],
   "source": [
    "th.EntalpiaING(h4i)"
   ]
  },
  {
   "cell_type": "code",
   "execution_count": 19,
   "id": "11a2576b",
   "metadata": {},
   "outputs": [],
   "source": [
    "pr4i=151.268138"
   ]
  },
  {
   "cell_type": "code",
   "execution_count": 20,
   "id": "0504e228",
   "metadata": {
    "scrolled": true
   },
   "outputs": [
    {
     "data": {
      "image/png": "[encoded data removed]",
      "text/latex": [
       "$\\displaystyle \\left[ r_{p} = \\frac{p_{r2i}}{p_{r1}}, \\  \\frac{p_{2}}{p_{1}} = \\frac{p_{r2i}}{p_{r1}}, \\  \\frac{p_{3}}{p_{4}} = \\frac{p_{r3}}{p_{r4i}}, \\  \\frac{p_{4}}{p_{5}} = \\frac{p_{r4r}}{p_{r5i}}\\right]$"
      ],
      "text/plain": [
       "⎡     pᵣ₂ᵢ  p₂   pᵣ₂ᵢ  p₃   pᵣ₃   p₄   pᵣ₄ᵣ⎤\n",
       "⎢rₚ = ────, ── = ────, ── = ────, ── = ────⎥\n",
       "⎣     pᵣ₁   p₁   pᵣ₁   p₄   pᵣ₄ᵢ  p₅   pᵣ₅ᵢ⎦"
      ]
     },
     "execution_count": 20,
     "metadata": {},
     "output_type": "execute_result"
    }
   ],
   "source": [
    "th.formulasFriccionPresiones()"
   ]
  },
  {
   "cell_type": "code",
   "execution_count": 21,
   "id": "3057d11c",
   "metadata": {},
   "outputs": [
    {
     "data": {
      "image/png": "[encoded data removed]",
      "text/latex": [
       "$\\displaystyle 59.1787525908184$"
      ],
      "text/plain": [
       "59.17875259081837"
      ]
     },
     "execution_count": 21,
     "metadata": {},
     "output_type": "execute_result"
    }
   ],
   "source": [
    "p4=pr4i/pr3*p3\n",
    "p4"
   ]
  },
  {
   "cell_type": "code",
   "execution_count": 22,
   "id": "b3077c41",
   "metadata": {},
   "outputs": [
    {
     "data": {
      "image/png": "[encoded data removed]",
      "text/latex": [
       "$\\displaystyle 43.0244572761582$"
      ],
      "text/plain": [
       "43.02445727615818"
      ]
     },
     "execution_count": 22,
     "metadata": {},
     "output_type": "execute_result"
    }
   ],
   "source": [
    "pr5i=p5/p4*pr4a\n",
    "pr5i"
   ]
  },
  {
   "cell_type": "code",
   "execution_count": 23,
   "id": "fab6cde4",
   "metadata": {},
   "outputs": [
    {
     "data": {
      "text/html": [
       "<div>\n",
       "<style scoped>\n",
       "    .dataframe tbody tr th:only-of-type {\n",
       "        vertical-align: middle;\n",
       "    }\n",
       "\n",
       "    .dataframe tbody tr th {\n",
       "        vertical-align: top;\n",
       "    }\n",
       "\n",
       "    .dataframe thead th {\n",
       "        text-align: right;\n",
       "    }\n",
       "</style>\n",
       "<table border=\"1\" class=\"dataframe\">\n",
       "  <thead>\n",
       "    <tr style=\"text-align: right;\">\n",
       "      <th></th>\n",
       "      <th>Temperatura(R)</th>\n",
       "      <th>Cp(Btu/mol*R)</th>\n",
       "      <th>h(Btu/mol)</th>\n",
       "      <th>s(Btu/mol*R)</th>\n",
       "    </tr>\n",
       "    <tr>\n",
       "      <th>Pr</th>\n",
       "      <th></th>\n",
       "      <th></th>\n",
       "      <th></th>\n",
       "      <th></th>\n",
       "    </tr>\n",
       "  </thead>\n",
       "  <tbody>\n",
       "    <tr>\n",
       "      <th>43.017000</th>\n",
       "      <td>1400.000000</td>\n",
       "      <td>7.569000</td>\n",
       "      <td>6172.200000</td>\n",
       "      <td>53.231000</td>\n",
       "    </tr>\n",
       "    <tr>\n",
       "      <th>43.024457</th>\n",
       "      <td>1400.062378</td>\n",
       "      <td>7.569059</td>\n",
       "      <td>6172.672824</td>\n",
       "      <td>53.231337</td>\n",
       "    </tr>\n",
       "    <tr>\n",
       "      <th>45.408000</th>\n",
       "      <td>1420.000000</td>\n",
       "      <td>7.588000</td>\n",
       "      <td>6323.800000</td>\n",
       "      <td>53.339000</td>\n",
       "    </tr>\n",
       "  </tbody>\n",
       "</table>\n",
       "</div>"
      ],
      "text/plain": [
       "           Temperatura(R)  Cp(Btu/mol*R)   h(Btu/mol)  s(Btu/mol*R)\n",
       "Pr                                                                 \n",
       "43.017000     1400.000000       7.569000  6172.200000     53.231000\n",
       "43.024457     1400.062378       7.569059  6172.672824     53.231337\n",
       "45.408000     1420.000000       7.588000  6323.800000     53.339000"
      ]
     },
     "execution_count": 23,
     "metadata": {},
     "output_type": "execute_result"
    }
   ],
   "source": [
    "th.PresionRelING(pr5i)"
   ]
  },
  {
   "cell_type": "code",
   "execution_count": 24,
   "id": "d73cf721",
   "metadata": {},
   "outputs": [],
   "source": [
    "h5i=6172.672824"
   ]
  },
  {
   "cell_type": "code",
   "execution_count": 25,
   "id": "37c8682b",
   "metadata": {},
   "outputs": [
    {
     "data": {
      "image/png": "[encoded data removed]",
      "text/latex": [
       "$\\displaystyle 6685.15837331404$"
      ],
      "text/plain": [
       "6685.15837331404"
      ]
     },
     "execution_count": 25,
     "metadata": {},
     "output_type": "execute_result"
    }
   ],
   "source": [
    "h5a=th.eficienciaTurbinaPotencia(eficTurbinaPotencia=ntp,h4r=h4a,h5i=h5i)\n",
    "h5a"
   ]
  },
  {
   "cell_type": "code",
   "execution_count": 26,
   "id": "5f075ca8",
   "metadata": {},
   "outputs": [
    {
     "data": {
      "text/html": [
       "<div>\n",
       "<style scoped>\n",
       "    .dataframe tbody tr th:only-of-type {\n",
       "        vertical-align: middle;\n",
       "    }\n",
       "\n",
       "    .dataframe tbody tr th {\n",
       "        vertical-align: top;\n",
       "    }\n",
       "\n",
       "    .dataframe thead th {\n",
       "        text-align: right;\n",
       "    }\n",
       "</style>\n",
       "<table border=\"1\" class=\"dataframe\">\n",
       "  <thead>\n",
       "    <tr style=\"text-align: right;\">\n",
       "      <th></th>\n",
       "      <th>Temperatura(R)</th>\n",
       "      <th>Cp(Btu/mol*R)</th>\n",
       "      <th>s(Btu/mol*R)</th>\n",
       "      <th>Pr</th>\n",
       "    </tr>\n",
       "    <tr>\n",
       "      <th>h(Btu/mol)</th>\n",
       "      <th></th>\n",
       "      <th></th>\n",
       "      <th></th>\n",
       "      <th></th>\n",
       "    </tr>\n",
       "  </thead>\n",
       "  <tbody>\n",
       "    <tr>\n",
       "      <th>6628.000000</th>\n",
       "      <td>1460.000000</td>\n",
       "      <td>7.624000</td>\n",
       "      <td>53.550000</td>\n",
       "      <td>50.500000</td>\n",
       "    </tr>\n",
       "    <tr>\n",
       "      <th>6685.158373</th>\n",
       "      <td>1467.486362</td>\n",
       "      <td>7.630738</td>\n",
       "      <td>53.588929</td>\n",
       "      <td>51.514402</td>\n",
       "    </tr>\n",
       "    <tr>\n",
       "      <th>6780.700000</th>\n",
       "      <td>1480.000000</td>\n",
       "      <td>7.642000</td>\n",
       "      <td>53.654000</td>\n",
       "      <td>53.210000</td>\n",
       "    </tr>\n",
       "  </tbody>\n",
       "</table>\n",
       "</div>"
      ],
      "text/plain": [
       "             Temperatura(R)  Cp(Btu/mol*R)  s(Btu/mol*R)         Pr\n",
       "h(Btu/mol)                                                         \n",
       "6628.000000     1460.000000       7.624000     53.550000  50.500000\n",
       "6685.158373     1467.486362       7.630738     53.588929  51.514402\n",
       "6780.700000     1480.000000       7.642000     53.654000  53.210000"
      ]
     },
     "execution_count": 26,
     "metadata": {},
     "output_type": "execute_result"
    }
   ],
   "source": [
    "th.EntalpiaING(h5a)"
   ]
  },
  {
   "cell_type": "markdown",
   "id": "54039c72",
   "metadata": {},
   "source": [
    "Ahora con todos los valores se pueden empezar a conseguir trabajos y demás"
   ]
  },
  {
   "cell_type": "code",
   "execution_count": 27,
   "id": "f5dd22de",
   "metadata": {},
   "outputs": [
    {
     "data": {
      "image/png": "[encoded data removed]",
      "text/latex": [
       "$\\displaystyle 4146.47398990435$"
      ],
      "text/plain": [
       "4146.47398990435"
      ]
     },
     "execution_count": 27,
     "metadata": {},
     "output_type": "execute_result"
    }
   ],
   "source": [
    "wtp_a=h4a-h5a\n",
    "wtp_a"
   ]
  },
  {
   "cell_type": "markdown",
   "id": "60711d15",
   "metadata": {},
   "source": [
    "Para el regenerador"
   ]
  },
  {
   "cell_type": "code",
   "execution_count": 28,
   "id": "15296d24",
   "metadata": {},
   "outputs": [
    {
     "data": {
      "image/png": "[encoded data removed]",
      "text/latex": [
       "$\\displaystyle \\left[ n_{reg} = \\frac{h_{25} - h_{2a}}{- h_{2a} + h_{5a}}, \\  q_{ent} = - h_{25} + h_{3}, \\  LEC = \\frac{2545}{\\Delta_{Hcomb} n_{t}}\\right]$"
      ],
      "text/plain": [
       "⎡        h₂₅ - h₂ₐ                              2545   ⎤\n",
       "⎢n_reg = ──────────, qₑₙₜ = -h₂₅ + h₃, LEC = ──────────⎥\n",
       "⎣        -h₂ₐ + h₅ₐ                          Δ_Hcomb⋅nₜ⎦"
      ]
     },
     "execution_count": 28,
     "metadata": {},
     "output_type": "execute_result"
    }
   ],
   "source": [
    "th.formulasRegenerador()"
   ]
  },
  {
   "cell_type": "code",
   "execution_count": 29,
   "id": "fc13abf4",
   "metadata": {},
   "outputs": [
    {
     "data": {
      "image/png": "[encoded data removed]",
      "text/latex": [
       "$\\displaystyle 6168.76822600755$"
      ],
      "text/plain": [
       "6168.76822600755"
      ]
     },
     "execution_count": 29,
     "metadata": {},
     "output_type": "execute_result"
    }
   ],
   "source": [
    "h25=th.eficienciaRegenerador(eficienciaReg=nreg,H2A=h2a,H5A=h5a)\n",
    "h25"
   ]
  },
  {
   "cell_type": "code",
   "execution_count": 30,
   "id": "e9456372",
   "metadata": {},
   "outputs": [
    {
     "data": {
      "text/html": [
       "<div>\n",
       "<style scoped>\n",
       "    .dataframe tbody tr th:only-of-type {\n",
       "        vertical-align: middle;\n",
       "    }\n",
       "\n",
       "    .dataframe tbody tr th {\n",
       "        vertical-align: top;\n",
       "    }\n",
       "\n",
       "    .dataframe thead th {\n",
       "        text-align: right;\n",
       "    }\n",
       "</style>\n",
       "<table border=\"1\" class=\"dataframe\">\n",
       "  <thead>\n",
       "    <tr style=\"text-align: right;\">\n",
       "      <th></th>\n",
       "      <th>Temperatura(R)</th>\n",
       "      <th>Cp(Btu/mol*R)</th>\n",
       "      <th>s(Btu/mol*R)</th>\n",
       "      <th>Pr</th>\n",
       "    </tr>\n",
       "    <tr>\n",
       "      <th>h(Btu/mol)</th>\n",
       "      <th></th>\n",
       "      <th></th>\n",
       "      <th></th>\n",
       "      <th></th>\n",
       "    </tr>\n",
       "  </thead>\n",
       "  <tbody>\n",
       "    <tr>\n",
       "      <th>6021.000000</th>\n",
       "      <td>1380.000000</td>\n",
       "      <td>7.551000</td>\n",
       "      <td>53.123000</td>\n",
       "      <td>40.725000</td>\n",
       "    </tr>\n",
       "    <tr>\n",
       "      <th>6168.768226</th>\n",
       "      <td>1399.546062</td>\n",
       "      <td>7.568591</td>\n",
       "      <td>53.228549</td>\n",
       "      <td>42.964979</td>\n",
       "    </tr>\n",
       "    <tr>\n",
       "      <th>6172.200000</th>\n",
       "      <td>1400.000000</td>\n",
       "      <td>7.569000</td>\n",
       "      <td>53.231000</td>\n",
       "      <td>43.017000</td>\n",
       "    </tr>\n",
       "  </tbody>\n",
       "</table>\n",
       "</div>"
      ],
      "text/plain": [
       "             Temperatura(R)  Cp(Btu/mol*R)  s(Btu/mol*R)         Pr\n",
       "h(Btu/mol)                                                         \n",
       "6021.000000     1380.000000       7.551000     53.123000  40.725000\n",
       "6168.768226     1399.546062       7.568591     53.228549  42.964979\n",
       "6172.200000     1400.000000       7.569000     53.231000  43.017000"
      ]
     },
     "execution_count": 30,
     "metadata": {},
     "output_type": "execute_result"
    }
   ],
   "source": [
    "th.EntalpiaING(h25)"
   ]
  },
  {
   "cell_type": "code",
   "execution_count": 31,
   "id": "d82b1aa1",
   "metadata": {},
   "outputs": [
    {
     "data": {
      "image/png": "[encoded data removed]",
      "text/latex": [
       "$\\displaystyle 8939.73177399245$"
      ],
      "text/plain": [
       "8939.73177399245"
      ]
     },
     "execution_count": 31,
     "metadata": {},
     "output_type": "execute_result"
    }
   ],
   "source": [
    "qent=h3-h25\n",
    "qent"
   ]
  },
  {
   "cell_type": "code",
   "execution_count": 32,
   "id": "b4723ccf",
   "metadata": {},
   "outputs": [
    {
     "data": {
      "image/png": "[encoded data removed]",
      "text/latex": [
       "$\\displaystyle 0.463825324375762$"
      ],
      "text/plain": [
       "0.463825324375762"
      ]
     },
     "execution_count": 32,
     "metadata": {},
     "output_type": "execute_result"
    }
   ],
   "source": [
    "nt=th.eficienciaTermica(wtp_a,qent)\n",
    "nt"
   ]
  },
  {
   "cell_type": "code",
   "execution_count": 33,
   "id": "d98c6e7e",
   "metadata": {},
   "outputs": [
    {
     "data": {
      "image/png": "[encoded data removed]",
      "text/latex": [
       "$\\displaystyle 178676.521035841$"
      ],
      "text/plain": [
       "178676.521035841"
      ]
     },
     "execution_count": 33,
     "metadata": {},
     "output_type": "execute_result"
    }
   ],
   "source": [
    "h25*th.aireSecoMol"
   ]
  },
  {
   "cell_type": "code",
   "execution_count": 34,
   "id": "5abd244a",
   "metadata": {},
   "outputs": [
    {
     "data": {
      "image/png": "[encoded data removed]",
      "text/latex": [
       "$\\displaystyle 0.287276408371531$"
      ],
      "text/plain": [
       "0.287276408371531"
      ]
     },
     "execution_count": 34,
     "metadata": {},
     "output_type": "execute_result"
    }
   ],
   "source": [
    "CEC=2545/(nt*19100)\n",
    "CEC"
   ]
  },
  {
   "cell_type": "code",
   "execution_count": null,
   "id": "1276a22d",
   "metadata": {},
   "outputs": [],
   "source": []
  }
 ],
 "metadata": {
  "kernelspec": {
   "display_name": "Python 3 (ipykernel)",
   "language": "python",
   "name": "python3"
  },
  "language_info": {
   "codemirror_mode": {
    "name": "ipython",
    "version": 3
   },
   "file_extension": ".py",
   "mimetype": "text/x-python",
   "name": "python",
   "nbconvert_exporter": "python",
   "pygments_lexer": "ipython3",
   "version": "3.10.9"
  }
 },
 "nbformat": 4,
 "nbformat_minor": 5
}

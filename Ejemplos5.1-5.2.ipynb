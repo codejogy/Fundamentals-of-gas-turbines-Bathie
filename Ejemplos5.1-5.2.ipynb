{
 "cells": [
  {
   "cell_type": "markdown",
   "id": "65931fa1",
   "metadata": {},
   "source": [
    "\n"
   ]
  },
  {
   "cell_type": "code",
   "execution_count": 31,
   "id": "e6e0868a",
   "metadata": {},
   "outputs": [
    {
     "data": {
      "text/plain": [
       "<module 'Motoresdecombustioninterna' from 'C:\\\\Users\\\\José\\\\Python programs\\\\Termodinamica2.0\\\\Motoresdecombustioninterna.py'>"
      ]
     },
     "execution_count": 31,
     "metadata": {},
     "output_type": "execute_result"
    }
   ],
   "source": [
    "import Motoresdecombustioninterna as th\n",
    "import importlib\n",
    "importlib.reload(th)"
   ]
  },
  {
   "cell_type": "code",
   "execution_count": 32,
   "id": "ec71d80f",
   "metadata": {
    "scrolled": true
   },
   "outputs": [
    {
     "data": {
      "text/plain": [
       "['CAL_FORM',\n",
       " 'CO2_ING',\n",
       " 'CO2_SI',\n",
       " 'CpING',\n",
       " 'CpINGLb',\n",
       " 'CpSI',\n",
       " 'CpSIKg',\n",
       " 'EntalpiaING',\n",
       " 'EntalpiaINGLb',\n",
       " 'EntalpiaSI',\n",
       " 'EntalpiaSIKg',\n",
       " 'EntropiaING',\n",
       " 'EntropiaINGLb',\n",
       " 'EntropiaSI',\n",
       " 'EntropiaSIKg',\n",
       " 'H2O_ING',\n",
       " 'H2O_SI',\n",
       " 'IndexCercanos',\n",
       " 'O2_ING',\n",
       " 'O2_SI',\n",
       " 'PresionRelING',\n",
       " 'PresionRelINGLb',\n",
       " 'PresionRelSI',\n",
       " 'PresionRelSIKg',\n",
       " 'TablaTermodinamica',\n",
       " 'TemperaturaING',\n",
       " 'TemperaturaINGLb',\n",
       " 'TemperaturaSI',\n",
       " 'TemperaturaSIKg',\n",
       " '__builtins__',\n",
       " '__cached__',\n",
       " '__doc__',\n",
       " '__file__',\n",
       " '__loader__',\n",
       " '__name__',\n",
       " '__package__',\n",
       " '__spec__',\n",
       " 'aguaTablaING',\n",
       " 'aguaTablaSI',\n",
       " 'aireING',\n",
       " 'aireINGcp',\n",
       " 'aireINGh',\n",
       " 'aireINGpr',\n",
       " 'aireINGs',\n",
       " 'aireINGt',\n",
       " 'aireSI',\n",
       " 'aireSIcp',\n",
       " 'aireSIh',\n",
       " 'aireSIpr',\n",
       " 'aireSIs',\n",
       " 'aireSIt',\n",
       " 'aireSecoCombustion',\n",
       " 'aireSecoMol',\n",
       " 'calorEntrada',\n",
       " 'calorEntradaCpCon',\n",
       " 'calorSalida',\n",
       " 'calorSalidaCpCon',\n",
       " 'compuestosTabla',\n",
       " 'dictGr',\n",
       " 'dictLb',\n",
       " 'dioxidoCarbonoTablaING',\n",
       " 'dioxidoCarbonoTablaSI',\n",
       " 'ecTempAd',\n",
       " 'ecuacionIsentropica',\n",
       " 'eficienciaCompresor',\n",
       " 'eficienciaTermica',\n",
       " 'eficienciaTermicaCpCon',\n",
       " 'eficienciaTurbina',\n",
       " 'eficienciaTurbinaGas',\n",
       " 'eficienciaTurbinaPotencia',\n",
       " 'excesoAire',\n",
       " 'expansionIsentropica34i',\n",
       " 'expansionIsentropica45i',\n",
       " 'formulasFriccion',\n",
       " 'formulasFriccionPresiones',\n",
       " 'formulasRelacionPresiones',\n",
       " 'gasesIdeales',\n",
       " 'interpolarTablas',\n",
       " 'listConvGr',\n",
       " 'listConvLb',\n",
       " 'moleculaEntalpia',\n",
       " 'moleculaEntropia',\n",
       " 'np',\n",
       " 'oxigenoTablaING',\n",
       " 'oxigenoTablaSI',\n",
       " 'pd',\n",
       " 'plt',\n",
       " 'porcAireTeorico',\n",
       " 'presionRelativa',\n",
       " 'raizFuncion',\n",
       " 'reaccionGeneral',\n",
       " 'relCombustibleAire',\n",
       " 'sympy',\n",
       " 'tablaComposicionEntrada',\n",
       " 'tablaComposicionSalida',\n",
       " 'tablaCompuestosExcel',\n",
       " 'tablasAire',\n",
       " 'temperatura2TrabMax',\n",
       " 'temperatura4',\n",
       " 'temperaturaEntalpiaIteraciones',\n",
       " 'temperaturaRelacion12',\n",
       " 'trabajoCompresor',\n",
       " 'trabajoCompresorCpCon',\n",
       " 'trabajoNeto',\n",
       " 'trabajoNetoCpCon',\n",
       " 'trabajoTurbina',\n",
       " 'trabajoTurbinaCpCon']"
      ]
     },
     "execution_count": 32,
     "metadata": {},
     "output_type": "execute_result"
    }
   ],
   "source": [
    "dir(th)"
   ]
  },
  {
   "cell_type": "markdown",
   "id": "4edf55a3",
   "metadata": {},
   "source": [
    "# Problema 5.1"
   ]
  },
  {
   "cell_type": "code",
   "execution_count": 33,
   "id": "b8be881a",
   "metadata": {},
   "outputs": [
    {
     "data": {
      "text/plain": [
       "'\\n- Relación de presiones que da el máximo de trabajo neto\\n    Maximo trabajo neto es función de una temperatura máxima\\n    Por lo tanto hay que sacar la temperatura máxima 2\\n    \\n- El trabajo del compresor\\n- El trabajo de la turbina\\n- El calor agregado\\n- La eficiencia térmica\\nPara la relación de presiones determinada\\n\\nPasos:\\n1) Relación de presiones\\n    1.1)Temperatura máxima\\n'"
      ]
     },
     "execution_count": 33,
     "metadata": {},
     "output_type": "execute_result"
    }
   ],
   "source": [
    "t1=519 #Rankine\n",
    "t3=2520 #Rankine\n",
    "cp=0.24 #Btu/lb*R\n",
    "k=1.4 #Relación de calores ctes\n",
    "\"\"\"\n",
    "- Relación de presiones que da el máximo de trabajo neto\n",
    "    Maximo trabajo neto es función de una temperatura máxima\n",
    "    Por lo tanto hay que sacar la temperatura máxima 2\n",
    "    \n",
    "- El trabajo del compresor\n",
    "- El trabajo de la turbina\n",
    "- El calor agregado\n",
    "- La eficiencia térmica\n",
    "Para la relación de presiones determinada\n",
    "\n",
    "Pasos:\n",
    "1) Relación de presiones\n",
    "    1.1)Temperatura máxima\n",
    "\"\"\""
   ]
  },
  {
   "cell_type": "code",
   "execution_count": 34,
   "id": "8fabd94d",
   "metadata": {},
   "outputs": [
    {
     "data": {
      "image/png": "[encoded data removed]",
      "text/latex": [
       "$\\displaystyle 15.8821052642$"
      ],
      "text/plain": [
       "15.882105264199975"
      ]
     },
     "execution_count": 34,
     "metadata": {},
     "output_type": "execute_result"
    }
   ],
   "source": [
    "t2=th.temperatura2TrabMax(T1=t1,T3=t3)\n",
    "t2\n",
    "#Sacar la relación de presiones\n",
    "relPres=(t2/t1)**(k/(k-1))\n",
    "relPres"
   ]
  },
  {
   "cell_type": "code",
   "execution_count": 35,
   "id": "82a481be",
   "metadata": {},
   "outputs": [
    {
     "data": {
      "image/png": "[encoded data removed]",
      "text/latex": [
       "$\\displaystyle 149.910195103221$"
      ],
      "text/plain": [
       "149.91019510322062"
      ]
     },
     "execution_count": 35,
     "metadata": {},
     "output_type": "execute_result"
    }
   ],
   "source": [
    "#Trabajo del compresor\n",
    "th.trabajoCompresorCpCon(T1=t1,T2=t2,cp=cp)"
   ]
  },
  {
   "cell_type": "code",
   "execution_count": 36,
   "id": "fa54b705",
   "metadata": {},
   "outputs": [
    {
     "data": {
      "image/png": "[encoded data removed]",
      "text/latex": [
       "$\\displaystyle 330.329804896779$"
      ],
      "text/plain": [
       "330.3298048967793"
      ]
     },
     "execution_count": 36,
     "metadata": {},
     "output_type": "execute_result"
    }
   ],
   "source": [
    "#Trabajo de la turbina\n",
    "t4=t3*t1/t2\n",
    "th.trabajoTurbinaCpCon(T3=t3,T4=t4,cp=cp)"
   ]
  },
  {
   "cell_type": "code",
   "execution_count": 37,
   "id": "43dc40c2",
   "metadata": {},
   "outputs": [],
   "source": [
    "#Calor de entrada\n",
    "calE=th.calorEntradaCpCon(T2=t2,T3=t3,cp=cp)"
   ]
  },
  {
   "cell_type": "code",
   "execution_count": 38,
   "id": "f6971575",
   "metadata": {},
   "outputs": [
    {
     "data": {
      "image/png": "[encoded data removed]",
      "text/latex": [
       "$\\displaystyle 0.546180232964252$"
      ],
      "text/plain": [
       "0.5461802329642516"
      ]
     },
     "execution_count": 38,
     "metadata": {},
     "output_type": "execute_result"
    }
   ],
   "source": [
    "#Eficiencia térmica\n",
    "th.eficienciaTermicaCpCon(t1,t2,t3,t4)"
   ]
  },
  {
   "cell_type": "code",
   "execution_count": 39,
   "id": "7c6ce25f",
   "metadata": {},
   "outputs": [
    {
     "data": {
      "image/png": "[encoded data removed]",
      "text/latex": [
       "$\\displaystyle 0.546180232964252$"
      ],
      "text/plain": [
       "0.5461802329642516"
      ]
     },
     "execution_count": 39,
     "metadata": {},
     "output_type": "execute_result"
    }
   ],
   "source": [
    "wneto=th.trabajoNetoCpCon(t1,t2,t3,cp)\n",
    "\n",
    "th.eficienciaTermica(wneto,calEntrada=calE)"
   ]
  },
  {
   "cell_type": "markdown",
   "id": "e5ff66f9",
   "metadata": {},
   "source": [
    "# Problema 5.2"
   ]
  },
  {
   "cell_type": "code",
   "execution_count": 40,
   "id": "af98e2e5",
   "metadata": {},
   "outputs": [],
   "source": [
    "#Resolver anterior problema suponiendo Calores específicos variables y\n",
    "#a) Una relación de presiones en el compresor de 15.88 (aplicar unidades inglesas).\n",
    "#b) Una relación de presiones en el compresor de 12 (utilizar unidades SI)."
   ]
  },
  {
   "cell_type": "code",
   "execution_count": 41,
   "id": "2a206526",
   "metadata": {},
   "outputs": [],
   "source": [
    "#a) Una relación de presiones en el compresor de 15.88 ( aplicar unidades inglesas)."
   ]
  },
  {
   "cell_type": "code",
   "execution_count": 42,
   "id": "b8fe5d43",
   "metadata": {},
   "outputs": [],
   "source": [
    "t1=519 #Rankine\n",
    "t3=2520 #Rankine\n",
    "#cp=0.24 #Btu/lb*R\n",
    "#k=1.4 #Relación de calores ctes\n",
    "relacionPresionesUINGLESAS=15.88\n",
    "relacionPresionesSI=12"
   ]
  },
  {
   "cell_type": "code",
   "execution_count": 43,
   "id": "fa70731c",
   "metadata": {},
   "outputs": [
    {
     "data": {
      "text/plain": [
       "'\\n- El trabajo del compresor\\n- El trabajo de la turbina\\n- El calor agregado\\n- La eficiencia térmica\\nPara la relación de presiones determinada\\n'"
      ]
     },
     "execution_count": 43,
     "metadata": {},
     "output_type": "execute_result"
    }
   ],
   "source": [
    "\"\"\"\n",
    "- El trabajo del compresor\n",
    "- El trabajo de la turbina\n",
    "- El calor agregado\n",
    "- La eficiencia térmica\n",
    "Para la relación de presiones determinada\n",
    "\"\"\""
   ]
  },
  {
   "cell_type": "code",
   "execution_count": 44,
   "id": "2a3c4e1b",
   "metadata": {
    "scrolled": true
   },
   "outputs": [
    {
     "data": {
      "text/html": [
       "<div>\n",
       "<style scoped>\n",
       "    .dataframe tbody tr th:only-of-type {\n",
       "        vertical-align: middle;\n",
       "    }\n",
       "\n",
       "    .dataframe tbody tr th {\n",
       "        vertical-align: top;\n",
       "    }\n",
       "\n",
       "    .dataframe thead th {\n",
       "        text-align: right;\n",
       "    }\n",
       "</style>\n",
       "<table border=\"1\" class=\"dataframe\">\n",
       "  <thead>\n",
       "    <tr style=\"text-align: right;\">\n",
       "      <th></th>\n",
       "      <th>Cp(Btu/mol*R)</th>\n",
       "      <th>h(Btu/mol)</th>\n",
       "      <th>s(Btu/mol*R)</th>\n",
       "      <th>Pr</th>\n",
       "    </tr>\n",
       "    <tr>\n",
       "      <th>Temperatura(R)</th>\n",
       "      <th></th>\n",
       "      <th></th>\n",
       "      <th></th>\n",
       "      <th></th>\n",
       "    </tr>\n",
       "  </thead>\n",
       "  <tbody>\n",
       "    <tr>\n",
       "      <th>510.0</th>\n",
       "      <td>6.9530</td>\n",
       "      <td>-236.30</td>\n",
       "      <td>46.0130</td>\n",
       "      <td>1.1375</td>\n",
       "    </tr>\n",
       "    <tr>\n",
       "      <th>519.0</th>\n",
       "      <td>6.9539</td>\n",
       "      <td>-173.66</td>\n",
       "      <td>46.1345</td>\n",
       "      <td>1.2095</td>\n",
       "    </tr>\n",
       "    <tr>\n",
       "      <th>520.0</th>\n",
       "      <td>6.9540</td>\n",
       "      <td>-166.70</td>\n",
       "      <td>46.1480</td>\n",
       "      <td>1.2175</td>\n",
       "    </tr>\n",
       "  </tbody>\n",
       "</table>\n",
       "</div>"
      ],
      "text/plain": [
       "                Cp(Btu/mol*R)  h(Btu/mol)  s(Btu/mol*R)      Pr\n",
       "Temperatura(R)                                                 \n",
       "510.0                  6.9530     -236.30       46.0130  1.1375\n",
       "519.0                  6.9539     -173.66       46.1345  1.2095\n",
       "520.0                  6.9540     -166.70       46.1480  1.2175"
      ]
     },
     "execution_count": 44,
     "metadata": {},
     "output_type": "execute_result"
    }
   ],
   "source": [
    "#Conseguir entalpías\n",
    "th.TemperaturaING(t1)"
   ]
  },
  {
   "cell_type": "code",
   "execution_count": 45,
   "id": "7a85b6bd",
   "metadata": {},
   "outputs": [
    {
     "data": {
      "text/html": [
       "<div>\n",
       "<style scoped>\n",
       "    .dataframe tbody tr th:only-of-type {\n",
       "        vertical-align: middle;\n",
       "    }\n",
       "\n",
       "    .dataframe tbody tr th {\n",
       "        vertical-align: top;\n",
       "    }\n",
       "\n",
       "    .dataframe thead th {\n",
       "        text-align: right;\n",
       "    }\n",
       "</style>\n",
       "<table border=\"1\" class=\"dataframe\">\n",
       "  <thead>\n",
       "    <tr style=\"text-align: right;\">\n",
       "      <th></th>\n",
       "      <th>Cp(Btu/mol*R)</th>\n",
       "      <th>h(Btu/mol)</th>\n",
       "      <th>s(Btu/mol*R)</th>\n",
       "      <th>Pr</th>\n",
       "    </tr>\n",
       "    <tr>\n",
       "      <th>Temperatura(R)</th>\n",
       "      <th></th>\n",
       "      <th></th>\n",
       "      <th></th>\n",
       "      <th></th>\n",
       "    </tr>\n",
       "  </thead>\n",
       "  <tbody>\n",
       "    <tr>\n",
       "      <th>2500.0</th>\n",
       "      <td>8.289</td>\n",
       "      <td>14942.6</td>\n",
       "      <td>57.834</td>\n",
       "      <td>436.1</td>\n",
       "    </tr>\n",
       "    <tr>\n",
       "      <th>2520.0</th>\n",
       "      <td>8.298</td>\n",
       "      <td>15108.5</td>\n",
       "      <td>57.901</td>\n",
       "      <td>450.9</td>\n",
       "    </tr>\n",
       "    <tr>\n",
       "      <th>2540.0</th>\n",
       "      <td>8.307</td>\n",
       "      <td>15274.5</td>\n",
       "      <td>57.966</td>\n",
       "      <td>466.0</td>\n",
       "    </tr>\n",
       "  </tbody>\n",
       "</table>\n",
       "</div>"
      ],
      "text/plain": [
       "                Cp(Btu/mol*R)  h(Btu/mol)  s(Btu/mol*R)     Pr\n",
       "Temperatura(R)                                                \n",
       "2500.0                  8.289     14942.6        57.834  436.1\n",
       "2520.0                  8.298     15108.5        57.901  450.9\n",
       "2540.0                  8.307     15274.5        57.966  466.0"
      ]
     },
     "execution_count": 45,
     "metadata": {},
     "output_type": "execute_result"
    }
   ],
   "source": [
    "th.TemperaturaING(t3)"
   ]
  },
  {
   "cell_type": "code",
   "execution_count": 46,
   "id": "7c094922",
   "metadata": {},
   "outputs": [],
   "source": [
    "h1=-173.66 #BTU/MOL\n",
    "h3=15108.5 #BTU/MOL\n",
    "pr1=1.2095\n",
    "pr3=450.9"
   ]
  },
  {
   "cell_type": "code",
   "execution_count": 47,
   "id": "d2d666fc",
   "metadata": {},
   "outputs": [],
   "source": [
    "#Conseguir presiones relativas para obtener las demás entalpias\n",
    "pr2=th.presionRelativa(pr1=pr1,rp=relacionPresionesUINGLESAS)\n",
    "#Presión relativa 2 de 19.20686\n",
    "pr4=th.presionRelativa(pr3=pr3,rp=relacionPresionesUINGLESAS)\n",
    "#Presion relativa 4 de 28.3942\n"
   ]
  },
  {
   "cell_type": "code",
   "execution_count": 48,
   "id": "934f20da",
   "metadata": {},
   "outputs": [
    {
     "data": {
      "text/html": [
       "<div>\n",
       "<style scoped>\n",
       "    .dataframe tbody tr th:only-of-type {\n",
       "        vertical-align: middle;\n",
       "    }\n",
       "\n",
       "    .dataframe tbody tr th {\n",
       "        vertical-align: top;\n",
       "    }\n",
       "\n",
       "    .dataframe thead th {\n",
       "        text-align: right;\n",
       "    }\n",
       "</style>\n",
       "<table border=\"1\" class=\"dataframe\">\n",
       "  <thead>\n",
       "    <tr style=\"text-align: right;\">\n",
       "      <th></th>\n",
       "      <th>Temperatura(R)</th>\n",
       "      <th>Cp(Btu/mol*R)</th>\n",
       "      <th>h(Btu/mol)</th>\n",
       "      <th>s(Btu/mol*R)</th>\n",
       "    </tr>\n",
       "    <tr>\n",
       "      <th>Pr</th>\n",
       "      <th></th>\n",
       "      <th></th>\n",
       "      <th></th>\n",
       "      <th></th>\n",
       "    </tr>\n",
       "  </thead>\n",
       "  <tbody>\n",
       "    <tr>\n",
       "      <th>18.66600</th>\n",
       "      <td>1120.000000</td>\n",
       "      <td>7.311000</td>\n",
       "      <td>4089.100000</td>\n",
       "      <td>51.572000</td>\n",
       "    </tr>\n",
       "    <tr>\n",
       "      <th>19.20686</th>\n",
       "      <td>1128.605569</td>\n",
       "      <td>7.318745</td>\n",
       "      <td>4152.092764</td>\n",
       "      <td>51.627936</td>\n",
       "    </tr>\n",
       "    <tr>\n",
       "      <th>19.92300</th>\n",
       "      <td>1140.000000</td>\n",
       "      <td>7.329000</td>\n",
       "      <td>4235.500000</td>\n",
       "      <td>51.702000</td>\n",
       "    </tr>\n",
       "  </tbody>\n",
       "</table>\n",
       "</div>"
      ],
      "text/plain": [
       "          Temperatura(R)  Cp(Btu/mol*R)   h(Btu/mol)  s(Btu/mol*R)\n",
       "Pr                                                                \n",
       "18.66600     1120.000000       7.311000  4089.100000     51.572000\n",
       "19.20686     1128.605569       7.318745  4152.092764     51.627936\n",
       "19.92300     1140.000000       7.329000  4235.500000     51.702000"
      ]
     },
     "execution_count": 48,
     "metadata": {},
     "output_type": "execute_result"
    }
   ],
   "source": [
    "#Interpolación de todos los valores de la presión relativa 2\n",
    "th.PresionRelING(pr2)"
   ]
  },
  {
   "cell_type": "code",
   "execution_count": 49,
   "id": "ee7b695b",
   "metadata": {},
   "outputs": [
    {
     "data": {
      "text/html": [
       "<div>\n",
       "<style scoped>\n",
       "    .dataframe tbody tr th:only-of-type {\n",
       "        vertical-align: middle;\n",
       "    }\n",
       "\n",
       "    .dataframe tbody tr th {\n",
       "        vertical-align: top;\n",
       "    }\n",
       "\n",
       "    .dataframe thead th {\n",
       "        text-align: right;\n",
       "    }\n",
       "</style>\n",
       "<table border=\"1\" class=\"dataframe\">\n",
       "  <thead>\n",
       "    <tr style=\"text-align: right;\">\n",
       "      <th></th>\n",
       "      <th>Temperatura(R)</th>\n",
       "      <th>Cp(Btu/mol*R)</th>\n",
       "      <th>h(Btu/mol)</th>\n",
       "      <th>s(Btu/mol*R)</th>\n",
       "    </tr>\n",
       "    <tr>\n",
       "      <th>Pr</th>\n",
       "      <th></th>\n",
       "      <th></th>\n",
       "      <th></th>\n",
       "      <th></th>\n",
       "    </tr>\n",
       "  </thead>\n",
       "  <tbody>\n",
       "    <tr>\n",
       "      <th>27.219000</th>\n",
       "      <td>1240.000000</td>\n",
       "      <td>7.421000</td>\n",
       "      <td>4973.000000</td>\n",
       "      <td>52.322000</td>\n",
       "    </tr>\n",
       "    <tr>\n",
       "      <th>28.394207</th>\n",
       "      <td>1254.007229</td>\n",
       "      <td>7.434307</td>\n",
       "      <td>5077.073715</td>\n",
       "      <td>52.405343</td>\n",
       "    </tr>\n",
       "    <tr>\n",
       "      <th>28.897000</th>\n",
       "      <td>1260.000000</td>\n",
       "      <td>7.440000</td>\n",
       "      <td>5121.600000</td>\n",
       "      <td>52.441000</td>\n",
       "    </tr>\n",
       "  </tbody>\n",
       "</table>\n",
       "</div>"
      ],
      "text/plain": [
       "           Temperatura(R)  Cp(Btu/mol*R)   h(Btu/mol)  s(Btu/mol*R)\n",
       "Pr                                                                 \n",
       "27.219000     1240.000000       7.421000  4973.000000     52.322000\n",
       "28.394207     1254.007229       7.434307  5077.073715     52.405343\n",
       "28.897000     1260.000000       7.440000  5121.600000     52.441000"
      ]
     },
     "execution_count": 49,
     "metadata": {},
     "output_type": "execute_result"
    }
   ],
   "source": [
    "th.PresionRelING(pr4)"
   ]
  },
  {
   "cell_type": "code",
   "execution_count": 50,
   "id": "ca2f6dfb",
   "metadata": {},
   "outputs": [],
   "source": [
    "h2=4152.0927 #BTU/Mol\n",
    "h4=5077.0737 #BTU/Mol"
   ]
  },
  {
   "cell_type": "code",
   "execution_count": 51,
   "id": "83eb385f",
   "metadata": {},
   "outputs": [
    {
     "data": {
      "image/png": "[encoded data removed]",
      "text/latex": [
       "$\\displaystyle 4325.7527$"
      ],
      "text/plain": [
       "4325.7527"
      ]
     },
     "execution_count": 51,
     "metadata": {},
     "output_type": "execute_result"
    }
   ],
   "source": [
    "#Trabajo del compresor\n",
    "th.trabajoCompresor(h1,h2)"
   ]
  },
  {
   "cell_type": "code",
   "execution_count": 52,
   "id": "5f631ec8",
   "metadata": {},
   "outputs": [
    {
     "data": {
      "image/png": "[encoded data removed]",
      "text/latex": [
       "$\\displaystyle 10031.4263$"
      ],
      "text/plain": [
       "10031.4263"
      ]
     },
     "execution_count": 52,
     "metadata": {},
     "output_type": "execute_result"
    }
   ],
   "source": [
    "#Trabajo de la turbina\n",
    "th.trabajoTurbina(h3,h4)"
   ]
  },
  {
   "cell_type": "code",
   "execution_count": 53,
   "id": "7c3331ad",
   "metadata": {},
   "outputs": [
    {
     "data": {
      "image/png": "[encoded data removed]",
      "text/latex": [
       "$\\displaystyle 10956.4073$"
      ],
      "text/plain": [
       "10956.407299999999"
      ]
     },
     "execution_count": 53,
     "metadata": {},
     "output_type": "execute_result"
    }
   ],
   "source": [
    "#Calor agregado\n",
    "q=th.calorEntrada(h2,h3)\n",
    "q"
   ]
  },
  {
   "cell_type": "code",
   "execution_count": 54,
   "id": "5802d022",
   "metadata": {},
   "outputs": [],
   "source": [
    "#Trabajo neto\n",
    "wneto1=th.trabajoNeto(h1,h2,h3,h4)"
   ]
  },
  {
   "cell_type": "code",
   "execution_count": 55,
   "id": "6b73cc36",
   "metadata": {},
   "outputs": [
    {
     "data": {
      "image/png": "[encoded data removed]",
      "text/latex": [
       "$\\displaystyle 0.520761363079301$"
      ],
      "text/plain": [
       "0.5207613630793007"
      ]
     },
     "execution_count": 55,
     "metadata": {},
     "output_type": "execute_result"
    }
   ],
   "source": [
    "#Eficiencia térmica\n",
    "th.eficienciaTermica(wneto1,q)\n"
   ]
  },
  {
   "cell_type": "code",
   "execution_count": 56,
   "id": "22fa05ed",
   "metadata": {},
   "outputs": [],
   "source": [
    "#b) Una relación de presiones en el compresor de 12 (utilizar unidades SI)."
   ]
  },
  {
   "cell_type": "code",
   "execution_count": 57,
   "id": "9990ba69",
   "metadata": {},
   "outputs": [],
   "source": [
    "rp=12\n",
    "t1=288 #°K\n",
    "t3=1400 #°K"
   ]
  },
  {
   "cell_type": "code",
   "execution_count": 58,
   "id": "a61f32c4",
   "metadata": {},
   "outputs": [
    {
     "data": {
      "text/plain": [
       "'\\n- El trabajo del compresor\\n- El trabajo de la turbina\\n- El calor agregado\\n- La eficiencia térmica\\nPara la relación de presiones determinada\\n'"
      ]
     },
     "execution_count": 58,
     "metadata": {},
     "output_type": "execute_result"
    }
   ],
   "source": [
    "\"\"\"\n",
    "- El trabajo del compresor\n",
    "- El trabajo de la turbina\n",
    "- El calor agregado\n",
    "- La eficiencia térmica\n",
    "Para la relación de presiones determinada\n",
    "\"\"\""
   ]
  },
  {
   "cell_type": "code",
   "execution_count": 59,
   "id": "1e936595",
   "metadata": {
    "scrolled": false
   },
   "outputs": [
    {
     "data": {
      "text/html": [
       "<div>\n",
       "<style scoped>\n",
       "    .dataframe tbody tr th:only-of-type {\n",
       "        vertical-align: middle;\n",
       "    }\n",
       "\n",
       "    .dataframe tbody tr th {\n",
       "        vertical-align: top;\n",
       "    }\n",
       "\n",
       "    .dataframe thead th {\n",
       "        text-align: right;\n",
       "    }\n",
       "</style>\n",
       "<table border=\"1\" class=\"dataframe\">\n",
       "  <thead>\n",
       "    <tr style=\"text-align: right;\">\n",
       "      <th></th>\n",
       "      <th>Cp(kJ/kmol*K)</th>\n",
       "      <th>h(kJ/kmol)</th>\n",
       "      <th>s(kJ/kmol*K)</th>\n",
       "      <th>Pr</th>\n",
       "    </tr>\n",
       "    <tr>\n",
       "      <th>Temperatura(K)</th>\n",
       "      <th></th>\n",
       "      <th></th>\n",
       "      <th></th>\n",
       "      <th></th>\n",
       "    </tr>\n",
       "  </thead>\n",
       "  <tbody>\n",
       "    <tr>\n",
       "      <th>280.0</th>\n",
       "      <td>29.0890</td>\n",
       "      <td>-646.10</td>\n",
       "      <td>192.1720</td>\n",
       "      <td>1.09140</td>\n",
       "    </tr>\n",
       "    <tr>\n",
       "      <th>288.0</th>\n",
       "      <td>29.0938</td>\n",
       "      <td>-413.38</td>\n",
       "      <td>192.9888</td>\n",
       "      <td>1.20548</td>\n",
       "    </tr>\n",
       "    <tr>\n",
       "      <th>290.0</th>\n",
       "      <td>29.0950</td>\n",
       "      <td>-355.20</td>\n",
       "      <td>193.1930</td>\n",
       "      <td>1.23400</td>\n",
       "    </tr>\n",
       "  </tbody>\n",
       "</table>\n",
       "</div>"
      ],
      "text/plain": [
       "                Cp(kJ/kmol*K)  h(kJ/kmol)  s(kJ/kmol*K)       Pr\n",
       "Temperatura(K)                                                  \n",
       "280.0                 29.0890     -646.10      192.1720  1.09140\n",
       "288.0                 29.0938     -413.38      192.9888  1.20548\n",
       "290.0                 29.0950     -355.20      193.1930  1.23400"
      ]
     },
     "execution_count": 59,
     "metadata": {},
     "output_type": "execute_result"
    }
   ],
   "source": [
    "th.TemperaturaSI(t1)"
   ]
  },
  {
   "cell_type": "code",
   "execution_count": 60,
   "id": "9e0584b1",
   "metadata": {},
   "outputs": [
    {
     "data": {
      "text/html": [
       "<div>\n",
       "<style scoped>\n",
       "    .dataframe tbody tr th:only-of-type {\n",
       "        vertical-align: middle;\n",
       "    }\n",
       "\n",
       "    .dataframe tbody tr th {\n",
       "        vertical-align: top;\n",
       "    }\n",
       "\n",
       "    .dataframe thead th {\n",
       "        text-align: right;\n",
       "    }\n",
       "</style>\n",
       "<table border=\"1\" class=\"dataframe\">\n",
       "  <thead>\n",
       "    <tr style=\"text-align: right;\">\n",
       "      <th></th>\n",
       "      <th>Cp(kJ/kmol*K)</th>\n",
       "      <th>h(kJ/kmol)</th>\n",
       "      <th>s(kJ/kmol*K)</th>\n",
       "      <th>Pr</th>\n",
       "    </tr>\n",
       "    <tr>\n",
       "      <th>Temperatura(K)</th>\n",
       "      <th></th>\n",
       "      <th></th>\n",
       "      <th></th>\n",
       "      <th></th>\n",
       "    </tr>\n",
       "  </thead>\n",
       "  <tbody>\n",
       "    <tr>\n",
       "      <th>1390.0</th>\n",
       "      <td>34.683</td>\n",
       "      <td>34771.7</td>\n",
       "      <td>242.006</td>\n",
       "      <td>437.6</td>\n",
       "    </tr>\n",
       "    <tr>\n",
       "      <th>1400.0</th>\n",
       "      <td>34.717</td>\n",
       "      <td>35128.8</td>\n",
       "      <td>242.255</td>\n",
       "      <td>450.9</td>\n",
       "    </tr>\n",
       "    <tr>\n",
       "      <th>1410.0</th>\n",
       "      <td>34.751</td>\n",
       "      <td>35466.1</td>\n",
       "      <td>242.502</td>\n",
       "      <td>464.5</td>\n",
       "    </tr>\n",
       "  </tbody>\n",
       "</table>\n",
       "</div>"
      ],
      "text/plain": [
       "                Cp(kJ/kmol*K)  h(kJ/kmol)  s(kJ/kmol*K)     Pr\n",
       "Temperatura(K)                                                \n",
       "1390.0                 34.683     34771.7       242.006  437.6\n",
       "1400.0                 34.717     35128.8       242.255  450.9\n",
       "1410.0                 34.751     35466.1       242.502  464.5"
      ]
     },
     "execution_count": 60,
     "metadata": {},
     "output_type": "execute_result"
    }
   ],
   "source": [
    "th.TemperaturaSI(t3)"
   ]
  },
  {
   "cell_type": "code",
   "execution_count": 61,
   "id": "c8257bf3",
   "metadata": {},
   "outputs": [],
   "source": [
    "h1=-413.38 #kJ/kmol\n",
    "h3=35128.8 #kJ/kmol\n",
    "Pr1=1.20548\n",
    "Pr3=450.9"
   ]
  },
  {
   "cell_type": "code",
   "execution_count": 62,
   "id": "6d5501ec",
   "metadata": {},
   "outputs": [
    {
     "data": {
      "image/png": "[encoded data removed]",
      "text/latex": [
       "$\\displaystyle 14.46576$"
      ],
      "text/plain": [
       "14.4657600000000"
      ]
     },
     "execution_count": 62,
     "metadata": {},
     "output_type": "execute_result"
    }
   ],
   "source": [
    "pr2=th.presionRelativa(pr1=Pr1,rp=rp)\n",
    "pr2"
   ]
  },
  {
   "cell_type": "code",
   "execution_count": null,
   "id": "5f201e93",
   "metadata": {},
   "outputs": [],
   "source": []
  },
  {
   "cell_type": "code",
   "execution_count": null,
   "id": "c251b8d5",
   "metadata": {},
   "outputs": [],
   "source": []
  },
  {
   "cell_type": "code",
   "execution_count": 63,
   "id": "0092df33",
   "metadata": {},
   "outputs": [
    {
     "data": {
      "image/png": "[encoded data removed]",
      "text/latex": [
       "$\\displaystyle 37.575$"
      ],
      "text/plain": [
       "37.5750000000000"
      ]
     },
     "execution_count": 63,
     "metadata": {},
     "output_type": "execute_result"
    }
   ],
   "source": [
    "pr4=th.presionRelativa(pr3=Pr3,rp=rp)\n",
    "pr4"
   ]
  },
  {
   "cell_type": "code",
   "execution_count": 64,
   "id": "e2165eb8",
   "metadata": {},
   "outputs": [
    {
     "data": {
      "text/html": [
       "<div>\n",
       "<style scoped>\n",
       "    .dataframe tbody tr th:only-of-type {\n",
       "        vertical-align: middle;\n",
       "    }\n",
       "\n",
       "    .dataframe tbody tr th {\n",
       "        vertical-align: top;\n",
       "    }\n",
       "\n",
       "    .dataframe thead th {\n",
       "        text-align: right;\n",
       "    }\n",
       "</style>\n",
       "<table border=\"1\" class=\"dataframe\">\n",
       "  <thead>\n",
       "    <tr style=\"text-align: right;\">\n",
       "      <th></th>\n",
       "      <th>Temperatura(K)</th>\n",
       "      <th>Cp(kJ/kmol*K)</th>\n",
       "      <th>h(kJ/kmol)</th>\n",
       "      <th>s(kJ/kmol*K)</th>\n",
       "    </tr>\n",
       "    <tr>\n",
       "      <th>Pr</th>\n",
       "      <th></th>\n",
       "      <th></th>\n",
       "      <th></th>\n",
       "      <th></th>\n",
       "    </tr>\n",
       "  </thead>\n",
       "  <tbody>\n",
       "    <tr>\n",
       "      <th>14.43100</th>\n",
       "      <td>580.000000</td>\n",
       "      <td>30.311000</td>\n",
       "      <td>8219.200000</td>\n",
       "      <td>213.639000</td>\n",
       "    </tr>\n",
       "    <tr>\n",
       "      <th>14.46576</th>\n",
       "      <td>580.374166</td>\n",
       "      <td>30.313432</td>\n",
       "      <td>8230.552189</td>\n",
       "      <td>213.658382</td>\n",
       "    </tr>\n",
       "    <tr>\n",
       "      <th>15.36000</th>\n",
       "      <td>590.000000</td>\n",
       "      <td>30.376000</td>\n",
       "      <td>8522.600000</td>\n",
       "      <td>214.157000</td>\n",
       "    </tr>\n",
       "  </tbody>\n",
       "</table>\n",
       "</div>"
      ],
      "text/plain": [
       "          Temperatura(K)  Cp(kJ/kmol*K)   h(kJ/kmol)  s(kJ/kmol*K)\n",
       "Pr                                                                \n",
       "14.43100      580.000000      30.311000  8219.200000    213.639000\n",
       "14.46576      580.374166      30.313432  8230.552189    213.658382\n",
       "15.36000      590.000000      30.376000  8522.600000    214.157000"
      ]
     },
     "execution_count": 64,
     "metadata": {},
     "output_type": "execute_result"
    }
   ],
   "source": [
    "th.PresionRelSI(pr2)"
   ]
  },
  {
   "cell_type": "code",
   "execution_count": 65,
   "id": "4333c29d",
   "metadata": {},
   "outputs": [
    {
     "data": {
      "text/html": [
       "<div>\n",
       "<style scoped>\n",
       "    .dataframe tbody tr th:only-of-type {\n",
       "        vertical-align: middle;\n",
       "    }\n",
       "\n",
       "    .dataframe tbody tr th {\n",
       "        vertical-align: top;\n",
       "    }\n",
       "\n",
       "    .dataframe thead th {\n",
       "        text-align: right;\n",
       "    }\n",
       "</style>\n",
       "<table border=\"1\" class=\"dataframe\">\n",
       "  <thead>\n",
       "    <tr style=\"text-align: right;\">\n",
       "      <th></th>\n",
       "      <th>Temperatura(K)</th>\n",
       "      <th>Cp(kJ/kmol*K)</th>\n",
       "      <th>h(kJ/kmol)</th>\n",
       "      <th>s(kJ/kmol*K)</th>\n",
       "    </tr>\n",
       "    <tr>\n",
       "      <th>Pr</th>\n",
       "      <th></th>\n",
       "      <th></th>\n",
       "      <th></th>\n",
       "      <th></th>\n",
       "    </tr>\n",
       "  </thead>\n",
       "  <tbody>\n",
       "    <tr>\n",
       "      <th>37.468</th>\n",
       "      <td>750.000000</td>\n",
       "      <td>31.477000</td>\n",
       "      <td>13469.900000</td>\n",
       "      <td>221.572000</td>\n",
       "    </tr>\n",
       "    <tr>\n",
       "      <th>37.575</th>\n",
       "      <td>750.554692</td>\n",
       "      <td>31.480883</td>\n",
       "      <td>13487.378331</td>\n",
       "      <td>221.595131</td>\n",
       "    </tr>\n",
       "    <tr>\n",
       "      <th>39.397</th>\n",
       "      <td>760.000000</td>\n",
       "      <td>31.547000</td>\n",
       "      <td>13785.000000</td>\n",
       "      <td>221.989000</td>\n",
       "    </tr>\n",
       "  </tbody>\n",
       "</table>\n",
       "</div>"
      ],
      "text/plain": [
       "        Temperatura(K)  Cp(kJ/kmol*K)    h(kJ/kmol)  s(kJ/kmol*K)\n",
       "Pr                                                               \n",
       "37.468      750.000000      31.477000  13469.900000    221.572000\n",
       "37.575      750.554692      31.480883  13487.378331    221.595131\n",
       "39.397      760.000000      31.547000  13785.000000    221.989000"
      ]
     },
     "execution_count": 65,
     "metadata": {},
     "output_type": "execute_result"
    }
   ],
   "source": [
    "th.PresionRelSI(pr4)"
   ]
  },
  {
   "cell_type": "code",
   "execution_count": 66,
   "id": "63671c67",
   "metadata": {},
   "outputs": [],
   "source": [
    "h2=8230.552189\n",
    "h4=13487.378331"
   ]
  },
  {
   "cell_type": "code",
   "execution_count": 67,
   "id": "0ff0849e",
   "metadata": {},
   "outputs": [
    {
     "data": {
      "image/png": "[encoded data removed]",
      "text/latex": [
       "$\\displaystyle 8643.932189$"
      ],
      "text/plain": [
       "8643.932189"
      ]
     },
     "execution_count": 67,
     "metadata": {},
     "output_type": "execute_result"
    }
   ],
   "source": [
    "th.trabajoCompresor(h1,h2)"
   ]
  },
  {
   "cell_type": "code",
   "execution_count": 68,
   "id": "d4ad56ea",
   "metadata": {},
   "outputs": [
    {
     "data": {
      "image/png": "[encoded data removed]",
      "text/latex": [
       "$\\displaystyle 21641.421669$"
      ],
      "text/plain": [
       "21641.421669000003"
      ]
     },
     "execution_count": 68,
     "metadata": {},
     "output_type": "execute_result"
    }
   ],
   "source": [
    "th.trabajoTurbina(h3,h4)"
   ]
  },
  {
   "cell_type": "code",
   "execution_count": 69,
   "id": "703f92df",
   "metadata": {},
   "outputs": [
    {
     "data": {
      "image/png": "[encoded data removed]",
      "text/latex": [
       "$\\displaystyle 26898.247811$"
      ],
      "text/plain": [
       "26898.247811"
      ]
     },
     "execution_count": 69,
     "metadata": {},
     "output_type": "execute_result"
    }
   ],
   "source": [
    "q=th.calorEntrada(h2,h3)\n",
    "q"
   ]
  },
  {
   "cell_type": "code",
   "execution_count": 70,
   "id": "97a27c71",
   "metadata": {},
   "outputs": [
    {
     "data": {
      "image/png": "[encoded data removed]",
      "text/latex": [
       "$\\displaystyle 0.483209522468772$"
      ],
      "text/plain": [
       "0.4832095224687721"
      ]
     },
     "execution_count": 70,
     "metadata": {},
     "output_type": "execute_result"
    }
   ],
   "source": [
    "wneto=th.trabajoNeto(h1,h2,h3,h4)\n",
    "th.eficienciaTermica(wneto,q)"
   ]
  }
 ],
 "metadata": {
  "kernelspec": {
   "display_name": "Python 3 (ipykernel)",
   "language": "python",
   "name": "python3"
  },
  "language_info": {
   "codemirror_mode": {
    "name": "ipython",
    "version": 3
   },
   "file_extension": ".py",
   "mimetype": "text/x-python",
   "name": "python",
   "nbconvert_exporter": "python",
   "pygments_lexer": "ipython3",
   "version": "3.10.9"
  }
 },
 "nbformat": 4,
 "nbformat_minor": 5
}

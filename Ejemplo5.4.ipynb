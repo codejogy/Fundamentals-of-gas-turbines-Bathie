{
 "cells": [
  {
   "cell_type": "code",
   "execution_count": 1,
   "id": "f2e353bd",
   "metadata": {},
   "outputs": [],
   "source": [
    "import Motoresdecombustioninterna as th"
   ]
  },
  {
   "cell_type": "code",
   "execution_count": 2,
   "id": "2127ec56",
   "metadata": {},
   "outputs": [],
   "source": [
    "p2=176.4\n",
    "p1=14.7"
   ]
  },
  {
   "cell_type": "code",
   "execution_count": 3,
   "id": "cee15029",
   "metadata": {},
   "outputs": [
    {
     "data": {
      "text/html": [
       "<div>\n",
       "<style scoped>\n",
       "    .dataframe tbody tr th:only-of-type {\n",
       "        vertical-align: middle;\n",
       "    }\n",
       "\n",
       "    .dataframe tbody tr th {\n",
       "        vertical-align: top;\n",
       "    }\n",
       "\n",
       "    .dataframe thead th {\n",
       "        text-align: right;\n",
       "    }\n",
       "</style>\n",
       "<table border=\"1\" class=\"dataframe\">\n",
       "  <thead>\n",
       "    <tr style=\"text-align: right;\">\n",
       "      <th></th>\n",
       "      <th>Cp(Btu/mol*R)</th>\n",
       "      <th>h(Btu/mol)</th>\n",
       "      <th>s(Btu/mol*R)</th>\n",
       "      <th>Pr</th>\n",
       "    </tr>\n",
       "    <tr>\n",
       "      <th>Temperatura(R)</th>\n",
       "      <th></th>\n",
       "      <th></th>\n",
       "      <th></th>\n",
       "      <th></th>\n",
       "    </tr>\n",
       "  </thead>\n",
       "  <tbody>\n",
       "    <tr>\n",
       "      <th>510.0</th>\n",
       "      <td>6.9530</td>\n",
       "      <td>-236.30</td>\n",
       "      <td>46.0130</td>\n",
       "      <td>1.1375</td>\n",
       "    </tr>\n",
       "    <tr>\n",
       "      <th>519.0</th>\n",
       "      <td>6.9539</td>\n",
       "      <td>-173.66</td>\n",
       "      <td>46.1345</td>\n",
       "      <td>1.2095</td>\n",
       "    </tr>\n",
       "    <tr>\n",
       "      <th>520.0</th>\n",
       "      <td>6.9540</td>\n",
       "      <td>-166.70</td>\n",
       "      <td>46.1480</td>\n",
       "      <td>1.2175</td>\n",
       "    </tr>\n",
       "  </tbody>\n",
       "</table>\n",
       "</div>"
      ],
      "text/plain": [
       "                Cp(Btu/mol*R)  h(Btu/mol)  s(Btu/mol*R)      Pr\n",
       "Temperatura(R)                                                 \n",
       "510.0                  6.9530     -236.30       46.0130  1.1375\n",
       "519.0                  6.9539     -173.66       46.1345  1.2095\n",
       "520.0                  6.9540     -166.70       46.1480  1.2175"
      ]
     },
     "execution_count": 3,
     "metadata": {},
     "output_type": "execute_result"
    }
   ],
   "source": [
    "th.TemperaturaING(519)"
   ]
  },
  {
   "cell_type": "code",
   "execution_count": 4,
   "id": "04959252",
   "metadata": {},
   "outputs": [],
   "source": [
    "pr1=1.2095"
   ]
  },
  {
   "cell_type": "code",
   "execution_count": 5,
   "id": "c72563d9",
   "metadata": {},
   "outputs": [
    {
     "data": {
      "image/png": "[encoded data removed]",
      "text/latex": [
       "$\\displaystyle \\left[ r_{p} = \\frac{p_{r2i}}{p_{r1}}, \\  \\frac{p_{2}}{p_{1}} = \\frac{p_{r2i}}{p_{r1}}, \\  \\frac{p_{3}}{p_{4}} = \\frac{p_{r3}}{p_{r4i}}, \\  \\frac{p_{4}}{p_{5}} = \\frac{p_{r4r}}{p_{r5i}}\\right]$"
      ],
      "text/plain": [
       "⎡     pᵣ₂ᵢ  p₂   pᵣ₂ᵢ  p₃   pᵣ₃   p₄   pᵣ₄ᵣ⎤\n",
       "⎢rₚ = ────, ── = ────, ── = ────, ── = ────⎥\n",
       "⎣     pᵣ₁   p₁   pᵣ₁   p₄   pᵣ₄ᵢ  p₅   pᵣ₅ᵢ⎦"
      ]
     },
     "execution_count": 5,
     "metadata": {},
     "output_type": "execute_result"
    }
   ],
   "source": [
    "th.formulasFriccionPresiones()"
   ]
  },
  {
   "cell_type": "code",
   "execution_count": 6,
   "id": "70d0f0a6",
   "metadata": {},
   "outputs": [
    {
     "data": {
      "image/png": "[encoded data removed]",
      "text/latex": [
       "$\\displaystyle 14.514$"
      ],
      "text/plain": [
       "14.514000000000001"
      ]
     },
     "execution_count": 6,
     "metadata": {},
     "output_type": "execute_result"
    }
   ],
   "source": [
    "pr2i=pr1*p2/p1\n",
    "pr2i"
   ]
  },
  {
   "cell_type": "code",
   "execution_count": 7,
   "id": "997a87fc",
   "metadata": {},
   "outputs": [
    {
     "data": {
      "text/html": [
       "<div>\n",
       "<style scoped>\n",
       "    .dataframe tbody tr th:only-of-type {\n",
       "        vertical-align: middle;\n",
       "    }\n",
       "\n",
       "    .dataframe tbody tr th {\n",
       "        vertical-align: top;\n",
       "    }\n",
       "\n",
       "    .dataframe thead th {\n",
       "        text-align: right;\n",
       "    }\n",
       "</style>\n",
       "<table border=\"1\" class=\"dataframe\">\n",
       "  <thead>\n",
       "    <tr style=\"text-align: right;\">\n",
       "      <th></th>\n",
       "      <th>Temperatura(R)</th>\n",
       "      <th>Cp(Btu/mol*R)</th>\n",
       "      <th>h(Btu/mol)</th>\n",
       "      <th>s(Btu/mol*R)</th>\n",
       "    </tr>\n",
       "    <tr>\n",
       "      <th>Pr</th>\n",
       "      <th></th>\n",
       "      <th></th>\n",
       "      <th></th>\n",
       "      <th></th>\n",
       "    </tr>\n",
       "  </thead>\n",
       "  <tbody>\n",
       "    <tr>\n",
       "      <th>14.230</th>\n",
       "      <td>1040.000000</td>\n",
       "      <td>7.241000</td>\n",
       "      <td>3507.000000</td>\n",
       "      <td>51.033000</td>\n",
       "    </tr>\n",
       "    <tr>\n",
       "      <th>14.514</th>\n",
       "      <td>1045.546875</td>\n",
       "      <td>7.245715</td>\n",
       "      <td>3547.214844</td>\n",
       "      <td>51.071273</td>\n",
       "    </tr>\n",
       "    <tr>\n",
       "      <th>15.254</th>\n",
       "      <td>1060.000000</td>\n",
       "      <td>7.258000</td>\n",
       "      <td>3652.000000</td>\n",
       "      <td>51.171000</td>\n",
       "    </tr>\n",
       "  </tbody>\n",
       "</table>\n",
       "</div>"
      ],
      "text/plain": [
       "        Temperatura(R)  Cp(Btu/mol*R)   h(Btu/mol)  s(Btu/mol*R)\n",
       "Pr                                                              \n",
       "14.230     1040.000000       7.241000  3507.000000     51.033000\n",
       "14.514     1045.546875       7.245715  3547.214844     51.071273\n",
       "15.254     1060.000000       7.258000  3652.000000     51.171000"
      ]
     },
     "execution_count": 7,
     "metadata": {},
     "output_type": "execute_result"
    }
   ],
   "source": [
    "th.PresionRelING(pr2i)"
   ]
  },
  {
   "cell_type": "code",
   "execution_count": 8,
   "id": "453122dc",
   "metadata": {},
   "outputs": [
    {
     "data": {
      "text/html": [
       "<div>\n",
       "<style scoped>\n",
       "    .dataframe tbody tr th:only-of-type {\n",
       "        vertical-align: middle;\n",
       "    }\n",
       "\n",
       "    .dataframe tbody tr th {\n",
       "        vertical-align: top;\n",
       "    }\n",
       "\n",
       "    .dataframe thead th {\n",
       "        text-align: right;\n",
       "    }\n",
       "</style>\n",
       "<table border=\"1\" class=\"dataframe\">\n",
       "  <thead>\n",
       "    <tr style=\"text-align: right;\">\n",
       "      <th></th>\n",
       "      <th>Cp(Btu/mol*R)</th>\n",
       "      <th>h(Btu/mol)</th>\n",
       "      <th>s(Btu/mol*R)</th>\n",
       "      <th>Pr</th>\n",
       "    </tr>\n",
       "    <tr>\n",
       "      <th>Temperatura(R)</th>\n",
       "      <th></th>\n",
       "      <th></th>\n",
       "      <th></th>\n",
       "      <th></th>\n",
       "    </tr>\n",
       "  </thead>\n",
       "  <tbody>\n",
       "    <tr>\n",
       "      <th>2500.0</th>\n",
       "      <td>8.289</td>\n",
       "      <td>14942.6</td>\n",
       "      <td>57.834</td>\n",
       "      <td>436.1</td>\n",
       "    </tr>\n",
       "    <tr>\n",
       "      <th>2520.0</th>\n",
       "      <td>8.298</td>\n",
       "      <td>15108.5</td>\n",
       "      <td>57.901</td>\n",
       "      <td>450.9</td>\n",
       "    </tr>\n",
       "    <tr>\n",
       "      <th>2540.0</th>\n",
       "      <td>8.307</td>\n",
       "      <td>15274.5</td>\n",
       "      <td>57.966</td>\n",
       "      <td>466.0</td>\n",
       "    </tr>\n",
       "  </tbody>\n",
       "</table>\n",
       "</div>"
      ],
      "text/plain": [
       "                Cp(Btu/mol*R)  h(Btu/mol)  s(Btu/mol*R)     Pr\n",
       "Temperatura(R)                                                \n",
       "2500.0                  8.289     14942.6        57.834  436.1\n",
       "2520.0                  8.298     15108.5        57.901  450.9\n",
       "2540.0                  8.307     15274.5        57.966  466.0"
      ]
     },
     "execution_count": 8,
     "metadata": {},
     "output_type": "execute_result"
    }
   ],
   "source": [
    "th.TemperaturaING(2520)"
   ]
  },
  {
   "cell_type": "code",
   "execution_count": 9,
   "id": "acaa71cf",
   "metadata": {},
   "outputs": [
    {
     "data": {
      "image/png": "[encoded data removed]",
      "text/latex": [
       "$\\displaystyle \\left[ r_{p} = \\frac{p_{r2i}}{p_{r1}}, \\  \\frac{p_{2}}{p_{1}} = \\frac{p_{r2i}}{p_{r1}}, \\  \\frac{p_{3}}{p_{4}} = \\frac{p_{r3}}{p_{r4i}}, \\  \\frac{p_{4}}{p_{5}} = \\frac{p_{r4r}}{p_{r5i}}\\right]$"
      ],
      "text/plain": [
       "⎡     pᵣ₂ᵢ  p₂   pᵣ₂ᵢ  p₃   pᵣ₃   p₄   pᵣ₄ᵣ⎤\n",
       "⎢rₚ = ────, ── = ────, ── = ────, ── = ────⎥\n",
       "⎣     pᵣ₁   p₁   pᵣ₁   p₄   pᵣ₄ᵢ  p₅   pᵣ₅ᵢ⎦"
      ]
     },
     "execution_count": 9,
     "metadata": {},
     "output_type": "execute_result"
    }
   ],
   "source": [
    "th.formulasFriccionPresiones()"
   ]
  },
  {
   "cell_type": "code",
   "execution_count": 10,
   "id": "cd65c378",
   "metadata": {},
   "outputs": [
    {
     "data": {
      "image/png": "[encoded data removed]",
      "text/latex": [
       "$\\displaystyle 37.575$"
      ],
      "text/plain": [
       "37.574999999999996"
      ]
     },
     "execution_count": 10,
     "metadata": {},
     "output_type": "execute_result"
    }
   ],
   "source": [
    "pr5i=450.9*14.7/176.4\n",
    "pr5i"
   ]
  },
  {
   "cell_type": "code",
   "execution_count": 11,
   "id": "c4d404c3",
   "metadata": {},
   "outputs": [
    {
     "data": {
      "text/html": [
       "<div>\n",
       "<style scoped>\n",
       "    .dataframe tbody tr th:only-of-type {\n",
       "        vertical-align: middle;\n",
       "    }\n",
       "\n",
       "    .dataframe tbody tr th {\n",
       "        vertical-align: top;\n",
       "    }\n",
       "\n",
       "    .dataframe thead th {\n",
       "        text-align: right;\n",
       "    }\n",
       "</style>\n",
       "<table border=\"1\" class=\"dataframe\">\n",
       "  <thead>\n",
       "    <tr style=\"text-align: right;\">\n",
       "      <th></th>\n",
       "      <th>Temperatura(R)</th>\n",
       "      <th>Cp(Btu/mol*R)</th>\n",
       "      <th>h(Btu/mol)</th>\n",
       "      <th>s(Btu/mol*R)</th>\n",
       "    </tr>\n",
       "    <tr>\n",
       "      <th>Pr</th>\n",
       "      <th></th>\n",
       "      <th></th>\n",
       "      <th></th>\n",
       "      <th></th>\n",
       "    </tr>\n",
       "  </thead>\n",
       "  <tbody>\n",
       "    <tr>\n",
       "      <th>36.429</th>\n",
       "      <td>1340.000000</td>\n",
       "      <td>7.514000</td>\n",
       "      <td>5719.700000</td>\n",
       "      <td>52.901000</td>\n",
       "    </tr>\n",
       "    <tr>\n",
       "      <th>37.575</th>\n",
       "      <td>1350.909091</td>\n",
       "      <td>7.523818</td>\n",
       "      <td>5801.790909</td>\n",
       "      <td>52.962091</td>\n",
       "    </tr>\n",
       "    <tr>\n",
       "      <th>38.530</th>\n",
       "      <td>1360.000000</td>\n",
       "      <td>7.532000</td>\n",
       "      <td>5870.200000</td>\n",
       "      <td>53.013000</td>\n",
       "    </tr>\n",
       "  </tbody>\n",
       "</table>\n",
       "</div>"
      ],
      "text/plain": [
       "        Temperatura(R)  Cp(Btu/mol*R)   h(Btu/mol)  s(Btu/mol*R)\n",
       "Pr                                                              \n",
       "36.429     1340.000000       7.514000  5719.700000     52.901000\n",
       "37.575     1350.909091       7.523818  5801.790909     52.962091\n",
       "38.530     1360.000000       7.532000  5870.200000     53.013000"
      ]
     },
     "execution_count": 11,
     "metadata": {},
     "output_type": "execute_result"
    }
   ],
   "source": [
    "th.PresionRelING(pr5i)"
   ]
  },
  {
   "cell_type": "code",
   "execution_count": 12,
   "id": "92d679c3",
   "metadata": {},
   "outputs": [
    {
     "data": {
      "image/png": "[encoded data removed]",
      "text/latex": [
       "$\\displaystyle 3720.874844$"
      ],
      "text/plain": [
       "3720.874844"
      ]
     },
     "execution_count": 12,
     "metadata": {},
     "output_type": "execute_result"
    }
   ],
   "source": [
    "wci=3547.214844--173.66\n",
    "wci"
   ]
  },
  {
   "cell_type": "code",
   "execution_count": 13,
   "id": "85a3fc30",
   "metadata": {},
   "outputs": [
    {
     "data": {
      "image/png": "[encoded data removed]",
      "text/latex": [
       "$\\displaystyle 4103.20763678161$"
      ],
      "text/plain": [
       "4103.20763678161"
      ]
     },
     "execution_count": 13,
     "metadata": {},
     "output_type": "execute_result"
    }
   ],
   "source": [
    "h2r=th.eficienciaCompresor(eficCompresor=0.87,h1=-173.66, h2i=3547.214844)\n",
    "h2r"
   ]
  },
  {
   "cell_type": "code",
   "execution_count": 14,
   "id": "835e9734",
   "metadata": {},
   "outputs": [
    {
     "data": {
      "text/html": [
       "<div>\n",
       "<style scoped>\n",
       "    .dataframe tbody tr th:only-of-type {\n",
       "        vertical-align: middle;\n",
       "    }\n",
       "\n",
       "    .dataframe tbody tr th {\n",
       "        vertical-align: top;\n",
       "    }\n",
       "\n",
       "    .dataframe thead th {\n",
       "        text-align: right;\n",
       "    }\n",
       "</style>\n",
       "<table border=\"1\" class=\"dataframe\">\n",
       "  <thead>\n",
       "    <tr style=\"text-align: right;\">\n",
       "      <th></th>\n",
       "      <th>Temperatura(R)</th>\n",
       "      <th>Cp(Btu/mol*R)</th>\n",
       "      <th>s(Btu/mol*R)</th>\n",
       "      <th>Pr</th>\n",
       "    </tr>\n",
       "    <tr>\n",
       "      <th>h(Btu/mol)</th>\n",
       "      <th></th>\n",
       "      <th></th>\n",
       "      <th></th>\n",
       "      <th></th>\n",
       "    </tr>\n",
       "  </thead>\n",
       "  <tbody>\n",
       "    <tr>\n",
       "      <th>4089.100000</th>\n",
       "      <td>1120.000000</td>\n",
       "      <td>7.311000</td>\n",
       "      <td>51.572000</td>\n",
       "      <td>18.666000</td>\n",
       "    </tr>\n",
       "    <tr>\n",
       "      <th>4103.207637</th>\n",
       "      <td>1121.927273</td>\n",
       "      <td>7.312735</td>\n",
       "      <td>51.584527</td>\n",
       "      <td>18.787129</td>\n",
       "    </tr>\n",
       "    <tr>\n",
       "      <th>4235.500000</th>\n",
       "      <td>1140.000000</td>\n",
       "      <td>7.329000</td>\n",
       "      <td>51.702000</td>\n",
       "      <td>19.923000</td>\n",
       "    </tr>\n",
       "  </tbody>\n",
       "</table>\n",
       "</div>"
      ],
      "text/plain": [
       "             Temperatura(R)  Cp(Btu/mol*R)  s(Btu/mol*R)         Pr\n",
       "h(Btu/mol)                                                         \n",
       "4089.100000     1120.000000       7.311000     51.572000  18.666000\n",
       "4103.207637     1121.927273       7.312735     51.584527  18.787129\n",
       "4235.500000     1140.000000       7.329000     51.702000  19.923000"
      ]
     },
     "execution_count": 14,
     "metadata": {},
     "output_type": "execute_result"
    }
   ],
   "source": [
    "th.EntalpiaING(h2r)"
   ]
  },
  {
   "cell_type": "code",
   "execution_count": 15,
   "id": "8843f63a",
   "metadata": {},
   "outputs": [
    {
     "data": {
      "image/png": "[encoded data removed]",
      "text/latex": [
       "$\\displaystyle X_{as} = \\frac{100 \\left(- R' + S\\right)}{R'}$"
      ],
      "text/plain": [
       "      100⋅(-R' + S)\n",
       "Xₐₛ = ─────────────\n",
       "            R'     "
      ]
     },
     "execution_count": 15,
     "metadata": {},
     "output_type": "execute_result"
    }
   ],
   "source": [
    "th.excesoAire()"
   ]
  },
  {
   "cell_type": "code",
   "execution_count": 16,
   "id": "9836867d",
   "metadata": {},
   "outputs": [
    {
     "name": "stdout",
     "output_type": "stream",
     "text": [
      "La reacción general es\n",
      "C8H18 + 12.5 O2 --> 8 CO2 + 9.0 H2O\n",
      "La reacción con aire seco es\n",
      "C8H18 + 59.6659 AS --> 8 CO2 + 9.0 H2O + 59.6659 AS-12.5 O2\n",
      "\n",
      "\n",
      "Los moles para la reacción con aire seco\n",
      "\n",
      "C8H18\t1\n",
      " O2\t-12.5\n",
      " CO2\t8\n",
      " H2O\t9.0\n",
      "Aire\t59.6659\n"
     ]
    }
   ],
   "source": [
    "th.reaccionGeneral(X=8)"
   ]
  },
  {
   "cell_type": "code",
   "execution_count": 17,
   "id": "abec149d",
   "metadata": {},
   "outputs": [],
   "source": [
    "#El valor arriba es para el octano teorico, pero se necesita conocer con las temperaturas deseadas\n",
    "t2r=1121.927186 #°R Viene de la entalpia 2 real\n",
    "t3=2520  #°R"
   ]
  },
  {
   "cell_type": "code",
   "execution_count": 18,
   "id": "c3d00ac7",
   "metadata": {},
   "outputs": [
    {
     "data": {
      "text/plain": [
       "-107462"
      ]
     },
     "execution_count": 18,
     "metadata": {},
     "output_type": "execute_result"
    }
   ],
   "source": [
    "c8h18=th.moleculaEntalpia(\"c8h18\",537,1)\n",
    "c8h18"
   ]
  },
  {
   "cell_type": "code",
   "execution_count": 19,
   "id": "088e1268",
   "metadata": {},
   "outputs": [
    {
     "data": {
      "image/png": "[encoded data removed]",
      "text/latex": [
       "$\\displaystyle 4103.20700152$"
      ],
      "text/plain": [
       "4103.207001519999"
      ]
     },
     "execution_count": 19,
     "metadata": {},
     "output_type": "execute_result"
    }
   ],
   "source": [
    "aireseco1=th.moleculaEntalpia(\"aire seco\",t2r,1)\n",
    "aireseco1"
   ]
  },
  {
   "cell_type": "code",
   "execution_count": 20,
   "id": "5b1577c6",
   "metadata": {},
   "outputs": [
    {
     "data": {
      "image/png": "[encoded data removed]",
      "text/latex": [
       "$\\displaystyle -145260.6$"
      ],
      "text/plain": [
       "-145260.6"
      ]
     },
     "execution_count": 20,
     "metadata": {},
     "output_type": "execute_result"
    }
   ],
   "source": [
    "co2=th.moleculaEntalpia(\"co2\",t3,1)\n",
    "co2"
   ]
  },
  {
   "cell_type": "code",
   "execution_count": 21,
   "id": "4a0cd19e",
   "metadata": {},
   "outputs": [
    {
     "data": {
      "image/png": "[encoded data removed]",
      "text/latex": [
       "$\\displaystyle -85319.12$"
      ],
      "text/plain": [
       "-85319.12000000001"
      ]
     },
     "execution_count": 21,
     "metadata": {},
     "output_type": "execute_result"
    }
   ],
   "source": [
    "h2o=th.moleculaEntalpia(\"h2o\",t3,1)\n",
    "h2o"
   ]
  },
  {
   "cell_type": "code",
   "execution_count": 22,
   "id": "ee029765",
   "metadata": {},
   "outputs": [
    {
     "data": {
      "image/png": "[encoded data removed]",
      "text/latex": [
       "$\\displaystyle 15108.5$"
      ],
      "text/plain": [
       "15108.5"
      ]
     },
     "execution_count": 22,
     "metadata": {},
     "output_type": "execute_result"
    }
   ],
   "source": [
    "aireseco2=th.moleculaEntalpia(\"aire seco\",t3,1)\n",
    "aireseco2"
   ]
  },
  {
   "cell_type": "code",
   "execution_count": 23,
   "id": "0e23971c",
   "metadata": {},
   "outputs": [
    {
     "data": {
      "image/png": "[encoded data removed]",
      "text/latex": [
       "$\\displaystyle 15889.5$"
      ],
      "text/plain": [
       "15889.5"
      ]
     },
     "execution_count": 23,
     "metadata": {},
     "output_type": "execute_result"
    }
   ],
   "source": [
    "o2=th.moleculaEntalpia(\"o2\",t3,1)\n",
    "o2"
   ]
  },
  {
   "cell_type": "code",
   "execution_count": 24,
   "id": "3f07a596",
   "metadata": {},
   "outputs": [
    {
     "data": {
      "image/png": "[encoded data removed]",
      "text/latex": [
       "$\\displaystyle -11005.29299848$"
      ],
      "text/plain": [
       "-11005.292998480001"
      ]
     },
     "execution_count": 24,
     "metadata": {},
     "output_type": "execute_result"
    }
   ],
   "source": [
    "aireseco=aireseco1-aireseco2\n",
    "aireseco #Entalpia sin mol de aire seco"
   ]
  },
  {
   "cell_type": "code",
   "execution_count": 25,
   "id": "789c4d93",
   "metadata": {},
   "outputs": [
    {
     "data": {
      "image/png": "[encoded data removed]",
      "text/latex": [
       "$\\displaystyle -2128575.63$"
      ],
      "text/plain": [
       "-2128575.63"
      ]
     },
     "execution_count": 25,
     "metadata": {},
     "output_type": "execute_result"
    }
   ],
   "source": [
    "valsinvar=8*co2+9*h2o-12.5*o2\n",
    "valsinvar"
   ]
  },
  {
   "cell_type": "code",
   "execution_count": 26,
   "id": "34560d35",
   "metadata": {},
   "outputs": [
    {
     "data": {
      "image/png": "[encoded data removed]",
      "text/latex": [
       "$\\displaystyle -2021113.63$"
      ],
      "text/plain": [
       "-2021113.63"
      ]
     },
     "execution_count": 26,
     "metadata": {},
     "output_type": "execute_result"
    }
   ],
   "source": [
    "valsinvar=valsinvar-c8h18\n",
    "valsinvar"
   ]
  },
  {
   "cell_type": "code",
   "execution_count": 27,
   "id": "ab965d53",
   "metadata": {},
   "outputs": [
    {
     "data": {
      "image/png": "[encoded data removed]",
      "text/latex": [
       "$\\displaystyle 183.649234080287$"
      ],
      "text/plain": [
       "183.64923408028724"
      ]
     },
     "execution_count": 27,
     "metadata": {},
     "output_type": "execute_result"
    }
   ],
   "source": [
    "molaireideal=valsinvar/aireseco\n",
    "molaireideal"
   ]
  },
  {
   "cell_type": "code",
   "execution_count": 28,
   "id": "670e212e",
   "metadata": {},
   "outputs": [
    {
     "data": {
      "image/png": "[encoded data removed]",
      "text/latex": [
       "$\\displaystyle 207.795394361948$"
      ],
      "text/plain": [
       "207.795394361948"
      ]
     },
     "execution_count": 28,
     "metadata": {},
     "output_type": "execute_result"
    }
   ],
   "source": [
    "pea=th.excesoAire(suministradaReal=183.6492,suministradaTeorica=59.666) #Porcentaje de exceso de aire\n",
    "pea"
   ]
  },
  {
   "cell_type": "markdown",
   "id": "399252b5",
   "metadata": {},
   "source": [
    "Trabajo de turbina de gas"
   ]
  },
  {
   "cell_type": "code",
   "execution_count": 29,
   "id": "cdafa9a4",
   "metadata": {},
   "outputs": [
    {
     "data": {
      "image/png": "[encoded data removed]",
      "text/latex": [
       "$\\displaystyle 643834.12$"
      ],
      "text/plain": [
       "643834.1199999999"
      ]
     },
     "execution_count": 29,
     "metadata": {},
     "output_type": "execute_result"
    }
   ],
   "source": [
    "H3=8*co2+9*h2o+183.5*aireseco2-12.5*o2\n",
    "H3"
   ]
  },
  {
   "cell_type": "code",
   "execution_count": 30,
   "id": "5b451ad8",
   "metadata": {},
   "outputs": [
    {
     "data": {
      "image/png": "[encoded data removed]",
      "text/latex": [
       "$\\displaystyle \\left[ \\eta_{c} = \\frac{w_{Ci}}{w_{Cr}}, \\  \\eta_{c} = \\frac{- h_{1} + h_{2i}}{- h_{1} + h_{2r}}, \\  \\eta_{t} = \\frac{w_{TGr}}{w_{TGi}}, \\  \\eta_{t} = \\frac{h_{3} - h_{4r}}{h_{3} - h_{4i}}, \\  \\eta_{t} = \\frac{w_{TPr}}{w_{TPi}}, \\  \\eta_{t} = \\frac{h_{4r} - h_{5r}}{h_{4r} - h_{5i}}\\right]$"
      ],
      "text/plain": [
       "⎡      w_Ci        -h₁ + h₂ᵢ       w_TGr       h₃ - h₄ᵣ       w_TPr       h₄ᵣ \n",
       "⎢η_c = ────, η_c = ─────────, ηₜ = ─────, ηₜ = ────────, ηₜ = ─────, ηₜ = ────\n",
       "⎣      w_Cr        -h₁ + h₂ᵣ       w_TGi       h₃ - h₄ᵢ       w_TPi       h₄ᵣ \n",
       "\n",
       "- h₅ᵣ⎤\n",
       "─────⎥\n",
       "- h₅ᵢ⎦"
      ]
     },
     "execution_count": 30,
     "metadata": {},
     "output_type": "execute_result"
    }
   ],
   "source": [
    "th.formulasFriccion()"
   ]
  },
  {
   "cell_type": "code",
   "execution_count": 31,
   "id": "de25650a",
   "metadata": {},
   "outputs": [
    {
     "data": {
      "image/png": "[encoded data removed]",
      "text/latex": [
       "$\\displaystyle 4276.86763678161$"
      ],
      "text/plain": [
       "4276.86763678161"
      ]
     },
     "execution_count": 31,
     "metadata": {},
     "output_type": "execute_result"
    }
   ],
   "source": [
    "wcr=h2r--173.66\n",
    "wtgr=wcr\n",
    "wtgr #Tiene unidades de BTU/lb-mol de aire seco\n"
   ]
  },
  {
   "cell_type": "code",
   "execution_count": 32,
   "id": "5acd0936",
   "metadata": {},
   "outputs": [
    {
     "data": {
      "image/png": "[encoded data removed]",
      "text/latex": [
       "$\\displaystyle 784805.211349425$"
      ],
      "text/plain": [
       "784805.211349425"
      ]
     },
     "execution_count": 32,
     "metadata": {},
     "output_type": "execute_result"
    }
   ],
   "source": [
    "WTGR=wtgr*183.5 # Tiene unidades de BTU/lb-mol de combustible C8H18\n",
    "WTGR"
   ]
  },
  {
   "cell_type": "code",
   "execution_count": 33,
   "id": "bd24cdac",
   "metadata": {},
   "outputs": [
    {
     "data": {
      "image/png": "[encoded data removed]",
      "text/latex": [
       "$\\displaystyle \\left[ \\eta_{c} = \\frac{w_{Ci}}{w_{Cr}}, \\  \\eta_{c} = \\frac{- h_{1} + h_{2i}}{- h_{1} + h_{2r}}, \\  \\eta_{t} = \\frac{w_{TGr}}{w_{TGi}}, \\  \\eta_{t} = \\frac{h_{3} - h_{4r}}{h_{3} - h_{4i}}, \\  \\eta_{t} = \\frac{w_{TPr}}{w_{TPi}}, \\  \\eta_{t} = \\frac{h_{4r} - h_{5r}}{h_{4r} - h_{5i}}\\right]$"
      ],
      "text/plain": [
       "⎡      w_Ci        -h₁ + h₂ᵢ       w_TGr       h₃ - h₄ᵣ       w_TPr       h₄ᵣ \n",
       "⎢η_c = ────, η_c = ─────────, ηₜ = ─────, ηₜ = ────────, ηₜ = ─────, ηₜ = ────\n",
       "⎣      w_Cr        -h₁ + h₂ᵣ       w_TGi       h₃ - h₄ᵢ       w_TPi       h₄ᵣ \n",
       "\n",
       "- h₅ᵣ⎤\n",
       "─────⎥\n",
       "- h₅ᵢ⎦"
      ]
     },
     "execution_count": 33,
     "metadata": {},
     "output_type": "execute_result"
    }
   ],
   "source": [
    "th.formulasFriccion()"
   ]
  },
  {
   "cell_type": "code",
   "execution_count": 34,
   "id": "477d942e",
   "metadata": {},
   "outputs": [
    {
     "data": {
      "image/png": "[encoded data removed]",
      "text/latex": [
       "$\\displaystyle -140971.091349425$"
      ],
      "text/plain": [
       "-140971.091349425"
      ]
     },
     "execution_count": 34,
     "metadata": {},
     "output_type": "execute_result"
    }
   ],
   "source": [
    "H4R=H3-WTGR\n",
    "H4R"
   ]
  },
  {
   "cell_type": "code",
   "execution_count": 35,
   "id": "fe3564cd",
   "metadata": {},
   "outputs": [
    {
     "data": {
      "image/png": "[encoded data removed]",
      "text/latex": [
       "$\\displaystyle -237969.488257781$"
      ],
      "text/plain": [
       "-237969.488257781"
      ]
     },
     "execution_count": 35,
     "metadata": {},
     "output_type": "execute_result"
    }
   ],
   "source": [
    "H4I=th.eficienciaTurbinaGas(eficTurbinaGas=0.89,h3=H3,h4r=H4R)\n",
    "H4I # BTU / lbmol C8H18"
   ]
  },
  {
   "cell_type": "code",
   "execution_count": 36,
   "id": "e13ccc94",
   "metadata": {},
   "outputs": [
    {
     "data": {
      "image/png": "[encoded data removed]",
      "text/latex": [
       "$\\displaystyle 881803.608257781$"
      ],
      "text/plain": [
       "881803.608257781"
      ]
     },
     "execution_count": 36,
     "metadata": {},
     "output_type": "execute_result"
    }
   ],
   "source": [
    "wtgi=H3-H4I\n",
    "wtgi # BTU / lbmol C8H18"
   ]
  },
  {
   "cell_type": "code",
   "execution_count": 37,
   "id": "e2c12a56",
   "metadata": {},
   "outputs": [],
   "source": [
    "fi=lambda T: 8*th.moleculaEntalpia(\"CO2\",T,1)+9*th.moleculaEntalpia(\"H2O\",T,1)+183.5*th.moleculaEntalpia(\"aire seco\",T,1)-12.5*th.moleculaEntalpia(\"o2\",T,1)-H4I\n",
    "#Para temperatura ideal 4"
   ]
  },
  {
   "cell_type": "code",
   "execution_count": 38,
   "id": "90cb308d",
   "metadata": {},
   "outputs": [
    {
     "name": "stdout",
     "output_type": "stream",
     "text": [
      "-6.37383200228214e-5\n",
      "N° de iteraciones: 34\n"
     ]
    },
    {
     "data": {
      "image/png": "[encoded data removed]",
      "text/latex": [
       "$\\displaystyle 1966.71834992885$"
      ],
      "text/plain": [
       "1966.7183499288512"
      ]
     },
     "execution_count": 38,
     "metadata": {},
     "output_type": "execute_result"
    }
   ],
   "source": [
    "th.raizFuncion(fi,0.0001,1)"
   ]
  },
  {
   "cell_type": "code",
   "execution_count": 39,
   "id": "8a450c4c",
   "metadata": {},
   "outputs": [],
   "source": [
    "t4i=1967"
   ]
  },
  {
   "cell_type": "markdown",
   "id": "6f050291",
   "metadata": {},
   "source": [
    "Presión de salida de turbina generadora de gas"
   ]
  },
  {
   "cell_type": "code",
   "execution_count": 40,
   "id": "aa3e5379",
   "metadata": {},
   "outputs": [],
   "source": [
    "s = lambda T: 8*th.moleculaEntropia(\"Co2\",T,1)+9*th.moleculaEntropia(\"h2o\",T,1)+183.5*th.moleculaEntropia(\"aire seco\",T,1)-12.5*th.moleculaEntropia(\"o2\",T,1)"
   ]
  },
  {
   "cell_type": "code",
   "execution_count": 41,
   "id": "6a1a42fb",
   "metadata": {},
   "outputs": [
    {
     "data": {
      "image/png": "[encoded data removed]",
      "text/latex": [
       "$\\displaystyle 10944.3381$"
      ],
      "text/plain": [
       "10944.3381"
      ]
     },
     "execution_count": 41,
     "metadata": {},
     "output_type": "execute_result"
    }
   ],
   "source": [
    "s3=s(2520)\n",
    "s3"
   ]
  },
  {
   "cell_type": "code",
   "execution_count": 42,
   "id": "34ef4cd2",
   "metadata": {},
   "outputs": [
    {
     "data": {
      "image/png": "[encoded data removed]",
      "text/latex": [
       "$\\displaystyle 10549.61953$"
      ],
      "text/plain": [
       "10549.619530000002"
      ]
     },
     "execution_count": 42,
     "metadata": {},
     "output_type": "execute_result"
    }
   ],
   "source": [
    "s4i=s(t4i)\n",
    "s4i"
   ]
  },
  {
   "cell_type": "code",
   "execution_count": 43,
   "id": "76963cf0",
   "metadata": {},
   "outputs": [
    {
     "data": {
      "image/png": "[encoded data removed]",
      "text/latex": [
       "$\\displaystyle 188.0$"
      ],
      "text/plain": [
       "188.0"
      ]
     },
     "execution_count": 43,
     "metadata": {},
     "output_type": "execute_result"
    }
   ],
   "source": [
    "molProducto=8+9+183.5-12.5\n",
    "molProducto"
   ]
  },
  {
   "cell_type": "code",
   "execution_count": 44,
   "id": "53d24d92",
   "metadata": {},
   "outputs": [
    {
     "data": {
      "image/png": "[encoded data removed]",
      "text/latex": [
       "$\\displaystyle 61.3256499815148$"
      ],
      "text/plain": [
       "61.3256499815148"
      ]
     },
     "execution_count": 44,
     "metadata": {},
     "output_type": "execute_result"
    }
   ],
   "source": [
    "p4=th.expansionIsentropica34i(1,s3=s3,s4i=s4i,p3=176.4,molPr=molProducto)\n",
    "p4 #Presión 4"
   ]
  },
  {
   "cell_type": "code",
   "execution_count": 45,
   "id": "0f4e1320",
   "metadata": {},
   "outputs": [],
   "source": [
    "fa=lambda T: 8*th.moleculaEntalpia(\"co2\",T,1)+9*th.moleculaEntalpia(\"h2o\",T,1)+183.5*th.moleculaEntalpia(\"aire seco\",T,1)-12.5*th.moleculaEntalpia(\"o2\",T,1)-H4R\n",
    "#Para temperatura real 4"
   ]
  },
  {
   "cell_type": "code",
   "execution_count": 46,
   "id": "737ebde1",
   "metadata": {},
   "outputs": [
    {
     "name": "stdout",
     "output_type": "stream",
     "text": [
      "-5.89007977396250e-5\n",
      "N° de iteraciones: 30\n"
     ]
    },
    {
     "data": {
      "image/png": "[encoded data removed]",
      "text/latex": [
       "$\\displaystyle 2028.71180442162$"
      ],
      "text/plain": [
       "2028.7118044216186"
      ]
     },
     "execution_count": 46,
     "metadata": {},
     "output_type": "execute_result"
    }
   ],
   "source": [
    "th.raizFuncion(fa,0.0001,1)"
   ]
  },
  {
   "cell_type": "code",
   "execution_count": 47,
   "id": "c831a950",
   "metadata": {},
   "outputs": [],
   "source": [
    "t4r=2029 #R"
   ]
  },
  {
   "cell_type": "markdown",
   "id": "7bd97515",
   "metadata": {},
   "source": [
    "Turbina de potencia"
   ]
  },
  {
   "cell_type": "code",
   "execution_count": 48,
   "id": "d04a4c21",
   "metadata": {},
   "outputs": [
    {
     "data": {
      "image/png": "[encoded data removed]",
      "text/latex": [
       "$\\displaystyle 10598.220935$"
      ],
      "text/plain": [
       "10598.220935000001"
      ]
     },
     "execution_count": 48,
     "metadata": {},
     "output_type": "execute_result"
    }
   ],
   "source": [
    "s4r=s(t4r)\n",
    "s4r #Entropia 4 real"
   ]
  },
  {
   "cell_type": "code",
   "execution_count": null,
   "id": "b5015119",
   "metadata": {},
   "outputs": [],
   "source": []
  },
  {
   "cell_type": "code",
   "execution_count": 49,
   "id": "cc8f5543",
   "metadata": {},
   "outputs": [
    {
     "data": {
      "image/png": "[encoded data removed]",
      "text/latex": [
       "$\\displaystyle 10064.577128345$"
      ],
      "text/plain": [
       "10064.5771283450"
      ]
     },
     "execution_count": 49,
     "metadata": {},
     "output_type": "execute_result"
    }
   ],
   "source": [
    "s5i=th.expansionIsentropica45i(1,s4a=s4r,p4=61.33,p5=14.7,molPr=molProducto)\n",
    "s5i"
   ]
  },
  {
   "cell_type": "code",
   "execution_count": 50,
   "id": "514ffa2b",
   "metadata": {},
   "outputs": [],
   "source": [
    "f5i=lambda T: 8*th.moleculaEntropia(\"co2\",T,1)+9*th.moleculaEntropia(\"h2o\",T,1)+183.5*th.moleculaEntropia(\"aire seco\",T,1)-12.5*th.moleculaEntropia(\"o2\",T,1)-s5i"
   ]
  },
  {
   "cell_type": "code",
   "execution_count": 51,
   "id": "6efac0d7",
   "metadata": {},
   "outputs": [
    {
     "name": "stdout",
     "output_type": "stream",
     "text": [
      "1.95115335372975e-5\n",
      "N° de iteraciones: 22\n"
     ]
    },
    {
     "data": {
      "image/png": "[encoded data removed]",
      "text/latex": [
       "$\\displaystyle 1429.00003194809$"
      ],
      "text/plain": [
       "1429.0000319480896"
      ]
     },
     "execution_count": 51,
     "metadata": {},
     "output_type": "execute_result"
    }
   ],
   "source": [
    "th.raizFuncion(f5i,0.0001,1)"
   ]
  },
  {
   "cell_type": "code",
   "execution_count": 52,
   "id": "7529b648",
   "metadata": {},
   "outputs": [],
   "source": [
    "t5i=1430"
   ]
  },
  {
   "cell_type": "code",
   "execution_count": 53,
   "id": "221d53c9",
   "metadata": {},
   "outputs": [],
   "source": [
    "h=lambda T: 8*th.moleculaEntalpia(\"co2\",T,1)+9*th.moleculaEntalpia(\"h2o\",T,1)+183.5*th.moleculaEntalpia(\"aire seco\",T,1)-12.5*th.moleculaEntalpia(\"o2\",T,1)"
   ]
  },
  {
   "cell_type": "code",
   "execution_count": 54,
   "id": "d25fb63b",
   "metadata": {},
   "outputs": [
    {
     "data": {
      "image/png": "[encoded data removed]",
      "text/latex": [
       "$\\displaystyle -1054005.21$"
      ],
      "text/plain": [
       "-1054005.21"
      ]
     },
     "execution_count": 54,
     "metadata": {},
     "output_type": "execute_result"
    }
   ],
   "source": [
    "h5i=h(t5i)\n",
    "h5i"
   ]
  },
  {
   "cell_type": "code",
   "execution_count": 55,
   "id": "7fa28b25",
   "metadata": {},
   "outputs": [
    {
     "data": {
      "image/png": "[encoded data removed]",
      "text/latex": [
       "$\\displaystyle 913034.118650575$"
      ],
      "text/plain": [
       "913034.118650575"
      ]
     },
     "execution_count": 55,
     "metadata": {},
     "output_type": "execute_result"
    }
   ],
   "source": [
    "wtpi=H4R-h5i\n",
    "wtpi"
   ]
  },
  {
   "cell_type": "code",
   "execution_count": 56,
   "id": "5e8bd25d",
   "metadata": {},
   "outputs": [
    {
     "data": {
      "image/png": "[encoded data removed]",
      "text/latex": [
       "$\\displaystyle 812600.365599011$"
      ],
      "text/plain": [
       "812600.365599011"
      ]
     },
     "execution_count": 56,
     "metadata": {},
     "output_type": "execute_result"
    }
   ],
   "source": [
    "wtpr=wtpi*0.89\n",
    "wtpr #Btu/lbmolC8H18"
   ]
  },
  {
   "cell_type": "code",
   "execution_count": 57,
   "id": "49834440",
   "metadata": {},
   "outputs": [
    {
     "data": {
      "image/png": "[encoded data removed]",
      "text/latex": [
       "$\\displaystyle 4428.33986702459$"
      ],
      "text/plain": [
       "4428.33986702459"
      ]
     },
     "execution_count": 57,
     "metadata": {},
     "output_type": "execute_result"
    }
   ],
   "source": [
    "wtpra=wtpr/183.5\n",
    "wtpra #Btu/lbmolaireseco\n",
    "#TRABAJO POR MOL DE AIRE SECO"
   ]
  },
  {
   "cell_type": "code",
   "execution_count": 58,
   "id": "6b94615e",
   "metadata": {},
   "outputs": [
    {
     "data": {
      "image/png": "[encoded data removed]",
      "text/latex": [
       "$\\displaystyle -953571.456948437$"
      ],
      "text/plain": [
       "-953571.456948437"
      ]
     },
     "execution_count": 58,
     "metadata": {},
     "output_type": "execute_result"
    }
   ],
   "source": [
    "h5a=th.eficienciaTurbinaPotencia(eficTurbinaPotencia=0.89,h4r=H4R,h5i=h5i)\n",
    "h5a"
   ]
  },
  {
   "cell_type": "code",
   "execution_count": 59,
   "id": "56bd2f1d",
   "metadata": {},
   "outputs": [],
   "source": [
    "ft5a=lambda T: h(T)-h5a"
   ]
  },
  {
   "cell_type": "code",
   "execution_count": 60,
   "id": "6c077d16",
   "metadata": {},
   "outputs": [
    {
     "name": "stdout",
     "output_type": "stream",
     "text": [
      "-2.75688944384456e-5\n",
      "N° de iteraciones: 29\n"
     ]
    },
    {
     "data": {
      "image/png": "[encoded data removed]",
      "text/latex": [
       "$\\displaystyle 1497.83531455323$"
      ],
      "text/plain": [
       "1497.835314553231"
      ]
     },
     "execution_count": 60,
     "metadata": {},
     "output_type": "execute_result"
    }
   ],
   "source": [
    "th.raizFuncion(ft5a,0.0001,1)"
   ]
  },
  {
   "cell_type": "code",
   "execution_count": 61,
   "id": "6943c0e2",
   "metadata": {},
   "outputs": [],
   "source": [
    "t5a=1496"
   ]
  },
  {
   "cell_type": "code",
   "execution_count": null,
   "id": "8de8497a",
   "metadata": {},
   "outputs": [],
   "source": []
  },
  {
   "cell_type": "markdown",
   "id": "49138de2",
   "metadata": {},
   "source": [
    "Calor agregado en la cámara de combustión para eficiencia termica\n",
    "\n",
    "El calor agregado es el más bajo en calentamiento"
   ]
  },
  {
   "cell_type": "code",
   "execution_count": 62,
   "id": "29174873",
   "metadata": {},
   "outputs": [
    {
     "data": {
      "text/html": [
       "<div>\n",
       "<style scoped>\n",
       "    .dataframe tbody tr th:only-of-type {\n",
       "        vertical-align: middle;\n",
       "    }\n",
       "\n",
       "    .dataframe tbody tr th {\n",
       "        vertical-align: top;\n",
       "    }\n",
       "\n",
       "    .dataframe thead th {\n",
       "        text-align: right;\n",
       "    }\n",
       "</style>\n",
       "<table border=\"1\" class=\"dataframe\">\n",
       "  <thead>\n",
       "    <tr style=\"text-align: right;\">\n",
       "      <th></th>\n",
       "      <th>Compuesto</th>\n",
       "      <th>Btu/mol</th>\n",
       "      <th>J/mol</th>\n",
       "      <th>Peso de la formula</th>\n",
       "      <th>Estado</th>\n",
       "    </tr>\n",
       "    <tr>\n",
       "      <th>Formula</th>\n",
       "      <th></th>\n",
       "      <th></th>\n",
       "      <th></th>\n",
       "      <th></th>\n",
       "      <th></th>\n",
       "    </tr>\n",
       "  </thead>\n",
       "  <tbody>\n",
       "    <tr>\n",
       "      <th>Ar</th>\n",
       "      <td>Argón</td>\n",
       "      <td>0</td>\n",
       "      <td>0</td>\n",
       "      <td>39.9480</td>\n",
       "      <td>Gas</td>\n",
       "    </tr>\n",
       "    <tr>\n",
       "      <th>C</th>\n",
       "      <td>Carbono (grafito)</td>\n",
       "      <td>0</td>\n",
       "      <td>0</td>\n",
       "      <td>12.0112</td>\n",
       "      <td>Sólido</td>\n",
       "    </tr>\n",
       "    <tr>\n",
       "      <th>CO</th>\n",
       "      <td>Monóxido de carbono</td>\n",
       "      <td>-47517</td>\n",
       "      <td>-110525</td>\n",
       "      <td>28.0106</td>\n",
       "      <td>Gas</td>\n",
       "    </tr>\n",
       "    <tr>\n",
       "      <th>CO2</th>\n",
       "      <td>Bióxido de carbono</td>\n",
       "      <td>-169179</td>\n",
       "      <td>-393510</td>\n",
       "      <td>44.0100</td>\n",
       "      <td>Gas</td>\n",
       "    </tr>\n",
       "    <tr>\n",
       "      <th>CH4</th>\n",
       "      <td>Metano</td>\n",
       "      <td>-32162</td>\n",
       "      <td>-74809</td>\n",
       "      <td>16.0430</td>\n",
       "      <td>Gas</td>\n",
       "    </tr>\n",
       "    <tr>\n",
       "      <th>C2H6</th>\n",
       "      <td>Etano</td>\n",
       "      <td>-36408</td>\n",
       "      <td>-84685</td>\n",
       "      <td>32.0701</td>\n",
       "      <td>Gas</td>\n",
       "    </tr>\n",
       "    <tr>\n",
       "      <th>C3H8</th>\n",
       "      <td>Propano</td>\n",
       "      <td>-44647</td>\n",
       "      <td>-103849</td>\n",
       "      <td>44.0976</td>\n",
       "      <td>Gas</td>\n",
       "    </tr>\n",
       "    <tr>\n",
       "      <th>C4H10</th>\n",
       "      <td>n-butano</td>\n",
       "      <td>-63480</td>\n",
       "      <td>-147655</td>\n",
       "      <td>58.1248</td>\n",
       "      <td>Líquido</td>\n",
       "    </tr>\n",
       "    <tr>\n",
       "      <th>C7H16</th>\n",
       "      <td>n-heptano</td>\n",
       "      <td>-96471</td>\n",
       "      <td>-224392</td>\n",
       "      <td>100.2064</td>\n",
       "      <td>Líquido</td>\n",
       "    </tr>\n",
       "    <tr>\n",
       "      <th>C8H18</th>\n",
       "      <td>n-octano</td>\n",
       "      <td>-107462</td>\n",
       "      <td>-249957</td>\n",
       "      <td>114.2336</td>\n",
       "      <td>Líquido</td>\n",
       "    </tr>\n",
       "    <tr>\n",
       "      <th>H</th>\n",
       "      <td>Átomo de hidrógeno</td>\n",
       "      <td>93708</td>\n",
       "      <td>217965</td>\n",
       "      <td>1.0080</td>\n",
       "      <td>Gas</td>\n",
       "    </tr>\n",
       "    <tr>\n",
       "      <th>H2</th>\n",
       "      <td>Hidrógeno</td>\n",
       "      <td>0</td>\n",
       "      <td>0</td>\n",
       "      <td>2.0159</td>\n",
       "      <td>Gas</td>\n",
       "    </tr>\n",
       "    <tr>\n",
       "      <th>H2O</th>\n",
       "      <td>Agua</td>\n",
       "      <td>-103963</td>\n",
       "      <td>-241818</td>\n",
       "      <td>18.0153</td>\n",
       "      <td>Gas</td>\n",
       "    </tr>\n",
       "    <tr>\n",
       "      <th>He</th>\n",
       "      <td>Helio</td>\n",
       "      <td>0</td>\n",
       "      <td>0</td>\n",
       "      <td>4.0026</td>\n",
       "      <td>Gas</td>\n",
       "    </tr>\n",
       "    <tr>\n",
       "      <th>N</th>\n",
       "      <td>Átomo de nitrógeno</td>\n",
       "      <td>203226</td>\n",
       "      <td>472704</td>\n",
       "      <td>14.0067</td>\n",
       "      <td>Gas</td>\n",
       "    </tr>\n",
       "    <tr>\n",
       "      <th>N2</th>\n",
       "      <td>Nitrógeno</td>\n",
       "      <td>0</td>\n",
       "      <td>0</td>\n",
       "      <td>28.0134</td>\n",
       "      <td>Gas</td>\n",
       "    </tr>\n",
       "    <tr>\n",
       "      <th>NO</th>\n",
       "      <td>Oxido nítrico</td>\n",
       "      <td>38800</td>\n",
       "      <td>90249</td>\n",
       "      <td>30.0061</td>\n",
       "      <td>Gas</td>\n",
       "    </tr>\n",
       "    <tr>\n",
       "      <th>NO2</th>\n",
       "      <td>Bióxido de nitrógeno</td>\n",
       "      <td>14264</td>\n",
       "      <td>33178</td>\n",
       "      <td>46.0055</td>\n",
       "      <td>Gas</td>\n",
       "    </tr>\n",
       "    <tr>\n",
       "      <th>NH3</th>\n",
       "      <td>Amoniaco</td>\n",
       "      <td>-19823</td>\n",
       "      <td>-46108</td>\n",
       "      <td>17.0306</td>\n",
       "      <td>Gas</td>\n",
       "    </tr>\n",
       "    <tr>\n",
       "      <th>O</th>\n",
       "      <td>Átomo de oxígeno</td>\n",
       "      <td>107124</td>\n",
       "      <td>249170</td>\n",
       "      <td>15.9994</td>\n",
       "      <td>Gas</td>\n",
       "    </tr>\n",
       "    <tr>\n",
       "      <th>O2</th>\n",
       "      <td>Oxígeno</td>\n",
       "      <td>0</td>\n",
       "      <td>0</td>\n",
       "      <td>31.9988</td>\n",
       "      <td>Gas</td>\n",
       "    </tr>\n",
       "    <tr>\n",
       "      <th>OH</th>\n",
       "      <td>Hidróxilo</td>\n",
       "      <td>16747</td>\n",
       "      <td>38954</td>\n",
       "      <td>17.0074</td>\n",
       "      <td>Gas</td>\n",
       "    </tr>\n",
       "  </tbody>\n",
       "</table>\n",
       "</div>"
      ],
      "text/plain": [
       "                    Compuesto  Btu/mol   J/mol  Peso de la formula   Estado\n",
       "Formula                                                                    \n",
       "Ar                      Argón        0       0             39.9480      Gas\n",
       "C           Carbono (grafito)        0       0             12.0112   Sólido\n",
       "CO        Monóxido de carbono   -47517 -110525             28.0106      Gas\n",
       "CO2        Bióxido de carbono  -169179 -393510             44.0100      Gas\n",
       "CH4                    Metano   -32162  -74809             16.0430      Gas\n",
       "C2H6                    Etano   -36408  -84685             32.0701      Gas\n",
       "C3H8                  Propano   -44647 -103849             44.0976      Gas\n",
       "C4H10                n-butano   -63480 -147655             58.1248  Líquido\n",
       "C7H16               n-heptano   -96471 -224392            100.2064  Líquido\n",
       "C8H18                n-octano  -107462 -249957            114.2336  Líquido\n",
       "H          Átomo de hidrógeno    93708  217965              1.0080      Gas\n",
       "H2                  Hidrógeno        0       0              2.0159      Gas\n",
       "H2O                      Agua  -103963 -241818             18.0153      Gas\n",
       "He                      Helio        0       0              4.0026      Gas\n",
       "N          Átomo de nitrógeno   203226  472704             14.0067      Gas\n",
       "N2                  Nitrógeno        0       0             28.0134      Gas\n",
       "NO              Oxido nítrico    38800   90249             30.0061      Gas\n",
       "NO2      Bióxido de nitrógeno    14264   33178             46.0055      Gas\n",
       "NH3                  Amoniaco   -19823  -46108             17.0306      Gas\n",
       "O            Átomo de oxígeno   107124  249170             15.9994      Gas\n",
       "O2                    Oxígeno        0       0             31.9988      Gas\n",
       "OH                  Hidróxilo    16747   38954             17.0074      Gas"
      ]
     },
     "execution_count": 62,
     "metadata": {},
     "output_type": "execute_result"
    }
   ],
   "source": [
    "th.compuestosTabla"
   ]
  },
  {
   "cell_type": "code",
   "execution_count": 63,
   "id": "3b3befad",
   "metadata": {},
   "outputs": [
    {
     "data": {
      "image/png": "[encoded data removed]",
      "text/latex": [
       "$\\displaystyle 0.0214925903088142$"
      ],
      "text/plain": [
       "0.0214925903088142"
      ]
     },
     "execution_count": 63,
     "metadata": {},
     "output_type": "execute_result"
    }
   ],
   "source": [
    "relCA=th.relCombustibleAire(C=1,A=183.5,CM=114.2336,AM=th.aireSecoMol)\n",
    "relCA"
   ]
  },
  {
   "cell_type": "code",
   "execution_count": 64,
   "id": "f001da68",
   "metadata": {},
   "outputs": [
    {
     "data": {
      "image/png": "[encoded data removed]",
      "text/latex": [
       "$\\displaystyle 2183021.63164377$"
      ],
      "text/plain": [
       "2183021.6316437707"
      ]
     },
     "execution_count": 64,
     "metadata": {},
     "output_type": "execute_result"
    }
   ],
   "source": [
    "entalpiaCombustion=abs(8*th.moleculaEntalpia(\"co2\",537,1)+9*th.moleculaEntalpia(\"h2o\",537,1)-1*th.moleculaEntalpia(\"c8h18\",537,1))\n",
    "entalpiaCombustion\n",
    "#BTU/lbmolaireseco"
   ]
  },
  {
   "cell_type": "code",
   "execution_count": 65,
   "id": "50109350",
   "metadata": {},
   "outputs": [
    {
     "data": {
      "image/png": "[encoded data removed]",
      "text/latex": [
       "$\\displaystyle 410.726700061967$"
      ],
      "text/plain": [
       "410.726700061967"
      ]
     },
     "execution_count": 65,
     "metadata": {},
     "output_type": "execute_result"
    }
   ],
   "source": [
    "qagregado=relCA*entalpiaCombustion/114.2336\n",
    "qagregado #Btu/lb"
   ]
  },
  {
   "cell_type": "code",
   "execution_count": 66,
   "id": "3cfd11c9",
   "metadata": {},
   "outputs": [
    {
     "data": {
      "image/png": "[encoded data removed]",
      "text/latex": [
       "$\\displaystyle 11896.5756492848$"
      ],
      "text/plain": [
       "11896.5756492848"
      ]
     },
     "execution_count": 66,
     "metadata": {},
     "output_type": "execute_result"
    }
   ],
   "source": [
    "qaire=qagregado*th.aireSecoMol\n",
    "qaire #Btu/lbmolaireseco"
   ]
  },
  {
   "cell_type": "code",
   "execution_count": 67,
   "id": "14d04cf3",
   "metadata": {},
   "outputs": [
    {
     "data": {
      "image/png": "[encoded data removed]",
      "text/latex": [
       "$\\displaystyle 2184797.00616936$"
      ],
      "text/plain": [
       "2184797.00616936"
      ]
     },
     "execution_count": 67,
     "metadata": {},
     "output_type": "execute_result"
    }
   ],
   "source": [
    "qent=qaire*molaireideal #BTU/molc8h18\n",
    "qent"
   ]
  },
  {
   "cell_type": "markdown",
   "id": "e48bfcac",
   "metadata": {},
   "source": [
    "Finalización del programa"
   ]
  },
  {
   "cell_type": "code",
   "execution_count": 68,
   "id": "fb757b7c",
   "metadata": {},
   "outputs": [
    {
     "data": {
      "image/png": "[encoded data removed]",
      "text/latex": [
       "$\\displaystyle 0.371934034743007$"
      ],
      "text/plain": [
       "0.371934034743007"
      ]
     },
     "execution_count": 68,
     "metadata": {},
     "output_type": "execute_result"
    }
   ],
   "source": [
    "eficTerm=wtpr/qent\n",
    "eficTerm"
   ]
  },
  {
   "cell_type": "code",
   "execution_count": 69,
   "id": "91707457",
   "metadata": {},
   "outputs": [
    {
     "data": {
      "image/png": "[encoded data removed]",
      "text/latex": [
       "$\\displaystyle 216.265191541207$"
      ],
      "text/plain": [
       "216.265191541207"
      ]
     },
     "execution_count": 69,
     "metadata": {},
     "output_type": "execute_result"
    }
   ],
   "source": [
    "hp = 1*wtpra*3600/(th.aireSecoMol*2545)\n",
    "hp"
   ]
  },
  {
   "cell_type": "code",
   "execution_count": 70,
   "id": "8ae1c365",
   "metadata": {},
   "outputs": [
    {
     "data": {
      "image/png": "[encoded data removed]",
      "text/latex": [
       "$\\displaystyle 0.35806155191792$"
      ],
      "text/plain": [
       "0.358061551917920"
      ]
     },
     "execution_count": 70,
     "metadata": {},
     "output_type": "execute_result"
    }
   ],
   "source": [
    "LEC = 2545/(entalpiaCombustion/114.2336*eficTerm) #Se divide en 114.2336 para transformar a BTU/lb\n",
    "LEC"
   ]
  },
  {
   "cell_type": "code",
   "execution_count": null,
   "id": "66246532",
   "metadata": {},
   "outputs": [],
   "source": []
  }
 ],
 "metadata": {
  "kernelspec": {
   "display_name": "Python 3 (ipykernel)",
   "language": "python",
   "name": "python3"
  },
  "language_info": {
   "codemirror_mode": {
    "name": "ipython",
    "version": 3
   },
   "file_extension": ".py",
   "mimetype": "text/x-python",
   "name": "python",
   "nbconvert_exporter": "python",
   "pygments_lexer": "ipython3",
   "version": "3.10.9"
  }
 },
 "nbformat": 4,
 "nbformat_minor": 5
}
